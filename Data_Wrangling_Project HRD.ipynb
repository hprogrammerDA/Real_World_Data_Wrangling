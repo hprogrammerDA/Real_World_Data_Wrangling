{
 "cells": [
  {
   "cell_type": "markdown",
   "metadata": {
    "id": "GNIwe5N7s0e_"
   },
   "source": [
    "# Real-world Data Wrangling\n",
    "**by HRD**"
   ]
  },
  {
   "cell_type": "markdown",
   "metadata": {},
   "source": [
    "## Table of Contents\n",
    "<ul>\n",
    "<li><a href=\"#Gather Data\">1) Gather Data</a></li>\n",
    "<li><a href=\"#Assess Data\">2) Assess Data</a></li>\n",
    "<li><a href=\"#Clean Data\">3) Clean Data</a></li>\n",
    "<li><a href=\"#Update your data store\">4) Update your data store</a></li>\n",
    "<li><a href=\"#Answer the research question\">5) Answer the research question</a></li>\n",
    "</ul>"
   ]
  },
  {
   "cell_type": "markdown",
   "metadata": {
    "id": "lDYDkH-Zs7Nn"
   },
   "source": [
    "<a id='Gather Data'></a>\n",
    "## 1. Gather data"
   ]
  },
  {
   "cell_type": "markdown",
   "metadata": {
    "id": "LbN7z7rcuqpO"
   },
   "source": [
    "### **1.1.** Problem Statement\n",
    "In this project, timeseries data will be gathered from seven different data sources. The main purpose of the project is to showcase skills of data wrangling in terms of gathering, assessing and cleaning data. During the assessment stage I will assess the data for quality and structural issues to establish a cleaning strategy. The cleaning strategy will be implemented during the cleaning stage. Afterwards, all datasets will be combined and stored in a data store of choice. In the end, the research question will be answered by producing two timeseries plots. \n",
    "\n",
    "### Research question\n",
    "Are there any obvious reasons of the NOK depreciation against EUR since the year 2000?"
   ]
  },
  {
   "cell_type": "markdown",
   "metadata": {
    "id": "8AQfBAdUypMm"
   },
   "source": [
    "### **1.2.** Gather datasets\n",
    "The seven datasets of choice are gathered from various sources. \n",
    "\n",
    "### Data sources\n",
    "###### Daily Data\n",
    "* EURNOK data: https://www.investing.com/currencies/eur-nok-historical-data\n",
    "* Crude Brent Spot price (Bloomberg)\n",
    "\n",
    "###### Monthly Data\n",
    "* ECB Policy Rate data: https://data.ecb.europa.eu/main-figures/ecb-interest-rates-and-exchange-rates/key-ecb-interest-rates\n",
    "* Inflation Euro Area: https://data.ecb.europa.eu/main-figures/inflation\n",
    "* Inflation Norway: https://www.ssb.no/statbank/table/08981/tableViewLayout1/\n",
    "* Norwegian Central Bank Key Policy Rate: https://www.norges-bank.no/tema/pengepolitikk/Styringsrenten/Styringsrenten-Oversikt-over-rentemoter-og-endringer-i-styringsrenten-/\n",
    "* Daily NOK sales: https://www.norges-bank.no/en/topics/Statistics/foreign-exchange-transactions-daily/"
   ]
  },
  {
   "cell_type": "code",
   "execution_count": 2,
   "metadata": {},
   "outputs": [],
   "source": [
    "# Libraries # \n",
    "import numpy as np\n",
    "import pandas as pd\n",
    "import requests\n",
    "import zipfile\n",
    "import time\n",
    "import datetime as dt\n",
    "import json\n",
    "from csv import reader\n",
    "from bs4 import BeautifulSoup\n",
    "import seaborn as sns\n",
    "import matplotlib.pyplot as plt\n",
    "\n",
    "# Display Options # \n",
    "pd.set_option('display.max_columns', None)\n",
    "pd.options.mode.chained_assignment = None\n",
    "#pd.options.mode.chained_assignment = 'warn'"
   ]
  },
  {
   "cell_type": "markdown",
   "metadata": {},
   "source": [
    "#### **Dataset 1: EURNOK**\n",
    "\n",
    "Type: CSV \n",
    "\n",
    "Method: Download data by using open source Web API from Norges Bank\n",
    "\n",
    "About: Daily data of EURNOK spot rate for the years 2000-2023\n",
    "\n",
    "Dataset variables:\n",
    "\n",
    "*   Variable 1: FREQ\n",
    "*   Variable 2: Frekvens\n",
    "*   Variable 3: BASE_CUR\n",
    "*   Variable 5: QUOTE_CUR\n",
    "*   Variable 7: TENOR\n",
    "*   Variable 14: Innsamlingstidspunkt (Gathering date)\n",
    "*   Variable 15: TIME_PERIOD\n",
    "*   Variable 16: OBS_VALUE"
   ]
  },
  {
   "cell_type": "code",
   "execution_count": 714,
   "metadata": {},
   "outputs": [
    {
     "data": {
      "text/html": [
       "<div>\n",
       "<style scoped>\n",
       "    .dataframe tbody tr th:only-of-type {\n",
       "        vertical-align: middle;\n",
       "    }\n",
       "\n",
       "    .dataframe tbody tr th {\n",
       "        vertical-align: top;\n",
       "    }\n",
       "\n",
       "    .dataframe thead th {\n",
       "        text-align: right;\n",
       "    }\n",
       "</style>\n",
       "<table border=\"1\" class=\"dataframe\">\n",
       "  <thead>\n",
       "    <tr style=\"text-align: right;\">\n",
       "      <th></th>\n",
       "      <th>FREQ</th>\n",
       "      <th>Frekvens</th>\n",
       "      <th>BASE_CUR</th>\n",
       "      <th>Basisvaluta</th>\n",
       "      <th>QUOTE_CUR</th>\n",
       "      <th>Kvoteringsvaluta</th>\n",
       "      <th>TENOR</th>\n",
       "      <th>Løpetid</th>\n",
       "      <th>DECIMALS</th>\n",
       "      <th>CALCULATED</th>\n",
       "      <th>UNIT_MULT</th>\n",
       "      <th>Multiplikator</th>\n",
       "      <th>COLLECTION</th>\n",
       "      <th>Innsamlingstidspunkt</th>\n",
       "      <th>TIME_PERIOD</th>\n",
       "      <th>OBS_VALUE</th>\n",
       "    </tr>\n",
       "  </thead>\n",
       "  <tbody>\n",
       "    <tr>\n",
       "      <th>0</th>\n",
       "      <td>B</td>\n",
       "      <td>Virkedag</td>\n",
       "      <td>EUR</td>\n",
       "      <td>Euro</td>\n",
       "      <td>NOK</td>\n",
       "      <td>Norske kroner</td>\n",
       "      <td>SP</td>\n",
       "      <td>Spot</td>\n",
       "      <td>4</td>\n",
       "      <td>False</td>\n",
       "      <td>0</td>\n",
       "      <td>Enheter</td>\n",
       "      <td>C</td>\n",
       "      <td>ECB concertation tidspunkt 14:15 CET</td>\n",
       "      <td>2000-01-03</td>\n",
       "      <td>8,062</td>\n",
       "    </tr>\n",
       "    <tr>\n",
       "      <th>1</th>\n",
       "      <td>B</td>\n",
       "      <td>Virkedag</td>\n",
       "      <td>EUR</td>\n",
       "      <td>Euro</td>\n",
       "      <td>NOK</td>\n",
       "      <td>Norske kroner</td>\n",
       "      <td>SP</td>\n",
       "      <td>Spot</td>\n",
       "      <td>4</td>\n",
       "      <td>False</td>\n",
       "      <td>0</td>\n",
       "      <td>Enheter</td>\n",
       "      <td>C</td>\n",
       "      <td>ECB concertation tidspunkt 14:15 CET</td>\n",
       "      <td>2000-01-04</td>\n",
       "      <td>8,15</td>\n",
       "    </tr>\n",
       "  </tbody>\n",
       "</table>\n",
       "</div>"
      ],
      "text/plain": [
       "  FREQ  Frekvens BASE_CUR Basisvaluta QUOTE_CUR Kvoteringsvaluta TENOR  \\\n",
       "0    B  Virkedag      EUR        Euro       NOK    Norske kroner    SP   \n",
       "1    B  Virkedag      EUR        Euro       NOK    Norske kroner    SP   \n",
       "\n",
       "  Løpetid  DECIMALS  CALCULATED  UNIT_MULT Multiplikator COLLECTION  \\\n",
       "0    Spot         4       False          0       Enheter          C   \n",
       "1    Spot         4       False          0       Enheter          C   \n",
       "\n",
       "                   Innsamlingstidspunkt TIME_PERIOD OBS_VALUE  \n",
       "0  ECB concertation tidspunkt 14:15 CET  2000-01-03     8,062  \n",
       "1  ECB concertation tidspunkt 14:15 CET  2000-01-04      8,15  "
      ]
     },
     "execution_count": 714,
     "metadata": {},
     "output_type": "execute_result"
    }
   ],
   "source": [
    "url = 'https://data.norges-bank.no/api/data/EXR/B.EUR.NOK.SP?format=csv&startPeriod=2000-01-01&endPeriod=2023-11-13&locale=no&bom=include'\n",
    "eurnok_r = pd.read_csv(url, sep=';')\n",
    "eurnok_r.head(2)"
   ]
  },
  {
   "cell_type": "markdown",
   "metadata": {},
   "source": [
    "#### **Dataset 2: Brent Spot Price**\n",
    "\n",
    "Type: CSV File\n",
    "\n",
    "Method: Download data manually from Bloomberg\n",
    "\n",
    "About: Daily data of the Brent spot price for the years 2000-2023\n",
    "\n",
    "Dataset variables:\n",
    "\n",
    "*   Variable 1: Day\n",
    "*   Variable 2: Date\n",
    "*   Variable 3: Last px\n",
    "*   Variable 4: Open Int\n",
    "*   Variable 5: SMAVG(15)"
   ]
  },
  {
   "cell_type": "code",
   "execution_count": 715,
   "metadata": {},
   "outputs": [
    {
     "data": {
      "text/html": [
       "<div>\n",
       "<style scoped>\n",
       "    .dataframe tbody tr th:only-of-type {\n",
       "        vertical-align: middle;\n",
       "    }\n",
       "\n",
       "    .dataframe tbody tr th {\n",
       "        vertical-align: top;\n",
       "    }\n",
       "\n",
       "    .dataframe thead th {\n",
       "        text-align: right;\n",
       "    }\n",
       "</style>\n",
       "<table border=\"1\" class=\"dataframe\">\n",
       "  <thead>\n",
       "    <tr style=\"text-align: right;\">\n",
       "      <th></th>\n",
       "      <th>Day</th>\n",
       "      <th>Date</th>\n",
       "      <th>Last px</th>\n",
       "      <th>Open Int</th>\n",
       "      <th>SMAVG (15)</th>\n",
       "    </tr>\n",
       "  </thead>\n",
       "  <tbody>\n",
       "    <tr>\n",
       "      <th>0</th>\n",
       "      <td>Th</td>\n",
       "      <td>11-09-23</td>\n",
       "      <td>80.37</td>\n",
       "      <td>NaN</td>\n",
       "      <td>NaN</td>\n",
       "    </tr>\n",
       "    <tr>\n",
       "      <th>1</th>\n",
       "      <td>We</td>\n",
       "      <td>11-08-23</td>\n",
       "      <td>79.54</td>\n",
       "      <td>NaN</td>\n",
       "      <td>NaN</td>\n",
       "    </tr>\n",
       "    <tr>\n",
       "      <th>2</th>\n",
       "      <td>Tu</td>\n",
       "      <td>11-07-23</td>\n",
       "      <td>81.61</td>\n",
       "      <td>453.935k</td>\n",
       "      <td>342.812k</td>\n",
       "    </tr>\n",
       "  </tbody>\n",
       "</table>\n",
       "</div>"
      ],
      "text/plain": [
       "  Day      Date  Last px  Open Int SMAVG (15)\n",
       "0  Th  11-09-23    80.37       NaN        NaN\n",
       "1  We  11-08-23    79.54       NaN        NaN\n",
       "2  Tu  11-07-23    81.61  453.935k   342.812k"
      ]
     },
     "execution_count": 715,
     "metadata": {},
     "output_type": "execute_result"
    }
   ],
   "source": [
    "brent_r = pd.read_csv('Data/BrentSpotPrice Development 2000-2023.csv')\n",
    "brent_r.head(3)"
   ]
  },
  {
   "cell_type": "markdown",
   "metadata": {},
   "source": [
    "#### **Dataset 3: European Central Bank (ECB) Policy Rate Data**\n",
    "Type: CSV File\n",
    "\n",
    "Method: Download data manually from ECB\n",
    "\n",
    "About: ECB daily policy rate data for the years 2000-2023\n",
    "\n",
    "Dataset variables:\n",
    "\n",
    "*   Variable 1: DATE\n",
    "*   Variable 2: TIME PERIOD\n",
    "*   Variable 3: ECB Deposit Facility\n",
    "*   Variable 4: ECB Marginal lending facility\n",
    "*   Variable 5: ECB Main refinancing operations"
   ]
  },
  {
   "cell_type": "code",
   "execution_count": 716,
   "metadata": {},
   "outputs": [
    {
     "data": {
      "text/html": [
       "<div>\n",
       "<style scoped>\n",
       "    .dataframe tbody tr th:only-of-type {\n",
       "        vertical-align: middle;\n",
       "    }\n",
       "\n",
       "    .dataframe tbody tr th {\n",
       "        vertical-align: top;\n",
       "    }\n",
       "\n",
       "    .dataframe thead th {\n",
       "        text-align: right;\n",
       "    }\n",
       "</style>\n",
       "<table border=\"1\" class=\"dataframe\">\n",
       "  <thead>\n",
       "    <tr style=\"text-align: right;\">\n",
       "      <th></th>\n",
       "      <th>DATE</th>\n",
       "      <th>TIME PERIOD</th>\n",
       "      <th>ECB Deposit facility - date of changes (raw data) - Level (FM.D.U2.EUR.4F.KR.DFR.LEV)</th>\n",
       "      <th>ECB Marginal lending facility - date of changes (raw data) - Level (FM.D.U2.EUR.4F.KR.MLFR.LEV)</th>\n",
       "      <th>ECB Main refinancing operations - Minimum bid rate/fixed rate (date of changes) - Level (FM.D.U2.EUR.4F.KR.MRR_RT.LEV)</th>\n",
       "    </tr>\n",
       "  </thead>\n",
       "  <tbody>\n",
       "    <tr>\n",
       "      <th>0</th>\n",
       "      <td>1999-01-01</td>\n",
       "      <td>01 Jan 1999</td>\n",
       "      <td>2.0</td>\n",
       "      <td>4.5</td>\n",
       "      <td>3.0</td>\n",
       "    </tr>\n",
       "    <tr>\n",
       "      <th>1</th>\n",
       "      <td>1999-01-02</td>\n",
       "      <td>02 Jan 1999</td>\n",
       "      <td>2.0</td>\n",
       "      <td>4.5</td>\n",
       "      <td>3.0</td>\n",
       "    </tr>\n",
       "  </tbody>\n",
       "</table>\n",
       "</div>"
      ],
      "text/plain": [
       "         DATE  TIME PERIOD  \\\n",
       "0  1999-01-01  01 Jan 1999   \n",
       "1  1999-01-02  02 Jan 1999   \n",
       "\n",
       "   ECB Deposit facility - date of changes (raw data) - Level (FM.D.U2.EUR.4F.KR.DFR.LEV)  \\\n",
       "0                                                2.0                                       \n",
       "1                                                2.0                                       \n",
       "\n",
       "   ECB Marginal lending facility - date of changes (raw data) - Level (FM.D.U2.EUR.4F.KR.MLFR.LEV)  \\\n",
       "0                                                4.5                                                 \n",
       "1                                                4.5                                                 \n",
       "\n",
       "   ECB Main refinancing operations - Minimum bid rate/fixed rate (date of changes) - Level (FM.D.U2.EUR.4F.KR.MRR_RT.LEV)  \n",
       "0                                                3.0                                                                       \n",
       "1                                                3.0                                                                       "
      ]
     },
     "execution_count": 716,
     "metadata": {},
     "output_type": "execute_result"
    }
   ],
   "source": [
    "ecbpr_r = pd.read_csv('Data/ECB Rates 2000-2023.csv')\n",
    "ecbpr_r.head(2)"
   ]
  },
  {
   "cell_type": "markdown",
   "metadata": {},
   "source": [
    "#### **Dataset 4: Inflation Euro Area**\n",
    "Type: CSV File\n",
    "\n",
    "Method: Download data manually from ECB\n",
    "\n",
    "About: ECB monthly Inflation rate data for the years 2000-2023\n",
    "\n",
    "Dataset variables:\n",
    "\n",
    "*   Variable 1: DATE\n",
    "*   Variable 2: TIME PERIOD\n",
    "*   Variable 3-x: HICP Overall Inflation Index numbers"
   ]
  },
  {
   "cell_type": "code",
   "execution_count": 717,
   "metadata": {},
   "outputs": [
    {
     "data": {
      "text/html": [
       "<div>\n",
       "<style scoped>\n",
       "    .dataframe tbody tr th:only-of-type {\n",
       "        vertical-align: middle;\n",
       "    }\n",
       "\n",
       "    .dataframe tbody tr th {\n",
       "        vertical-align: top;\n",
       "    }\n",
       "\n",
       "    .dataframe thead th {\n",
       "        text-align: right;\n",
       "    }\n",
       "</style>\n",
       "<table border=\"1\" class=\"dataframe\">\n",
       "  <thead>\n",
       "    <tr style=\"text-align: right;\">\n",
       "      <th></th>\n",
       "      <th>DATE</th>\n",
       "      <th>TIME PERIOD</th>\n",
       "      <th>HICP - Overall index (ICP.M.AT.N.000000.4.ANR)</th>\n",
       "      <th>HICP - Overall index (ICP.M.BE.N.000000.4.ANR)</th>\n",
       "      <th>HICP - Overall index (ICP.M.CY.N.000000.4.ANR)</th>\n",
       "      <th>HICP - Overall index (ICP.M.DE.N.000000.4.ANR)</th>\n",
       "      <th>HICP - Overall index (ICP.M.EE.N.000000.4.ANR)</th>\n",
       "      <th>HICP - Overall index (ICP.M.ES.N.000000.4.ANR)</th>\n",
       "      <th>HICP - Overall index (ICP.M.FI.N.000000.4.ANR)</th>\n",
       "      <th>HICP - Overall index (ICP.M.FR.N.000000.4.ANR)</th>\n",
       "      <th>HICP - Overall index (ICP.M.GR.N.000000.4.ANR)</th>\n",
       "      <th>HICP - Overall index (ICP.M.HR.N.000000.4.ANR)</th>\n",
       "      <th>HICP - Overall index (ICP.M.IE.N.000000.4.ANR)</th>\n",
       "      <th>HICP - Overall index (ICP.M.IT.N.000000.4.ANR)</th>\n",
       "      <th>HICP - Overall index (ICP.M.LT.N.000000.4.ANR)</th>\n",
       "      <th>HICP - Overall index (ICP.M.LU.N.000000.4.ANR)</th>\n",
       "      <th>HICP - Overall index (ICP.M.LV.N.000000.4.ANR)</th>\n",
       "      <th>HICP - Overall index (ICP.M.MT.N.000000.4.ANR)</th>\n",
       "      <th>HICP - Overall index (ICP.M.NL.N.000000.4.ANR)</th>\n",
       "      <th>HICP - Overall index (ICP.M.PT.N.000000.4.ANR)</th>\n",
       "      <th>HICP - Overall index (ICP.M.SI.N.000000.4.ANR)</th>\n",
       "      <th>HICP - Overall index (ICP.M.SK.N.000000.4.ANR)</th>\n",
       "      <th>HICP - Overall index (ICP.M.U2.N.000000.4.ANR)</th>\n",
       "    </tr>\n",
       "  </thead>\n",
       "  <tbody>\n",
       "    <tr>\n",
       "      <th>0</th>\n",
       "      <td>31-01-96</td>\n",
       "      <td>1996Jan</td>\n",
       "      <td>NaN</td>\n",
       "      <td>NaN</td>\n",
       "      <td>NaN</td>\n",
       "      <td>NaN</td>\n",
       "      <td>23.4</td>\n",
       "      <td>NaN</td>\n",
       "      <td>NaN</td>\n",
       "      <td>2.0</td>\n",
       "      <td>NaN</td>\n",
       "      <td>NaN</td>\n",
       "      <td>NaN</td>\n",
       "      <td>NaN</td>\n",
       "      <td>31.5</td>\n",
       "      <td>1.0</td>\n",
       "      <td>NaN</td>\n",
       "      <td>NaN</td>\n",
       "      <td>NaN</td>\n",
       "      <td>2.5</td>\n",
       "      <td>8.4</td>\n",
       "      <td>6.4</td>\n",
       "      <td>NaN</td>\n",
       "    </tr>\n",
       "    <tr>\n",
       "      <th>1</th>\n",
       "      <td>29-02-96</td>\n",
       "      <td>1996Feb</td>\n",
       "      <td>NaN</td>\n",
       "      <td>NaN</td>\n",
       "      <td>NaN</td>\n",
       "      <td>NaN</td>\n",
       "      <td>24.0</td>\n",
       "      <td>NaN</td>\n",
       "      <td>NaN</td>\n",
       "      <td>2.1</td>\n",
       "      <td>NaN</td>\n",
       "      <td>NaN</td>\n",
       "      <td>NaN</td>\n",
       "      <td>NaN</td>\n",
       "      <td>29.3</td>\n",
       "      <td>0.9</td>\n",
       "      <td>NaN</td>\n",
       "      <td>NaN</td>\n",
       "      <td>NaN</td>\n",
       "      <td>2.5</td>\n",
       "      <td>8.4</td>\n",
       "      <td>6.2</td>\n",
       "      <td>NaN</td>\n",
       "    </tr>\n",
       "  </tbody>\n",
       "</table>\n",
       "</div>"
      ],
      "text/plain": [
       "       DATE TIME PERIOD  HICP - Overall index (ICP.M.AT.N.000000.4.ANR)  \\\n",
       "0  31-01-96     1996Jan                                             NaN   \n",
       "1  29-02-96     1996Feb                                             NaN   \n",
       "\n",
       "   HICP - Overall index (ICP.M.BE.N.000000.4.ANR)  \\\n",
       "0                                             NaN   \n",
       "1                                             NaN   \n",
       "\n",
       "   HICP - Overall index (ICP.M.CY.N.000000.4.ANR)  \\\n",
       "0                                             NaN   \n",
       "1                                             NaN   \n",
       "\n",
       "   HICP - Overall index (ICP.M.DE.N.000000.4.ANR)  \\\n",
       "0                                             NaN   \n",
       "1                                             NaN   \n",
       "\n",
       "   HICP - Overall index (ICP.M.EE.N.000000.4.ANR)  \\\n",
       "0                                            23.4   \n",
       "1                                            24.0   \n",
       "\n",
       "   HICP - Overall index (ICP.M.ES.N.000000.4.ANR)  \\\n",
       "0                                             NaN   \n",
       "1                                             NaN   \n",
       "\n",
       "   HICP - Overall index (ICP.M.FI.N.000000.4.ANR)  \\\n",
       "0                                             NaN   \n",
       "1                                             NaN   \n",
       "\n",
       "   HICP - Overall index (ICP.M.FR.N.000000.4.ANR)  \\\n",
       "0                                             2.0   \n",
       "1                                             2.1   \n",
       "\n",
       "   HICP - Overall index (ICP.M.GR.N.000000.4.ANR)  \\\n",
       "0                                             NaN   \n",
       "1                                             NaN   \n",
       "\n",
       "   HICP - Overall index (ICP.M.HR.N.000000.4.ANR)  \\\n",
       "0                                             NaN   \n",
       "1                                             NaN   \n",
       "\n",
       "   HICP - Overall index (ICP.M.IE.N.000000.4.ANR)  \\\n",
       "0                                             NaN   \n",
       "1                                             NaN   \n",
       "\n",
       "   HICP - Overall index (ICP.M.IT.N.000000.4.ANR)  \\\n",
       "0                                             NaN   \n",
       "1                                             NaN   \n",
       "\n",
       "   HICP - Overall index (ICP.M.LT.N.000000.4.ANR)  \\\n",
       "0                                            31.5   \n",
       "1                                            29.3   \n",
       "\n",
       "   HICP - Overall index (ICP.M.LU.N.000000.4.ANR)  \\\n",
       "0                                             1.0   \n",
       "1                                             0.9   \n",
       "\n",
       "   HICP - Overall index (ICP.M.LV.N.000000.4.ANR)  \\\n",
       "0                                             NaN   \n",
       "1                                             NaN   \n",
       "\n",
       "   HICP - Overall index (ICP.M.MT.N.000000.4.ANR)  \\\n",
       "0                                             NaN   \n",
       "1                                             NaN   \n",
       "\n",
       "   HICP - Overall index (ICP.M.NL.N.000000.4.ANR)  \\\n",
       "0                                             NaN   \n",
       "1                                             NaN   \n",
       "\n",
       "   HICP - Overall index (ICP.M.PT.N.000000.4.ANR)  \\\n",
       "0                                             2.5   \n",
       "1                                             2.5   \n",
       "\n",
       "   HICP - Overall index (ICP.M.SI.N.000000.4.ANR)  \\\n",
       "0                                             8.4   \n",
       "1                                             8.4   \n",
       "\n",
       "   HICP - Overall index (ICP.M.SK.N.000000.4.ANR)  \\\n",
       "0                                             6.4   \n",
       "1                                             6.2   \n",
       "\n",
       "   HICP - Overall index (ICP.M.U2.N.000000.4.ANR)  \n",
       "0                                             NaN  \n",
       "1                                             NaN  "
      ]
     },
     "execution_count": 717,
     "metadata": {},
     "output_type": "execute_result"
    }
   ],
   "source": [
    "ecbi_r = pd.read_csv('Data/ECB Inflation 2000-2023.csv')\n",
    "ecbi_r.head(2)"
   ]
  },
  {
   "cell_type": "markdown",
   "metadata": {},
   "source": [
    "#### **Dataset 5: Inflation in Norway (Consumer Price Index)**\n",
    "Type: CSV File\n",
    "\n",
    "Method: Download data from SSB with open-source API\n",
    "\n",
    "About: Norway monthly inflation data for the years 2000-2023\n",
    "\n",
    "Dataset variables:\n",
    "\n",
    "*   Variable 1: consumption group\n",
    "*   Variable 2: month (year-month)\n",
    "*   Variable 3: contents\n",
    "*   Variable 4: 03013: Consuer Price Index, by consumption group, month and contents"
   ]
  },
  {
   "cell_type": "code",
   "execution_count": 718,
   "metadata": {},
   "outputs": [
    {
     "data": {
      "text/html": [
       "<div>\n",
       "<style scoped>\n",
       "    .dataframe tbody tr th:only-of-type {\n",
       "        vertical-align: middle;\n",
       "    }\n",
       "\n",
       "    .dataframe tbody tr th {\n",
       "        vertical-align: top;\n",
       "    }\n",
       "\n",
       "    .dataframe thead th {\n",
       "        text-align: right;\n",
       "    }\n",
       "</style>\n",
       "<table border=\"1\" class=\"dataframe\">\n",
       "  <thead>\n",
       "    <tr style=\"text-align: right;\">\n",
       "      <th></th>\n",
       "      <th>consumption group</th>\n",
       "      <th>month</th>\n",
       "      <th>contents</th>\n",
       "      <th>03013: Consumer Price Index, by consumption group, month and contents</th>\n",
       "    </tr>\n",
       "  </thead>\n",
       "  <tbody>\n",
       "    <tr>\n",
       "      <th>0</th>\n",
       "      <td>TOTAL All-item index</td>\n",
       "      <td>1979M01</td>\n",
       "      <td>Consumer Price Index (2015=100)</td>\n",
       "      <td>25.3</td>\n",
       "    </tr>\n",
       "    <tr>\n",
       "      <th>1</th>\n",
       "      <td>TOTAL All-item index</td>\n",
       "      <td>1979M01</td>\n",
       "      <td>Monthly change (per cent)</td>\n",
       "      <td>0.0</td>\n",
       "    </tr>\n",
       "    <tr>\n",
       "      <th>2</th>\n",
       "      <td>TOTAL All-item index</td>\n",
       "      <td>1979M01</td>\n",
       "      <td>12-month rate (per cent)</td>\n",
       "      <td>5.9</td>\n",
       "    </tr>\n",
       "    <tr>\n",
       "      <th>3</th>\n",
       "      <td>TOTAL All-item index</td>\n",
       "      <td>1979M02</td>\n",
       "      <td>Consumer Price Index (2015=100)</td>\n",
       "      <td>25.4</td>\n",
       "    </tr>\n",
       "    <tr>\n",
       "      <th>4</th>\n",
       "      <td>TOTAL All-item index</td>\n",
       "      <td>1979M02</td>\n",
       "      <td>Monthly change (per cent)</td>\n",
       "      <td>0.4</td>\n",
       "    </tr>\n",
       "  </tbody>\n",
       "</table>\n",
       "</div>"
      ],
      "text/plain": [
       "      consumption group    month                         contents  \\\n",
       "0  TOTAL All-item index  1979M01  Consumer Price Index (2015=100)   \n",
       "1  TOTAL All-item index  1979M01        Monthly change (per cent)   \n",
       "2  TOTAL All-item index  1979M01         12-month rate (per cent)   \n",
       "3  TOTAL All-item index  1979M02  Consumer Price Index (2015=100)   \n",
       "4  TOTAL All-item index  1979M02        Monthly change (per cent)   \n",
       "\n",
       "   03013: Consumer Price Index, by consumption group, month and contents  \n",
       "0                                               25.3                      \n",
       "1                                                0.0                      \n",
       "2                                                5.9                      \n",
       "3                                               25.4                      \n",
       "4                                                0.4                      "
      ]
     },
     "execution_count": 718,
     "metadata": {},
     "output_type": "execute_result"
    }
   ],
   "source": [
    "norcpi_r = pd.read_csv(\"https://data.ssb.no/api/v0/dataset/1086.csv?lang=en\", encoding = \"ISO-8859-1\")\n",
    "norcpi_r.head()"
   ]
  },
  {
   "cell_type": "markdown",
   "metadata": {},
   "source": [
    "#### **Dataset 6: Norwegian Central Bank Key Policy Rate Data**\n",
    "Type: CSV \n",
    "\n",
    "Method: Download data from Norges Bank with REST API\n",
    "\n",
    "About: Norway key policy rate data for the years 2000-2023\n",
    "\n",
    "Dataset variables:\n",
    "\n",
    "*   Variable 1: FREQ\n",
    "* ...\n",
    "* Variable 13: TIME_PERIOD\n",
    "* Variable 14: OBS_VALUE"
   ]
  },
  {
   "cell_type": "code",
   "execution_count": 719,
   "metadata": {},
   "outputs": [
    {
     "data": {
      "text/html": [
       "<div>\n",
       "<style scoped>\n",
       "    .dataframe tbody tr th:only-of-type {\n",
       "        vertical-align: middle;\n",
       "    }\n",
       "\n",
       "    .dataframe tbody tr th {\n",
       "        vertical-align: top;\n",
       "    }\n",
       "\n",
       "    .dataframe thead th {\n",
       "        text-align: right;\n",
       "    }\n",
       "</style>\n",
       "<table border=\"1\" class=\"dataframe\">\n",
       "  <thead>\n",
       "    <tr style=\"text-align: right;\">\n",
       "      <th></th>\n",
       "      <th>FREQ</th>\n",
       "      <th>Frekvens</th>\n",
       "      <th>INSTRUMENT_TYPE</th>\n",
       "      <th>Instrumenttype</th>\n",
       "      <th>TENOR</th>\n",
       "      <th>Løpetid</th>\n",
       "      <th>UNIT_MEASURE</th>\n",
       "      <th>Måleenhet</th>\n",
       "      <th>DECIMALS</th>\n",
       "      <th>COLLECTION</th>\n",
       "      <th>Innsamlingstidspunkt</th>\n",
       "      <th>TIME_PERIOD</th>\n",
       "      <th>OBS_VALUE</th>\n",
       "      <th>CALC_METHOD</th>\n",
       "      <th>Calculation Method</th>\n",
       "    </tr>\n",
       "  </thead>\n",
       "  <tbody>\n",
       "    <tr>\n",
       "      <th>5999</th>\n",
       "      <td>B</td>\n",
       "      <td>Virkedag</td>\n",
       "      <td>KPRA</td>\n",
       "      <td>Styringsrenten</td>\n",
       "      <td>SD</td>\n",
       "      <td>Foliorenten</td>\n",
       "      <td>R</td>\n",
       "      <td>Rente</td>\n",
       "      <td>2</td>\n",
       "      <td>E</td>\n",
       "      <td>Slutten av dagen</td>\n",
       "      <td>2023-11-07</td>\n",
       "      <td>4,25</td>\n",
       "      <td>NaN</td>\n",
       "      <td>NaN</td>\n",
       "    </tr>\n",
       "    <tr>\n",
       "      <th>6000</th>\n",
       "      <td>B</td>\n",
       "      <td>Virkedag</td>\n",
       "      <td>KPRA</td>\n",
       "      <td>Styringsrenten</td>\n",
       "      <td>SD</td>\n",
       "      <td>Foliorenten</td>\n",
       "      <td>R</td>\n",
       "      <td>Rente</td>\n",
       "      <td>2</td>\n",
       "      <td>E</td>\n",
       "      <td>Slutten av dagen</td>\n",
       "      <td>2023-11-08</td>\n",
       "      <td>4,25</td>\n",
       "      <td>NaN</td>\n",
       "      <td>NaN</td>\n",
       "    </tr>\n",
       "    <tr>\n",
       "      <th>6001</th>\n",
       "      <td>B</td>\n",
       "      <td>Virkedag</td>\n",
       "      <td>KPRA</td>\n",
       "      <td>Styringsrenten</td>\n",
       "      <td>SD</td>\n",
       "      <td>Foliorenten</td>\n",
       "      <td>R</td>\n",
       "      <td>Rente</td>\n",
       "      <td>2</td>\n",
       "      <td>E</td>\n",
       "      <td>Slutten av dagen</td>\n",
       "      <td>2023-11-09</td>\n",
       "      <td>4,25</td>\n",
       "      <td>NaN</td>\n",
       "      <td>NaN</td>\n",
       "    </tr>\n",
       "    <tr>\n",
       "      <th>6002</th>\n",
       "      <td>B</td>\n",
       "      <td>Virkedag</td>\n",
       "      <td>KPRA</td>\n",
       "      <td>Styringsrenten</td>\n",
       "      <td>SD</td>\n",
       "      <td>Foliorenten</td>\n",
       "      <td>R</td>\n",
       "      <td>Rente</td>\n",
       "      <td>2</td>\n",
       "      <td>E</td>\n",
       "      <td>Slutten av dagen</td>\n",
       "      <td>2023-11-10</td>\n",
       "      <td>4,25</td>\n",
       "      <td>NaN</td>\n",
       "      <td>NaN</td>\n",
       "    </tr>\n",
       "    <tr>\n",
       "      <th>6003</th>\n",
       "      <td>B</td>\n",
       "      <td>Virkedag</td>\n",
       "      <td>KPRA</td>\n",
       "      <td>Styringsrenten</td>\n",
       "      <td>SD</td>\n",
       "      <td>Foliorenten</td>\n",
       "      <td>R</td>\n",
       "      <td>Rente</td>\n",
       "      <td>2</td>\n",
       "      <td>E</td>\n",
       "      <td>Slutten av dagen</td>\n",
       "      <td>2023-11-13</td>\n",
       "      <td>4,25</td>\n",
       "      <td>NaN</td>\n",
       "      <td>NaN</td>\n",
       "    </tr>\n",
       "  </tbody>\n",
       "</table>\n",
       "</div>"
      ],
      "text/plain": [
       "     FREQ  Frekvens INSTRUMENT_TYPE  Instrumenttype TENOR      Løpetid  \\\n",
       "5999    B  Virkedag            KPRA  Styringsrenten    SD  Foliorenten   \n",
       "6000    B  Virkedag            KPRA  Styringsrenten    SD  Foliorenten   \n",
       "6001    B  Virkedag            KPRA  Styringsrenten    SD  Foliorenten   \n",
       "6002    B  Virkedag            KPRA  Styringsrenten    SD  Foliorenten   \n",
       "6003    B  Virkedag            KPRA  Styringsrenten    SD  Foliorenten   \n",
       "\n",
       "     UNIT_MEASURE Måleenhet  DECIMALS COLLECTION Innsamlingstidspunkt  \\\n",
       "5999            R     Rente         2          E     Slutten av dagen   \n",
       "6000            R     Rente         2          E     Slutten av dagen   \n",
       "6001            R     Rente         2          E     Slutten av dagen   \n",
       "6002            R     Rente         2          E     Slutten av dagen   \n",
       "6003            R     Rente         2          E     Slutten av dagen   \n",
       "\n",
       "     TIME_PERIOD OBS_VALUE  CALC_METHOD  Calculation Method  \n",
       "5999  2023-11-07      4,25          NaN                 NaN  \n",
       "6000  2023-11-08      4,25          NaN                 NaN  \n",
       "6001  2023-11-09      4,25          NaN                 NaN  \n",
       "6002  2023-11-10      4,25          NaN                 NaN  \n",
       "6003  2023-11-13      4,25          NaN                 NaN  "
      ]
     },
     "execution_count": 719,
     "metadata": {},
     "output_type": "execute_result"
    }
   ],
   "source": [
    "url = 'https://data.norges-bank.no/api/data/IR/B.KPRA.SD.R?format=csv&startPeriod=2000-01-01&endPeriod=2023-11-13&locale=no&bom=include'\n",
    "nbpr_r = pd.read_csv(url, sep=';')\n",
    "nbpr_r.tail()"
   ]
  },
  {
   "cell_type": "markdown",
   "metadata": {},
   "source": [
    "#### **Dataset 7: Daily NOK Sales by the Norwegian Central Bank**\n",
    "Type: Web-scraping \n",
    "\n",
    "Method: Download data from Norges Bank by web-scraping\n",
    "\n",
    "About: Monthly NOK sales by Norges bank for the years 2000-2023 (sales daily on fixed amount)\n",
    "\n",
    "Dataset variables:\n",
    "\n",
    "*   Variable 1: FREQ\n",
    "* ...\n",
    "* Variable 13: TIME_PERIOD\n",
    "* Variable 14: OBS_VALUE"
   ]
  },
  {
   "cell_type": "code",
   "execution_count": 207,
   "metadata": {},
   "outputs": [
    {
     "name": "stdout",
     "output_type": "stream",
     "text": [
      "          <caption>\n",
      "           Foreign exchange transactions - In millions of NOK\n",
      "          </caption>\n",
      "          <thead>\n",
      "           <tr>\n",
      "            <th align=\"center\" scope=\"col\">\n",
      "            </th>\n",
      "            <th align=\"center\" scope=\"col\">\n",
      "             Jan\n",
      "            </th>\n",
      "            <th align=\"center\" scope=\"col\">\n",
      "             Feb\n",
      "            </th>\n",
      "            <th align=\"center\" scope=\"col\">\n",
      "             Mar\n",
      "            </th>\n",
      "            <th align=\"center\" scope=\"col\">\n",
      "             Apr\n",
      "            </th>\n",
      "            <th align=\"center\" scope=\"col\">\n",
      "             May\n",
      "            </th>\n",
      "            <th align=\"center\" scope=\"col\">\n",
      "             Jun\n",
      "            </th>\n",
      "            <th align=\"center\" scope=\"col\">\n",
      "             Jul\n",
      "            </th>\n",
      "            <th align=\"center\" scope=\"col\">\n",
      "             Aug\n",
      "            </th>\n",
      "            <th align=\"center\" scope=\"col\">\n",
      "             Sep\n",
      "            </th>\n",
      "            <th align=\"center\" scope=\"col\">\n",
      "             Oct\n",
      "            </th>\n",
      "            <th align=\"center\" scope=\"col\">\n",
      "             Nov\n",
      "            </th>\n",
      "            <th align=\"center\" scope=\"col\">\n",
      "             Dec\n",
      "            </th>\n",
      "           </tr>\n",
      "          </thead>\n",
      "          <tbody>\n",
      "           <tr>\n",
      "            <th scope=\"row\">\n",
      "             2023\n",
      "            </th>\n",
      "            <td align=\"right\">\n",
      "             1500\n",
      "            </td>\n",
      "            <td align=\"right\">\n",
      "             1900\n",
      "            </td>\n",
      "            <td align=\"right\">\n",
      "             1700\n",
      "            </td>\n",
      "            <td align=\"right\">\n"
     ]
    }
   ],
   "source": [
    "url = 'https://www.norges-bank.no/en/topics/Statistics/foreign-exchange-transactions-daily/'\n",
    "response = requests.get(url)\n",
    "with open('NOK_Sales.html', 'wb') as file:\n",
    "    file.write(response.content)\n",
    "\n",
    "soup = BeautifulSoup(response.content, 'html.parser')\n",
    "result = soup.prettify().splitlines()\n",
    "print('\\n'.join(result[250:310]))"
   ]
  },
  {
   "cell_type": "code",
   "execution_count": 721,
   "metadata": {},
   "outputs": [
    {
     "name": "stdout",
     "output_type": "stream",
     "text": [
      "[['Jan', 'Feb', 'Mar', 'Apr', 'May', 'Jun', 'Jul', 'Aug', 'Sep', 'Oct', 'Nov', 'Dec'], ['1500', '1900', '1700', '1500', '1400', '1300', '1000', '1000', '1100', '1200', '1400'], ['-250', '0', '0', '2000', '2000', '1500', '1500', '1500', '3500', '4300', '3700', '1900'], ['-800', '-1700', '-1700', '-1800', '-1800', '-1700', '-1700', '-1700', '-1700', '-1700', '-700 *\\n                \\nSe annotasjon', '0'], ['-500', '-500', '-500 *\\n                \\nSe annotasjon', '-2000', '-2100', '-2300', '-2500', '-2000', '-2000', '-1600', '-1600 *\\n                \\nSe annotasjon', '-500'], ['-350', '-450', '-600', '-600', '-600', '-600', '-600', '-500', '-700', '-700', '-700', '-700'], ['-900', '-900', '-800', '-800', '-800', '-750', '-600', '-600', '-450', '-450', '-350', '-350'], ['-1000', '-1000', '-850', '-850', '-850', '-850', '-850', '-850', '-650', '-650', '-650', '-900'], ['-500', '-900', '-900', '-900', '-900', '-900', '-900', '-900', '-900', '-900', '-900', '-900'], ['-500', '-700', '-700', '-700', '-700', '-700', '-700', '-700', '-700', '-700', '-700', '-600'], ['0', '0', '0', '0', '0', '0', '0', '0', '0', '-250', '-250', '-300'], ['300', '300', '300', '300', '300', '200', '200', '200', '100', '100', '0', '0'], ['350', '350', '350', '350', '350', '350', '350', '350', '500', '500', '0', '0'], ['0', '0', '0', '0', '300', '400', '400', '400', '500', '550', '1600', '0'], ['0', '0', '0', '0', '0', '0', '0', '135', '470', '600', '800', '0'], ['0', '150', '0', '0', '0', '200', '300', '500', '0', '0', '0', '0'], ['420', '600', '460', '450', '500', '800', '960', '970', '1540', '1400 *\\n                \\nSe annotasjon', '300', '0'], ['570', '490', '550', '670', '540', '400', '670', '470', '730', '880', '1250', '0'], ['270', '190', '280', '310', '570', '570', '500', '410', '850', '890', '910', '0'], ['0', '0', '0', '320', '470', '360', '360', '510', '580', '740', '1000', '0'], ['0', '0', '0', '0', '0', '0', '300', '150', '630', '430', '640', '0'], ['150', '150', '170', '170', '130 *\\n                \\nSe annotasjon', '0', '0', '0', '0', '0', '0', '0'], ['180', '180', '225', '225', '300', '300', '250', '250', '250', '200', '200', '185'], ['370', '400', '400', '430', '440', '460', '550', '550', '640', '640', '640', '220'], ['130', '150', '190', '190', '160', '190', '190', '190', '200', '290', '350', '370']]\n"
     ]
    }
   ],
   "source": [
    "# Parse table elements from the web scraped output # \n",
    "table = soup.find('table')\n",
    "data = []\n",
    "for row in table.find_all('tr'):\n",
    "   cols = row.find_all('td')\n",
    "   if len(cols) == 0:\n",
    "       cols = row.find_all('th')\n",
    "   cols = [i.text.strip() for i in cols]\n",
    "   data.append([i for i in cols if i])  # Get rid of empty values\n",
    "print(data)"
   ]
  },
  {
   "cell_type": "code",
   "execution_count": 722,
   "metadata": {},
   "outputs": [],
   "source": [
    "# Let's convert the messy data to a pandas dataframe # \n",
    "headers = data.pop(0)\n",
    "noksales_r = pd.DataFrame(data, columns=headers)\n",
    "years = range(2023, 1999, -1)\n",
    "noksales_r.index = years"
   ]
  },
  {
   "cell_type": "code",
   "execution_count": 723,
   "metadata": {},
   "outputs": [
    {
     "data": {
      "text/html": [
       "<div>\n",
       "<style scoped>\n",
       "    .dataframe tbody tr th:only-of-type {\n",
       "        vertical-align: middle;\n",
       "    }\n",
       "\n",
       "    .dataframe tbody tr th {\n",
       "        vertical-align: top;\n",
       "    }\n",
       "\n",
       "    .dataframe thead th {\n",
       "        text-align: right;\n",
       "    }\n",
       "</style>\n",
       "<table border=\"1\" class=\"dataframe\">\n",
       "  <thead>\n",
       "    <tr style=\"text-align: right;\">\n",
       "      <th></th>\n",
       "      <th>Jan</th>\n",
       "      <th>Feb</th>\n",
       "      <th>Mar</th>\n",
       "      <th>Apr</th>\n",
       "      <th>May</th>\n",
       "      <th>Jun</th>\n",
       "      <th>Jul</th>\n",
       "      <th>Aug</th>\n",
       "      <th>Sep</th>\n",
       "      <th>Oct</th>\n",
       "      <th>Nov</th>\n",
       "      <th>Dec</th>\n",
       "    </tr>\n",
       "  </thead>\n",
       "  <tbody>\n",
       "    <tr>\n",
       "      <th>2023</th>\n",
       "      <td>1500</td>\n",
       "      <td>1900</td>\n",
       "      <td>1700</td>\n",
       "      <td>1500</td>\n",
       "      <td>1400</td>\n",
       "      <td>1300</td>\n",
       "      <td>1000</td>\n",
       "      <td>1000</td>\n",
       "      <td>1100</td>\n",
       "      <td>1200</td>\n",
       "      <td>1400</td>\n",
       "      <td>None</td>\n",
       "    </tr>\n",
       "    <tr>\n",
       "      <th>2022</th>\n",
       "      <td>-250</td>\n",
       "      <td>0</td>\n",
       "      <td>0</td>\n",
       "      <td>2000</td>\n",
       "      <td>2000</td>\n",
       "      <td>1500</td>\n",
       "      <td>1500</td>\n",
       "      <td>1500</td>\n",
       "      <td>3500</td>\n",
       "      <td>4300</td>\n",
       "      <td>3700</td>\n",
       "      <td>1900</td>\n",
       "    </tr>\n",
       "    <tr>\n",
       "      <th>2021</th>\n",
       "      <td>-800</td>\n",
       "      <td>-1700</td>\n",
       "      <td>-1700</td>\n",
       "      <td>-1800</td>\n",
       "      <td>-1800</td>\n",
       "      <td>-1700</td>\n",
       "      <td>-1700</td>\n",
       "      <td>-1700</td>\n",
       "      <td>-1700</td>\n",
       "      <td>-1700</td>\n",
       "      <td>-700 *\\n                \\nSe annotasjon</td>\n",
       "      <td>0</td>\n",
       "    </tr>\n",
       "    <tr>\n",
       "      <th>2020</th>\n",
       "      <td>-500</td>\n",
       "      <td>-500</td>\n",
       "      <td>-500 *\\n                \\nSe annotasjon</td>\n",
       "      <td>-2000</td>\n",
       "      <td>-2100</td>\n",
       "      <td>-2300</td>\n",
       "      <td>-2500</td>\n",
       "      <td>-2000</td>\n",
       "      <td>-2000</td>\n",
       "      <td>-1600</td>\n",
       "      <td>-1600 *\\n                \\nSe annotasjon</td>\n",
       "      <td>-500</td>\n",
       "    </tr>\n",
       "    <tr>\n",
       "      <th>2019</th>\n",
       "      <td>-350</td>\n",
       "      <td>-450</td>\n",
       "      <td>-600</td>\n",
       "      <td>-600</td>\n",
       "      <td>-600</td>\n",
       "      <td>-600</td>\n",
       "      <td>-600</td>\n",
       "      <td>-500</td>\n",
       "      <td>-700</td>\n",
       "      <td>-700</td>\n",
       "      <td>-700</td>\n",
       "      <td>-700</td>\n",
       "    </tr>\n",
       "  </tbody>\n",
       "</table>\n",
       "</div>"
      ],
      "text/plain": [
       "       Jan    Feb                                      Mar    Apr    May  \\\n",
       "2023  1500   1900                                     1700   1500   1400   \n",
       "2022  -250      0                                        0   2000   2000   \n",
       "2021  -800  -1700                                    -1700  -1800  -1800   \n",
       "2020  -500   -500  -500 *\\n                \\nSe annotasjon  -2000  -2100   \n",
       "2019  -350   -450                                     -600   -600   -600   \n",
       "\n",
       "        Jun    Jul    Aug    Sep    Oct  \\\n",
       "2023   1300   1000   1000   1100   1200   \n",
       "2022   1500   1500   1500   3500   4300   \n",
       "2021  -1700  -1700  -1700  -1700  -1700   \n",
       "2020  -2300  -2500  -2000  -2000  -1600   \n",
       "2019   -600   -600   -500   -700   -700   \n",
       "\n",
       "                                           Nov   Dec  \n",
       "2023                                      1400  None  \n",
       "2022                                      3700  1900  \n",
       "2021   -700 *\\n                \\nSe annotasjon     0  \n",
       "2020  -1600 *\\n                \\nSe annotasjon  -500  \n",
       "2019                                      -700  -700  "
      ]
     },
     "execution_count": 723,
     "metadata": {},
     "output_type": "execute_result"
    }
   ],
   "source": [
    "noksales_r.head()"
   ]
  },
  {
   "cell_type": "code",
   "execution_count": 724,
   "metadata": {},
   "outputs": [],
   "source": [
    "# Saving our data to csv # \n",
    "eurnok_r.to_csv('Data/eurnok.csv')\n",
    "brent_r.to_csv('Data/brent.csv')\n",
    "ecbpr_r.to_csv('Data/ecbpr.csv')\n",
    "ecbi_r.to_csv('Data/ecbi.csv')\n",
    "norcpi_r.to_csv('Data/norcpi.csv')\n",
    "nbpr_r.to_csv('Data/nbpr.csv')\n",
    "noksales_r.to_csv('Data/noksales.csv')"
   ]
  },
  {
   "cell_type": "code",
   "execution_count": 3,
   "metadata": {},
   "outputs": [],
   "source": [
    "# loading our gathered data into the environment # \n",
    "eurnok_r = pd.read_csv('Data/eurnok.csv')\n",
    "brent_r = pd.read_csv('Data/brent.csv')\n",
    "ecbpr_r = pd.read_csv('Data/ecbpr.csv')\n",
    "ecbi_r = pd.read_csv('Data/ecbi.csv')\n",
    "norcpi_r = pd.read_csv('Data/norcpi.csv')\n",
    "nbpr_r = pd.read_csv('Data/nbpr.csv')\n",
    "noksales_r = pd.read_csv('Data/noksales.csv')"
   ]
  },
  {
   "cell_type": "markdown",
   "metadata": {},
   "source": [
    "**Summary gathering stage**: We have gathered 7 different data sets related to Norway/Euro area and the FX spot rate. The _r denotes that the data is raw and not manipulated. Variable names are as follows: \n",
    "* eurnok: eurnok spot rate (Gathered by: API)\n",
    "* brent: brent spot price (Gathered by: download CSV)\n",
    "* ecbpr: ECB Policy Rate data (Gathered by: download CSV)\n",
    "* ecbi: Inflation Euro Area (Gathered by: download CSV)\n",
    "* norcpi: Norway Inflation data (Gathered by: API)\n",
    "* nbpr: Norwegian central bank policy rate (Gathered by: API)\n",
    "* noksales: Daily NOK sales by the Norwegian Central Bank (Gathered by: Web Scraping)"
   ]
  },
  {
   "cell_type": "markdown",
   "metadata": {
    "id": "QwSWIVmotLgV"
   },
   "source": [
    "<a id='Assess Data'></a>\n",
    "## 2. Assess data"
   ]
  },
  {
   "cell_type": "markdown",
   "metadata": {},
   "source": [
    "In this stage we will assess our data for aspects of quality and tidiness. For our final combined dataset we are looking to extract one column from each dataframe, and a common datetime collumn. The values of interest in our final dataframe must pass the key dimensions of data quality:\n",
    "* Completeness\n",
    "* Validity\n",
    "* Accuracy \n",
    "* Consistency\n",
    "* Uniqueness\n",
    "\n",
    "The final dataframe must also pass the aspects of tidy data: \n",
    "* Each column is a variable\n",
    "* Each row is an observation\n",
    "* Each type of observational unit forms a table"
   ]
  },
  {
   "cell_type": "markdown",
   "metadata": {},
   "source": [
    "We will start by inspecting our dataframe visually, as it will enable us to get an overview of what we are working with. Obvious issues can then be spotted in an early phase. After the initial visual inspection, we will perform programmatic assessments to provide us a more granular understanding of our data. "
   ]
  },
  {
   "cell_type": "markdown",
   "metadata": {},
   "source": [
    "### Quality Issue 1: Inconsistent formatting of date and values"
   ]
  },
  {
   "cell_type": "code",
   "execution_count": 726,
   "metadata": {},
   "outputs": [
    {
     "data": {
      "text/html": [
       "<div>\n",
       "<style scoped>\n",
       "    .dataframe tbody tr th:only-of-type {\n",
       "        vertical-align: middle;\n",
       "    }\n",
       "\n",
       "    .dataframe tbody tr th {\n",
       "        vertical-align: top;\n",
       "    }\n",
       "\n",
       "    .dataframe thead th {\n",
       "        text-align: right;\n",
       "    }\n",
       "</style>\n",
       "<table border=\"1\" class=\"dataframe\">\n",
       "  <thead>\n",
       "    <tr style=\"text-align: right;\">\n",
       "      <th></th>\n",
       "      <th>Unnamed: 0</th>\n",
       "      <th>FREQ</th>\n",
       "      <th>Frekvens</th>\n",
       "      <th>BASE_CUR</th>\n",
       "      <th>Basisvaluta</th>\n",
       "      <th>QUOTE_CUR</th>\n",
       "      <th>Kvoteringsvaluta</th>\n",
       "      <th>TENOR</th>\n",
       "      <th>Løpetid</th>\n",
       "      <th>DECIMALS</th>\n",
       "      <th>CALCULATED</th>\n",
       "      <th>UNIT_MULT</th>\n",
       "      <th>Multiplikator</th>\n",
       "      <th>COLLECTION</th>\n",
       "      <th>Innsamlingstidspunkt</th>\n",
       "      <th>TIME_PERIOD</th>\n",
       "      <th>OBS_VALUE</th>\n",
       "    </tr>\n",
       "  </thead>\n",
       "  <tbody>\n",
       "    <tr>\n",
       "      <th>0</th>\n",
       "      <td>0</td>\n",
       "      <td>B</td>\n",
       "      <td>Virkedag</td>\n",
       "      <td>EUR</td>\n",
       "      <td>Euro</td>\n",
       "      <td>NOK</td>\n",
       "      <td>Norske kroner</td>\n",
       "      <td>SP</td>\n",
       "      <td>Spot</td>\n",
       "      <td>4</td>\n",
       "      <td>False</td>\n",
       "      <td>0</td>\n",
       "      <td>Enheter</td>\n",
       "      <td>C</td>\n",
       "      <td>ECB concertation tidspunkt 14:15 CET</td>\n",
       "      <td>2000-01-03</td>\n",
       "      <td>8,062</td>\n",
       "    </tr>\n",
       "    <tr>\n",
       "      <th>1</th>\n",
       "      <td>1</td>\n",
       "      <td>B</td>\n",
       "      <td>Virkedag</td>\n",
       "      <td>EUR</td>\n",
       "      <td>Euro</td>\n",
       "      <td>NOK</td>\n",
       "      <td>Norske kroner</td>\n",
       "      <td>SP</td>\n",
       "      <td>Spot</td>\n",
       "      <td>4</td>\n",
       "      <td>False</td>\n",
       "      <td>0</td>\n",
       "      <td>Enheter</td>\n",
       "      <td>C</td>\n",
       "      <td>ECB concertation tidspunkt 14:15 CET</td>\n",
       "      <td>2000-01-04</td>\n",
       "      <td>8,15</td>\n",
       "    </tr>\n",
       "  </tbody>\n",
       "</table>\n",
       "</div>"
      ],
      "text/plain": [
       "   Unnamed: 0 FREQ  Frekvens BASE_CUR Basisvaluta QUOTE_CUR Kvoteringsvaluta  \\\n",
       "0           0    B  Virkedag      EUR        Euro       NOK    Norske kroner   \n",
       "1           1    B  Virkedag      EUR        Euro       NOK    Norske kroner   \n",
       "\n",
       "  TENOR Løpetid  DECIMALS  CALCULATED  UNIT_MULT Multiplikator COLLECTION  \\\n",
       "0    SP    Spot         4       False          0       Enheter          C   \n",
       "1    SP    Spot         4       False          0       Enheter          C   \n",
       "\n",
       "                   Innsamlingstidspunkt TIME_PERIOD OBS_VALUE  \n",
       "0  ECB concertation tidspunkt 14:15 CET  2000-01-03     8,062  \n",
       "1  ECB concertation tidspunkt 14:15 CET  2000-01-04      8,15  "
      ]
     },
     "execution_count": 726,
     "metadata": {},
     "output_type": "execute_result"
    }
   ],
   "source": [
    "eurnok_r.head(2)"
   ]
  },
  {
   "cell_type": "code",
   "execution_count": 727,
   "metadata": {},
   "outputs": [
    {
     "data": {
      "text/html": [
       "<div>\n",
       "<style scoped>\n",
       "    .dataframe tbody tr th:only-of-type {\n",
       "        vertical-align: middle;\n",
       "    }\n",
       "\n",
       "    .dataframe tbody tr th {\n",
       "        vertical-align: top;\n",
       "    }\n",
       "\n",
       "    .dataframe thead th {\n",
       "        text-align: right;\n",
       "    }\n",
       "</style>\n",
       "<table border=\"1\" class=\"dataframe\">\n",
       "  <thead>\n",
       "    <tr style=\"text-align: right;\">\n",
       "      <th></th>\n",
       "      <th>Unnamed: 0</th>\n",
       "      <th>Day</th>\n",
       "      <th>Date</th>\n",
       "      <th>Last px</th>\n",
       "      <th>Open Int</th>\n",
       "      <th>SMAVG (15)</th>\n",
       "    </tr>\n",
       "  </thead>\n",
       "  <tbody>\n",
       "    <tr>\n",
       "      <th>0</th>\n",
       "      <td>0</td>\n",
       "      <td>Th</td>\n",
       "      <td>11-09-23</td>\n",
       "      <td>80.37</td>\n",
       "      <td>NaN</td>\n",
       "      <td>NaN</td>\n",
       "    </tr>\n",
       "    <tr>\n",
       "      <th>1</th>\n",
       "      <td>1</td>\n",
       "      <td>We</td>\n",
       "      <td>11-08-23</td>\n",
       "      <td>79.54</td>\n",
       "      <td>NaN</td>\n",
       "      <td>NaN</td>\n",
       "    </tr>\n",
       "  </tbody>\n",
       "</table>\n",
       "</div>"
      ],
      "text/plain": [
       "   Unnamed: 0 Day      Date  Last px Open Int SMAVG (15)\n",
       "0           0  Th  11-09-23    80.37      NaN        NaN\n",
       "1           1  We  11-08-23    79.54      NaN        NaN"
      ]
     },
     "execution_count": 727,
     "metadata": {},
     "output_type": "execute_result"
    }
   ],
   "source": [
    "brent_r.head(2)"
   ]
  },
  {
   "cell_type": "code",
   "execution_count": 728,
   "metadata": {},
   "outputs": [
    {
     "data": {
      "text/html": [
       "<div>\n",
       "<style scoped>\n",
       "    .dataframe tbody tr th:only-of-type {\n",
       "        vertical-align: middle;\n",
       "    }\n",
       "\n",
       "    .dataframe tbody tr th {\n",
       "        vertical-align: top;\n",
       "    }\n",
       "\n",
       "    .dataframe thead th {\n",
       "        text-align: right;\n",
       "    }\n",
       "</style>\n",
       "<table border=\"1\" class=\"dataframe\">\n",
       "  <thead>\n",
       "    <tr style=\"text-align: right;\">\n",
       "      <th></th>\n",
       "      <th>Unnamed: 0</th>\n",
       "      <th>DATE</th>\n",
       "      <th>TIME PERIOD</th>\n",
       "      <th>ECB Deposit facility - date of changes (raw data) - Level (FM.D.U2.EUR.4F.KR.DFR.LEV)</th>\n",
       "      <th>ECB Marginal lending facility - date of changes (raw data) - Level (FM.D.U2.EUR.4F.KR.MLFR.LEV)</th>\n",
       "      <th>ECB Main refinancing operations - Minimum bid rate/fixed rate (date of changes) - Level (FM.D.U2.EUR.4F.KR.MRR_RT.LEV)</th>\n",
       "    </tr>\n",
       "  </thead>\n",
       "  <tbody>\n",
       "    <tr>\n",
       "      <th>0</th>\n",
       "      <td>0</td>\n",
       "      <td>1999-01-01</td>\n",
       "      <td>01 Jan 1999</td>\n",
       "      <td>2.0</td>\n",
       "      <td>4.5</td>\n",
       "      <td>3.0</td>\n",
       "    </tr>\n",
       "    <tr>\n",
       "      <th>1</th>\n",
       "      <td>1</td>\n",
       "      <td>1999-01-02</td>\n",
       "      <td>02 Jan 1999</td>\n",
       "      <td>2.0</td>\n",
       "      <td>4.5</td>\n",
       "      <td>3.0</td>\n",
       "    </tr>\n",
       "  </tbody>\n",
       "</table>\n",
       "</div>"
      ],
      "text/plain": [
       "   Unnamed: 0        DATE  TIME PERIOD  \\\n",
       "0           0  1999-01-01  01 Jan 1999   \n",
       "1           1  1999-01-02  02 Jan 1999   \n",
       "\n",
       "   ECB Deposit facility - date of changes (raw data) - Level (FM.D.U2.EUR.4F.KR.DFR.LEV)  \\\n",
       "0                                                2.0                                       \n",
       "1                                                2.0                                       \n",
       "\n",
       "   ECB Marginal lending facility - date of changes (raw data) - Level (FM.D.U2.EUR.4F.KR.MLFR.LEV)  \\\n",
       "0                                                4.5                                                 \n",
       "1                                                4.5                                                 \n",
       "\n",
       "   ECB Main refinancing operations - Minimum bid rate/fixed rate (date of changes) - Level (FM.D.U2.EUR.4F.KR.MRR_RT.LEV)  \n",
       "0                                                3.0                                                                       \n",
       "1                                                3.0                                                                       "
      ]
     },
     "execution_count": 728,
     "metadata": {},
     "output_type": "execute_result"
    }
   ],
   "source": [
    "ecbpr_r.head(2)"
   ]
  },
  {
   "cell_type": "code",
   "execution_count": 730,
   "metadata": {},
   "outputs": [
    {
     "data": {
      "text/html": [
       "<div>\n",
       "<style scoped>\n",
       "    .dataframe tbody tr th:only-of-type {\n",
       "        vertical-align: middle;\n",
       "    }\n",
       "\n",
       "    .dataframe tbody tr th {\n",
       "        vertical-align: top;\n",
       "    }\n",
       "\n",
       "    .dataframe thead th {\n",
       "        text-align: right;\n",
       "    }\n",
       "</style>\n",
       "<table border=\"1\" class=\"dataframe\">\n",
       "  <thead>\n",
       "    <tr style=\"text-align: right;\">\n",
       "      <th></th>\n",
       "      <th>Unnamed: 0</th>\n",
       "      <th>DATE</th>\n",
       "      <th>TIME PERIOD</th>\n",
       "      <th>HICP - Overall index (ICP.M.AT.N.000000.4.ANR)</th>\n",
       "      <th>HICP - Overall index (ICP.M.BE.N.000000.4.ANR)</th>\n",
       "      <th>HICP - Overall index (ICP.M.CY.N.000000.4.ANR)</th>\n",
       "      <th>HICP - Overall index (ICP.M.DE.N.000000.4.ANR)</th>\n",
       "      <th>HICP - Overall index (ICP.M.EE.N.000000.4.ANR)</th>\n",
       "      <th>HICP - Overall index (ICP.M.ES.N.000000.4.ANR)</th>\n",
       "      <th>HICP - Overall index (ICP.M.FI.N.000000.4.ANR)</th>\n",
       "      <th>HICP - Overall index (ICP.M.FR.N.000000.4.ANR)</th>\n",
       "      <th>HICP - Overall index (ICP.M.GR.N.000000.4.ANR)</th>\n",
       "      <th>HICP - Overall index (ICP.M.HR.N.000000.4.ANR)</th>\n",
       "      <th>HICP - Overall index (ICP.M.IE.N.000000.4.ANR)</th>\n",
       "      <th>HICP - Overall index (ICP.M.IT.N.000000.4.ANR)</th>\n",
       "      <th>HICP - Overall index (ICP.M.LT.N.000000.4.ANR)</th>\n",
       "      <th>HICP - Overall index (ICP.M.LU.N.000000.4.ANR)</th>\n",
       "      <th>HICP - Overall index (ICP.M.LV.N.000000.4.ANR)</th>\n",
       "      <th>HICP - Overall index (ICP.M.MT.N.000000.4.ANR)</th>\n",
       "      <th>HICP - Overall index (ICP.M.NL.N.000000.4.ANR)</th>\n",
       "      <th>HICP - Overall index (ICP.M.PT.N.000000.4.ANR)</th>\n",
       "      <th>HICP - Overall index (ICP.M.SI.N.000000.4.ANR)</th>\n",
       "      <th>HICP - Overall index (ICP.M.SK.N.000000.4.ANR)</th>\n",
       "      <th>HICP - Overall index (ICP.M.U2.N.000000.4.ANR)</th>\n",
       "    </tr>\n",
       "  </thead>\n",
       "  <tbody>\n",
       "    <tr>\n",
       "      <th>332</th>\n",
       "      <td>332</td>\n",
       "      <td>30-09-23</td>\n",
       "      <td>2023Sep</td>\n",
       "      <td>5.7</td>\n",
       "      <td>0.7</td>\n",
       "      <td>4.3</td>\n",
       "      <td>4.3</td>\n",
       "      <td>3.9</td>\n",
       "      <td>3.3</td>\n",
       "      <td>3.0</td>\n",
       "      <td>5.7</td>\n",
       "      <td>2.4</td>\n",
       "      <td>7.4</td>\n",
       "      <td>5.0</td>\n",
       "      <td>5.6</td>\n",
       "      <td>4.1</td>\n",
       "      <td>3.4</td>\n",
       "      <td>3.6</td>\n",
       "      <td>4.9</td>\n",
       "      <td>-0.3</td>\n",
       "      <td>4.8</td>\n",
       "      <td>7.1</td>\n",
       "      <td>9.0</td>\n",
       "      <td>4.3</td>\n",
       "    </tr>\n",
       "    <tr>\n",
       "      <th>333</th>\n",
       "      <td>333</td>\n",
       "      <td>31-10-23</td>\n",
       "      <td>2023Oct</td>\n",
       "      <td>4.9</td>\n",
       "      <td>-1.7</td>\n",
       "      <td>3.3</td>\n",
       "      <td>3.0</td>\n",
       "      <td>5.0</td>\n",
       "      <td>3.5</td>\n",
       "      <td>2.4</td>\n",
       "      <td>4.5</td>\n",
       "      <td>3.9</td>\n",
       "      <td>6.7</td>\n",
       "      <td>3.6</td>\n",
       "      <td>1.9</td>\n",
       "      <td>3.0</td>\n",
       "      <td>2.1</td>\n",
       "      <td>2.4</td>\n",
       "      <td>4.3</td>\n",
       "      <td>-1.0</td>\n",
       "      <td>3.3</td>\n",
       "      <td>6.6</td>\n",
       "      <td>7.8</td>\n",
       "      <td>2.9</td>\n",
       "    </tr>\n",
       "  </tbody>\n",
       "</table>\n",
       "</div>"
      ],
      "text/plain": [
       "     Unnamed: 0      DATE TIME PERIOD  \\\n",
       "332         332  30-09-23     2023Sep   \n",
       "333         333  31-10-23     2023Oct   \n",
       "\n",
       "     HICP - Overall index (ICP.M.AT.N.000000.4.ANR)  \\\n",
       "332                                             5.7   \n",
       "333                                             4.9   \n",
       "\n",
       "     HICP - Overall index (ICP.M.BE.N.000000.4.ANR)  \\\n",
       "332                                             0.7   \n",
       "333                                            -1.7   \n",
       "\n",
       "     HICP - Overall index (ICP.M.CY.N.000000.4.ANR)  \\\n",
       "332                                             4.3   \n",
       "333                                             3.3   \n",
       "\n",
       "     HICP - Overall index (ICP.M.DE.N.000000.4.ANR)  \\\n",
       "332                                             4.3   \n",
       "333                                             3.0   \n",
       "\n",
       "     HICP - Overall index (ICP.M.EE.N.000000.4.ANR)  \\\n",
       "332                                             3.9   \n",
       "333                                             5.0   \n",
       "\n",
       "     HICP - Overall index (ICP.M.ES.N.000000.4.ANR)  \\\n",
       "332                                             3.3   \n",
       "333                                             3.5   \n",
       "\n",
       "     HICP - Overall index (ICP.M.FI.N.000000.4.ANR)  \\\n",
       "332                                             3.0   \n",
       "333                                             2.4   \n",
       "\n",
       "     HICP - Overall index (ICP.M.FR.N.000000.4.ANR)  \\\n",
       "332                                             5.7   \n",
       "333                                             4.5   \n",
       "\n",
       "     HICP - Overall index (ICP.M.GR.N.000000.4.ANR)  \\\n",
       "332                                             2.4   \n",
       "333                                             3.9   \n",
       "\n",
       "     HICP - Overall index (ICP.M.HR.N.000000.4.ANR)  \\\n",
       "332                                             7.4   \n",
       "333                                             6.7   \n",
       "\n",
       "     HICP - Overall index (ICP.M.IE.N.000000.4.ANR)  \\\n",
       "332                                             5.0   \n",
       "333                                             3.6   \n",
       "\n",
       "     HICP - Overall index (ICP.M.IT.N.000000.4.ANR)  \\\n",
       "332                                             5.6   \n",
       "333                                             1.9   \n",
       "\n",
       "     HICP - Overall index (ICP.M.LT.N.000000.4.ANR)  \\\n",
       "332                                             4.1   \n",
       "333                                             3.0   \n",
       "\n",
       "     HICP - Overall index (ICP.M.LU.N.000000.4.ANR)  \\\n",
       "332                                             3.4   \n",
       "333                                             2.1   \n",
       "\n",
       "     HICP - Overall index (ICP.M.LV.N.000000.4.ANR)  \\\n",
       "332                                             3.6   \n",
       "333                                             2.4   \n",
       "\n",
       "     HICP - Overall index (ICP.M.MT.N.000000.4.ANR)  \\\n",
       "332                                             4.9   \n",
       "333                                             4.3   \n",
       "\n",
       "     HICP - Overall index (ICP.M.NL.N.000000.4.ANR)  \\\n",
       "332                                            -0.3   \n",
       "333                                            -1.0   \n",
       "\n",
       "     HICP - Overall index (ICP.M.PT.N.000000.4.ANR)  \\\n",
       "332                                             4.8   \n",
       "333                                             3.3   \n",
       "\n",
       "     HICP - Overall index (ICP.M.SI.N.000000.4.ANR)  \\\n",
       "332                                             7.1   \n",
       "333                                             6.6   \n",
       "\n",
       "     HICP - Overall index (ICP.M.SK.N.000000.4.ANR)  \\\n",
       "332                                             9.0   \n",
       "333                                             7.8   \n",
       "\n",
       "     HICP - Overall index (ICP.M.U2.N.000000.4.ANR)  \n",
       "332                                             4.3  \n",
       "333                                             2.9  "
      ]
     },
     "execution_count": 730,
     "metadata": {},
     "output_type": "execute_result"
    }
   ],
   "source": [
    "ecbi_r.tail(2)"
   ]
  },
  {
   "cell_type": "code",
   "execution_count": 731,
   "metadata": {},
   "outputs": [
    {
     "data": {
      "text/html": [
       "<div>\n",
       "<style scoped>\n",
       "    .dataframe tbody tr th:only-of-type {\n",
       "        vertical-align: middle;\n",
       "    }\n",
       "\n",
       "    .dataframe tbody tr th {\n",
       "        vertical-align: top;\n",
       "    }\n",
       "\n",
       "    .dataframe thead th {\n",
       "        text-align: right;\n",
       "    }\n",
       "</style>\n",
       "<table border=\"1\" class=\"dataframe\">\n",
       "  <thead>\n",
       "    <tr style=\"text-align: right;\">\n",
       "      <th></th>\n",
       "      <th>Unnamed: 0</th>\n",
       "      <th>DATE</th>\n",
       "      <th>TIME PERIOD</th>\n",
       "      <th>HICP - Overall index (ICP.M.AT.N.000000.4.ANR)</th>\n",
       "      <th>HICP - Overall index (ICP.M.BE.N.000000.4.ANR)</th>\n",
       "      <th>HICP - Overall index (ICP.M.CY.N.000000.4.ANR)</th>\n",
       "      <th>HICP - Overall index (ICP.M.DE.N.000000.4.ANR)</th>\n",
       "      <th>HICP - Overall index (ICP.M.EE.N.000000.4.ANR)</th>\n",
       "      <th>HICP - Overall index (ICP.M.ES.N.000000.4.ANR)</th>\n",
       "      <th>HICP - Overall index (ICP.M.FI.N.000000.4.ANR)</th>\n",
       "      <th>HICP - Overall index (ICP.M.FR.N.000000.4.ANR)</th>\n",
       "      <th>HICP - Overall index (ICP.M.GR.N.000000.4.ANR)</th>\n",
       "      <th>HICP - Overall index (ICP.M.HR.N.000000.4.ANR)</th>\n",
       "      <th>HICP - Overall index (ICP.M.IE.N.000000.4.ANR)</th>\n",
       "      <th>HICP - Overall index (ICP.M.IT.N.000000.4.ANR)</th>\n",
       "      <th>HICP - Overall index (ICP.M.LT.N.000000.4.ANR)</th>\n",
       "      <th>HICP - Overall index (ICP.M.LU.N.000000.4.ANR)</th>\n",
       "      <th>HICP - Overall index (ICP.M.LV.N.000000.4.ANR)</th>\n",
       "      <th>HICP - Overall index (ICP.M.MT.N.000000.4.ANR)</th>\n",
       "      <th>HICP - Overall index (ICP.M.NL.N.000000.4.ANR)</th>\n",
       "      <th>HICP - Overall index (ICP.M.PT.N.000000.4.ANR)</th>\n",
       "      <th>HICP - Overall index (ICP.M.SI.N.000000.4.ANR)</th>\n",
       "      <th>HICP - Overall index (ICP.M.SK.N.000000.4.ANR)</th>\n",
       "      <th>HICP - Overall index (ICP.M.U2.N.000000.4.ANR)</th>\n",
       "    </tr>\n",
       "  </thead>\n",
       "  <tbody>\n",
       "    <tr>\n",
       "      <th>0</th>\n",
       "      <td>0</td>\n",
       "      <td>31-01-96</td>\n",
       "      <td>1996Jan</td>\n",
       "      <td>NaN</td>\n",
       "      <td>NaN</td>\n",
       "      <td>NaN</td>\n",
       "      <td>NaN</td>\n",
       "      <td>23.4</td>\n",
       "      <td>NaN</td>\n",
       "      <td>NaN</td>\n",
       "      <td>2.0</td>\n",
       "      <td>NaN</td>\n",
       "      <td>NaN</td>\n",
       "      <td>NaN</td>\n",
       "      <td>NaN</td>\n",
       "      <td>31.5</td>\n",
       "      <td>1.0</td>\n",
       "      <td>NaN</td>\n",
       "      <td>NaN</td>\n",
       "      <td>NaN</td>\n",
       "      <td>2.5</td>\n",
       "      <td>8.4</td>\n",
       "      <td>6.4</td>\n",
       "      <td>NaN</td>\n",
       "    </tr>\n",
       "    <tr>\n",
       "      <th>1</th>\n",
       "      <td>1</td>\n",
       "      <td>29-02-96</td>\n",
       "      <td>1996Feb</td>\n",
       "      <td>NaN</td>\n",
       "      <td>NaN</td>\n",
       "      <td>NaN</td>\n",
       "      <td>NaN</td>\n",
       "      <td>24.0</td>\n",
       "      <td>NaN</td>\n",
       "      <td>NaN</td>\n",
       "      <td>2.1</td>\n",
       "      <td>NaN</td>\n",
       "      <td>NaN</td>\n",
       "      <td>NaN</td>\n",
       "      <td>NaN</td>\n",
       "      <td>29.3</td>\n",
       "      <td>0.9</td>\n",
       "      <td>NaN</td>\n",
       "      <td>NaN</td>\n",
       "      <td>NaN</td>\n",
       "      <td>2.5</td>\n",
       "      <td>8.4</td>\n",
       "      <td>6.2</td>\n",
       "      <td>NaN</td>\n",
       "    </tr>\n",
       "  </tbody>\n",
       "</table>\n",
       "</div>"
      ],
      "text/plain": [
       "   Unnamed: 0      DATE TIME PERIOD  \\\n",
       "0           0  31-01-96     1996Jan   \n",
       "1           1  29-02-96     1996Feb   \n",
       "\n",
       "   HICP - Overall index (ICP.M.AT.N.000000.4.ANR)  \\\n",
       "0                                             NaN   \n",
       "1                                             NaN   \n",
       "\n",
       "   HICP - Overall index (ICP.M.BE.N.000000.4.ANR)  \\\n",
       "0                                             NaN   \n",
       "1                                             NaN   \n",
       "\n",
       "   HICP - Overall index (ICP.M.CY.N.000000.4.ANR)  \\\n",
       "0                                             NaN   \n",
       "1                                             NaN   \n",
       "\n",
       "   HICP - Overall index (ICP.M.DE.N.000000.4.ANR)  \\\n",
       "0                                             NaN   \n",
       "1                                             NaN   \n",
       "\n",
       "   HICP - Overall index (ICP.M.EE.N.000000.4.ANR)  \\\n",
       "0                                            23.4   \n",
       "1                                            24.0   \n",
       "\n",
       "   HICP - Overall index (ICP.M.ES.N.000000.4.ANR)  \\\n",
       "0                                             NaN   \n",
       "1                                             NaN   \n",
       "\n",
       "   HICP - Overall index (ICP.M.FI.N.000000.4.ANR)  \\\n",
       "0                                             NaN   \n",
       "1                                             NaN   \n",
       "\n",
       "   HICP - Overall index (ICP.M.FR.N.000000.4.ANR)  \\\n",
       "0                                             2.0   \n",
       "1                                             2.1   \n",
       "\n",
       "   HICP - Overall index (ICP.M.GR.N.000000.4.ANR)  \\\n",
       "0                                             NaN   \n",
       "1                                             NaN   \n",
       "\n",
       "   HICP - Overall index (ICP.M.HR.N.000000.4.ANR)  \\\n",
       "0                                             NaN   \n",
       "1                                             NaN   \n",
       "\n",
       "   HICP - Overall index (ICP.M.IE.N.000000.4.ANR)  \\\n",
       "0                                             NaN   \n",
       "1                                             NaN   \n",
       "\n",
       "   HICP - Overall index (ICP.M.IT.N.000000.4.ANR)  \\\n",
       "0                                             NaN   \n",
       "1                                             NaN   \n",
       "\n",
       "   HICP - Overall index (ICP.M.LT.N.000000.4.ANR)  \\\n",
       "0                                            31.5   \n",
       "1                                            29.3   \n",
       "\n",
       "   HICP - Overall index (ICP.M.LU.N.000000.4.ANR)  \\\n",
       "0                                             1.0   \n",
       "1                                             0.9   \n",
       "\n",
       "   HICP - Overall index (ICP.M.LV.N.000000.4.ANR)  \\\n",
       "0                                             NaN   \n",
       "1                                             NaN   \n",
       "\n",
       "   HICP - Overall index (ICP.M.MT.N.000000.4.ANR)  \\\n",
       "0                                             NaN   \n",
       "1                                             NaN   \n",
       "\n",
       "   HICP - Overall index (ICP.M.NL.N.000000.4.ANR)  \\\n",
       "0                                             NaN   \n",
       "1                                             NaN   \n",
       "\n",
       "   HICP - Overall index (ICP.M.PT.N.000000.4.ANR)  \\\n",
       "0                                             2.5   \n",
       "1                                             2.5   \n",
       "\n",
       "   HICP - Overall index (ICP.M.SI.N.000000.4.ANR)  \\\n",
       "0                                             8.4   \n",
       "1                                             8.4   \n",
       "\n",
       "   HICP - Overall index (ICP.M.SK.N.000000.4.ANR)  \\\n",
       "0                                             6.4   \n",
       "1                                             6.2   \n",
       "\n",
       "   HICP - Overall index (ICP.M.U2.N.000000.4.ANR)  \n",
       "0                                             NaN  \n",
       "1                                             NaN  "
      ]
     },
     "execution_count": 731,
     "metadata": {},
     "output_type": "execute_result"
    }
   ],
   "source": [
    "ecbi_r.head(2)"
   ]
  },
  {
   "cell_type": "code",
   "execution_count": 732,
   "metadata": {},
   "outputs": [
    {
     "data": {
      "text/html": [
       "<div>\n",
       "<style scoped>\n",
       "    .dataframe tbody tr th:only-of-type {\n",
       "        vertical-align: middle;\n",
       "    }\n",
       "\n",
       "    .dataframe tbody tr th {\n",
       "        vertical-align: top;\n",
       "    }\n",
       "\n",
       "    .dataframe thead th {\n",
       "        text-align: right;\n",
       "    }\n",
       "</style>\n",
       "<table border=\"1\" class=\"dataframe\">\n",
       "  <thead>\n",
       "    <tr style=\"text-align: right;\">\n",
       "      <th></th>\n",
       "      <th>Unnamed: 0</th>\n",
       "      <th>consumption group</th>\n",
       "      <th>month</th>\n",
       "      <th>contents</th>\n",
       "      <th>03013: Consumer Price Index, by consumption group, month and contents</th>\n",
       "    </tr>\n",
       "  </thead>\n",
       "  <tbody>\n",
       "    <tr>\n",
       "      <th>0</th>\n",
       "      <td>0</td>\n",
       "      <td>TOTAL All-item index</td>\n",
       "      <td>1979M01</td>\n",
       "      <td>Consumer Price Index (2015=100)</td>\n",
       "      <td>25.3</td>\n",
       "    </tr>\n",
       "    <tr>\n",
       "      <th>1</th>\n",
       "      <td>1</td>\n",
       "      <td>TOTAL All-item index</td>\n",
       "      <td>1979M01</td>\n",
       "      <td>Monthly change (per cent)</td>\n",
       "      <td>0.0</td>\n",
       "    </tr>\n",
       "  </tbody>\n",
       "</table>\n",
       "</div>"
      ],
      "text/plain": [
       "   Unnamed: 0     consumption group    month                         contents  \\\n",
       "0           0  TOTAL All-item index  1979M01  Consumer Price Index (2015=100)   \n",
       "1           1  TOTAL All-item index  1979M01        Monthly change (per cent)   \n",
       "\n",
       "   03013: Consumer Price Index, by consumption group, month and contents  \n",
       "0                                               25.3                      \n",
       "1                                                0.0                      "
      ]
     },
     "execution_count": 732,
     "metadata": {},
     "output_type": "execute_result"
    }
   ],
   "source": [
    "norcpi_r.head(2)"
   ]
  },
  {
   "cell_type": "code",
   "execution_count": 733,
   "metadata": {},
   "outputs": [
    {
     "data": {
      "text/html": [
       "<div>\n",
       "<style scoped>\n",
       "    .dataframe tbody tr th:only-of-type {\n",
       "        vertical-align: middle;\n",
       "    }\n",
       "\n",
       "    .dataframe tbody tr th {\n",
       "        vertical-align: top;\n",
       "    }\n",
       "\n",
       "    .dataframe thead th {\n",
       "        text-align: right;\n",
       "    }\n",
       "</style>\n",
       "<table border=\"1\" class=\"dataframe\">\n",
       "  <thead>\n",
       "    <tr style=\"text-align: right;\">\n",
       "      <th></th>\n",
       "      <th>Unnamed: 0</th>\n",
       "      <th>FREQ</th>\n",
       "      <th>Frekvens</th>\n",
       "      <th>INSTRUMENT_TYPE</th>\n",
       "      <th>Instrumenttype</th>\n",
       "      <th>TENOR</th>\n",
       "      <th>Løpetid</th>\n",
       "      <th>UNIT_MEASURE</th>\n",
       "      <th>Måleenhet</th>\n",
       "      <th>DECIMALS</th>\n",
       "      <th>COLLECTION</th>\n",
       "      <th>Innsamlingstidspunkt</th>\n",
       "      <th>TIME_PERIOD</th>\n",
       "      <th>OBS_VALUE</th>\n",
       "      <th>CALC_METHOD</th>\n",
       "      <th>Calculation Method</th>\n",
       "    </tr>\n",
       "  </thead>\n",
       "  <tbody>\n",
       "    <tr>\n",
       "      <th>0</th>\n",
       "      <td>0</td>\n",
       "      <td>B</td>\n",
       "      <td>Virkedag</td>\n",
       "      <td>KPRA</td>\n",
       "      <td>Styringsrenten</td>\n",
       "      <td>SD</td>\n",
       "      <td>Foliorenten</td>\n",
       "      <td>R</td>\n",
       "      <td>Rente</td>\n",
       "      <td>2</td>\n",
       "      <td>E</td>\n",
       "      <td>Slutten av dagen</td>\n",
       "      <td>2000-01-03</td>\n",
       "      <td>5,5</td>\n",
       "      <td>NaN</td>\n",
       "      <td>NaN</td>\n",
       "    </tr>\n",
       "    <tr>\n",
       "      <th>1</th>\n",
       "      <td>1</td>\n",
       "      <td>B</td>\n",
       "      <td>Virkedag</td>\n",
       "      <td>KPRA</td>\n",
       "      <td>Styringsrenten</td>\n",
       "      <td>SD</td>\n",
       "      <td>Foliorenten</td>\n",
       "      <td>R</td>\n",
       "      <td>Rente</td>\n",
       "      <td>2</td>\n",
       "      <td>E</td>\n",
       "      <td>Slutten av dagen</td>\n",
       "      <td>2000-01-04</td>\n",
       "      <td>5,5</td>\n",
       "      <td>NaN</td>\n",
       "      <td>NaN</td>\n",
       "    </tr>\n",
       "  </tbody>\n",
       "</table>\n",
       "</div>"
      ],
      "text/plain": [
       "   Unnamed: 0 FREQ  Frekvens INSTRUMENT_TYPE  Instrumenttype TENOR  \\\n",
       "0           0    B  Virkedag            KPRA  Styringsrenten    SD   \n",
       "1           1    B  Virkedag            KPRA  Styringsrenten    SD   \n",
       "\n",
       "       Løpetid UNIT_MEASURE Måleenhet  DECIMALS COLLECTION  \\\n",
       "0  Foliorenten            R     Rente         2          E   \n",
       "1  Foliorenten            R     Rente         2          E   \n",
       "\n",
       "  Innsamlingstidspunkt TIME_PERIOD OBS_VALUE  CALC_METHOD  Calculation Method  \n",
       "0     Slutten av dagen  2000-01-03       5,5          NaN                 NaN  \n",
       "1     Slutten av dagen  2000-01-04       5,5          NaN                 NaN  "
      ]
     },
     "execution_count": 733,
     "metadata": {},
     "output_type": "execute_result"
    }
   ],
   "source": [
    "nbpr_r.head(2)"
   ]
  },
  {
   "cell_type": "code",
   "execution_count": 748,
   "metadata": {},
   "outputs": [
    {
     "data": {
      "text/html": [
       "<div>\n",
       "<style scoped>\n",
       "    .dataframe tbody tr th:only-of-type {\n",
       "        vertical-align: middle;\n",
       "    }\n",
       "\n",
       "    .dataframe tbody tr th {\n",
       "        vertical-align: top;\n",
       "    }\n",
       "\n",
       "    .dataframe thead th {\n",
       "        text-align: right;\n",
       "    }\n",
       "</style>\n",
       "<table border=\"1\" class=\"dataframe\">\n",
       "  <thead>\n",
       "    <tr style=\"text-align: right;\">\n",
       "      <th></th>\n",
       "      <th>Unnamed: 0</th>\n",
       "      <th>Jan</th>\n",
       "      <th>Feb</th>\n",
       "      <th>Mar</th>\n",
       "      <th>Apr</th>\n",
       "      <th>May</th>\n",
       "      <th>Jun</th>\n",
       "      <th>Jul</th>\n",
       "      <th>Aug</th>\n",
       "      <th>Sep</th>\n",
       "      <th>Oct</th>\n",
       "      <th>Nov</th>\n",
       "      <th>Dec</th>\n",
       "    </tr>\n",
       "  </thead>\n",
       "  <tbody>\n",
       "    <tr>\n",
       "      <th>0</th>\n",
       "      <td>2023</td>\n",
       "      <td>1500</td>\n",
       "      <td>1900</td>\n",
       "      <td>1700</td>\n",
       "      <td>1500</td>\n",
       "      <td>1400</td>\n",
       "      <td>1300</td>\n",
       "      <td>1000</td>\n",
       "      <td>1000</td>\n",
       "      <td>1100</td>\n",
       "      <td>1200</td>\n",
       "      <td>1400</td>\n",
       "      <td>NaN</td>\n",
       "    </tr>\n",
       "    <tr>\n",
       "      <th>1</th>\n",
       "      <td>2022</td>\n",
       "      <td>-250</td>\n",
       "      <td>0</td>\n",
       "      <td>0</td>\n",
       "      <td>2000</td>\n",
       "      <td>2000</td>\n",
       "      <td>1500</td>\n",
       "      <td>1500</td>\n",
       "      <td>1500</td>\n",
       "      <td>3500</td>\n",
       "      <td>4300</td>\n",
       "      <td>3700</td>\n",
       "      <td>1900.0</td>\n",
       "    </tr>\n",
       "  </tbody>\n",
       "</table>\n",
       "</div>"
      ],
      "text/plain": [
       "   Unnamed: 0   Jan   Feb   Mar   Apr   May   Jun   Jul   Aug   Sep   Oct  \\\n",
       "0        2023  1500  1900  1700  1500  1400  1300  1000  1000  1100  1200   \n",
       "1        2022  -250     0     0  2000  2000  1500  1500  1500  3500  4300   \n",
       "\n",
       "    Nov     Dec  \n",
       "0  1400     NaN  \n",
       "1  3700  1900.0  "
      ]
     },
     "execution_count": 748,
     "metadata": {},
     "output_type": "execute_result"
    }
   ],
   "source": [
    "noksales_r.head(2)"
   ]
  },
  {
   "cell_type": "markdown",
   "metadata": {},
   "source": [
    "**Takeaway 1, visual assessment**: Date format differs across the datasets. \n",
    "* yyyy-mm-dd: eurnok, ecbpr and nbpr\n",
    "* mm-dd-yy: brent\n",
    "* dd-mm-yy: ecbi\n",
    "* yyyymn: norcpi\n",
    "* matrix: noksales\n",
    "\n",
    "1) Headers are of inconsistent format with caps lock or lower case. Lets convert the values to a common format. \n",
    "2) Headers have various names. Let's rename the relevant columns to a common format. "
   ]
  },
  {
   "cell_type": "code",
   "execution_count": 749,
   "metadata": {
    "id": "SpW59kh-zl8d"
   },
   "outputs": [
    {
     "name": "stdout",
     "output_type": "stream",
     "text": [
      "<class 'pandas.core.frame.DataFrame'>\n",
      "RangeIndex: 6012 entries, 0 to 6011\n",
      "Data columns (total 17 columns):\n",
      " #   Column                Non-Null Count  Dtype \n",
      "---  ------                --------------  ----- \n",
      " 0   Unnamed: 0            6012 non-null   int64 \n",
      " 1   FREQ                  6012 non-null   object\n",
      " 2   Frekvens              6012 non-null   object\n",
      " 3   BASE_CUR              6012 non-null   object\n",
      " 4   Basisvaluta           6012 non-null   object\n",
      " 5   QUOTE_CUR             6012 non-null   object\n",
      " 6   Kvoteringsvaluta      6012 non-null   object\n",
      " 7   TENOR                 6012 non-null   object\n",
      " 8   Løpetid               6012 non-null   object\n",
      " 9   DECIMALS              6012 non-null   int64 \n",
      " 10  CALCULATED            6012 non-null   bool  \n",
      " 11  UNIT_MULT             6012 non-null   int64 \n",
      " 12  Multiplikator         6012 non-null   object\n",
      " 13  COLLECTION            6012 non-null   object\n",
      " 14  Innsamlingstidspunkt  6012 non-null   object\n",
      " 15  TIME_PERIOD           6012 non-null   object\n",
      " 16  OBS_VALUE             6012 non-null   object\n",
      "dtypes: bool(1), int64(3), object(13)\n",
      "memory usage: 757.5+ KB\n"
     ]
    }
   ],
   "source": [
    "eurnok_r.info()"
   ]
  },
  {
   "cell_type": "code",
   "execution_count": 750,
   "metadata": {},
   "outputs": [
    {
     "name": "stdout",
     "output_type": "stream",
     "text": [
      "<class 'pandas.core.frame.DataFrame'>\n",
      "RangeIndex: 7392 entries, 0 to 7391\n",
      "Data columns (total 6 columns):\n",
      " #   Column      Non-Null Count  Dtype  \n",
      "---  ------      --------------  -----  \n",
      " 0   Unnamed: 0  7392 non-null   int64  \n",
      " 1   Day         6144 non-null   object \n",
      " 2   Date        6144 non-null   object \n",
      " 3   Last px     6142 non-null   float64\n",
      " 4   Open Int    6135 non-null   object \n",
      " 5   SMAVG (15)  6121 non-null   object \n",
      "dtypes: float64(1), int64(1), object(4)\n",
      "memory usage: 346.6+ KB\n"
     ]
    }
   ],
   "source": [
    "brent_r.info()"
   ]
  },
  {
   "cell_type": "code",
   "execution_count": 751,
   "metadata": {},
   "outputs": [
    {
     "name": "stdout",
     "output_type": "stream",
     "text": [
      "<class 'pandas.core.frame.DataFrame'>\n",
      "RangeIndex: 9078 entries, 0 to 9077\n",
      "Data columns (total 6 columns):\n",
      " #   Column                                                                                                                  Non-Null Count  Dtype  \n",
      "---  ------                                                                                                                  --------------  -----  \n",
      " 0   Unnamed: 0                                                                                                              9078 non-null   int64  \n",
      " 1   DATE                                                                                                                    9078 non-null   object \n",
      " 2   TIME PERIOD                                                                                                             9078 non-null   object \n",
      " 3   ECB Deposit facility - date of changes (raw data) - Level (FM.D.U2.EUR.4F.KR.DFR.LEV)                                   9078 non-null   float64\n",
      " 4   ECB Marginal lending facility - date of changes (raw data) - Level (FM.D.U2.EUR.4F.KR.MLFR.LEV)                         9078 non-null   float64\n",
      " 5   ECB Main refinancing operations - Minimum bid rate/fixed rate (date of changes) - Level (FM.D.U2.EUR.4F.KR.MRR_RT.LEV)  9078 non-null   float64\n",
      "dtypes: float64(3), int64(1), object(2)\n",
      "memory usage: 425.7+ KB\n"
     ]
    }
   ],
   "source": [
    "ecbpr_r.info()"
   ]
  },
  {
   "cell_type": "code",
   "execution_count": 752,
   "metadata": {},
   "outputs": [
    {
     "name": "stdout",
     "output_type": "stream",
     "text": [
      "<class 'pandas.core.frame.DataFrame'>\n",
      "RangeIndex: 334 entries, 0 to 333\n",
      "Data columns (total 24 columns):\n",
      " #   Column                                          Non-Null Count  Dtype  \n",
      "---  ------                                          --------------  -----  \n",
      " 0   Unnamed: 0                                      334 non-null    int64  \n",
      " 1   DATE                                            334 non-null    object \n",
      " 2   TIME PERIOD                                     334 non-null    object \n",
      " 3   HICP - Overall index (ICP.M.AT.N.000000.4.ANR)  322 non-null    float64\n",
      " 4   HICP - Overall index (ICP.M.BE.N.000000.4.ANR)  322 non-null    float64\n",
      " 5   HICP - Overall index (ICP.M.CY.N.000000.4.ANR)  322 non-null    float64\n",
      " 6   HICP - Overall index (ICP.M.DE.N.000000.4.ANR)  322 non-null    float64\n",
      " 7   HICP - Overall index (ICP.M.EE.N.000000.4.ANR)  334 non-null    float64\n",
      " 8   HICP - Overall index (ICP.M.ES.N.000000.4.ANR)  322 non-null    float64\n",
      " 9   HICP - Overall index (ICP.M.FI.N.000000.4.ANR)  322 non-null    float64\n",
      " 10  HICP - Overall index (ICP.M.FR.N.000000.4.ANR)  334 non-null    float64\n",
      " 11  HICP - Overall index (ICP.M.GR.N.000000.4.ANR)  322 non-null    float64\n",
      " 12  HICP - Overall index (ICP.M.HR.N.000000.4.ANR)  298 non-null    float64\n",
      " 13  HICP - Overall index (ICP.M.IE.N.000000.4.ANR)  322 non-null    float64\n",
      " 14  HICP - Overall index (ICP.M.IT.N.000000.4.ANR)  322 non-null    float64\n",
      " 15  HICP - Overall index (ICP.M.LT.N.000000.4.ANR)  334 non-null    float64\n",
      " 16  HICP - Overall index (ICP.M.LU.N.000000.4.ANR)  334 non-null    float64\n",
      " 17  HICP - Overall index (ICP.M.LV.N.000000.4.ANR)  322 non-null    float64\n",
      " 18  HICP - Overall index (ICP.M.MT.N.000000.4.ANR)  322 non-null    float64\n",
      " 19  HICP - Overall index (ICP.M.NL.N.000000.4.ANR)  322 non-null    float64\n",
      " 20  HICP - Overall index (ICP.M.PT.N.000000.4.ANR)  334 non-null    float64\n",
      " 21  HICP - Overall index (ICP.M.SI.N.000000.4.ANR)  334 non-null    float64\n",
      " 22  HICP - Overall index (ICP.M.SK.N.000000.4.ANR)  334 non-null    float64\n",
      " 23  HICP - Overall index (ICP.M.U2.N.000000.4.ANR)  322 non-null    float64\n",
      "dtypes: float64(21), int64(1), object(2)\n",
      "memory usage: 62.8+ KB\n"
     ]
    }
   ],
   "source": [
    "ecbi_r.info()"
   ]
  },
  {
   "cell_type": "code",
   "execution_count": 753,
   "metadata": {},
   "outputs": [
    {
     "name": "stdout",
     "output_type": "stream",
     "text": [
      "<class 'pandas.core.frame.DataFrame'>\n",
      "RangeIndex: 1614 entries, 0 to 1613\n",
      "Data columns (total 5 columns):\n",
      " #   Column                                                                 Non-Null Count  Dtype  \n",
      "---  ------                                                                 --------------  -----  \n",
      " 0   Unnamed: 0                                                             1614 non-null   int64  \n",
      " 1   consumption group                                                      1614 non-null   object \n",
      " 2   month                                                                  1614 non-null   object \n",
      " 3   contents                                                               1614 non-null   object \n",
      " 4   03013: Consumer Price Index, by consumption group, month and contents  1614 non-null   float64\n",
      "dtypes: float64(1), int64(1), object(3)\n",
      "memory usage: 63.2+ KB\n"
     ]
    }
   ],
   "source": [
    "norcpi_r.info()"
   ]
  },
  {
   "cell_type": "code",
   "execution_count": 754,
   "metadata": {},
   "outputs": [
    {
     "name": "stdout",
     "output_type": "stream",
     "text": [
      "<class 'pandas.core.frame.DataFrame'>\n",
      "RangeIndex: 6004 entries, 0 to 6003\n",
      "Data columns (total 16 columns):\n",
      " #   Column                Non-Null Count  Dtype  \n",
      "---  ------                --------------  -----  \n",
      " 0   Unnamed: 0            6004 non-null   int64  \n",
      " 1   FREQ                  6004 non-null   object \n",
      " 2   Frekvens              6004 non-null   object \n",
      " 3   INSTRUMENT_TYPE       6004 non-null   object \n",
      " 4   Instrumenttype        6004 non-null   object \n",
      " 5   TENOR                 6004 non-null   object \n",
      " 6   Løpetid               6004 non-null   object \n",
      " 7   UNIT_MEASURE          6004 non-null   object \n",
      " 8   Måleenhet             6004 non-null   object \n",
      " 9   DECIMALS              6004 non-null   int64  \n",
      " 10  COLLECTION            6004 non-null   object \n",
      " 11  Innsamlingstidspunkt  6004 non-null   object \n",
      " 12  TIME_PERIOD           6004 non-null   object \n",
      " 13  OBS_VALUE             6004 non-null   object \n",
      " 14  CALC_METHOD           0 non-null      float64\n",
      " 15  Calculation Method    0 non-null      float64\n",
      "dtypes: float64(2), int64(2), object(12)\n",
      "memory usage: 750.6+ KB\n"
     ]
    }
   ],
   "source": [
    "nbpr_r.info()"
   ]
  },
  {
   "cell_type": "code",
   "execution_count": 755,
   "metadata": {},
   "outputs": [
    {
     "name": "stdout",
     "output_type": "stream",
     "text": [
      "<class 'pandas.core.frame.DataFrame'>\n",
      "RangeIndex: 24 entries, 0 to 23\n",
      "Data columns (total 13 columns):\n",
      " #   Column      Non-Null Count  Dtype  \n",
      "---  ------      --------------  -----  \n",
      " 0   Unnamed: 0  24 non-null     int64  \n",
      " 1   Jan         24 non-null     int64  \n",
      " 2   Feb         24 non-null     int64  \n",
      " 3   Mar         24 non-null     object \n",
      " 4   Apr         24 non-null     int64  \n",
      " 5   May         24 non-null     object \n",
      " 6   Jun         24 non-null     int64  \n",
      " 7   Jul         24 non-null     int64  \n",
      " 8   Aug         24 non-null     int64  \n",
      " 9   Sep         24 non-null     int64  \n",
      " 10  Oct         24 non-null     object \n",
      " 11  Nov         24 non-null     object \n",
      " 12  Dec         23 non-null     float64\n",
      "dtypes: float64(1), int64(8), object(4)\n",
      "memory usage: 2.6+ KB\n"
     ]
    }
   ],
   "source": [
    "noksales_r.info()"
   ]
  },
  {
   "cell_type": "markdown",
   "metadata": {},
   "source": [
    "**Takeaway 2, programmatic assessment**: \n",
    "* eurnok: timeperiod is object, obs_value is string\n",
    "* brent: date is object\n",
    "* ecbpr: date is object, dataframe looks messy\n",
    "* ecbi: date is object\n",
    "* norcpi: month is actually yearmonth, and is also an object\n",
    "* nbpr: time period is object, obs_value is object\n",
    "* noksales: Setup is messy, some values are ints, other are floats. "
   ]
  },
  {
   "cell_type": "markdown",
   "metadata": {},
   "source": [
    "**Action notes**: \n",
    "* Strip, lowercase and replace spaces with underscores for every column. \n",
    "* Rename all date columns to date.\n",
    "* Convert all datetime objects to date. \n",
    "* Convert all relevant value-columns to float except noksales which will be int. \n",
    "* Convert headers to a common format."
   ]
  },
  {
   "cell_type": "markdown",
   "metadata": {
    "id": "8Be77N4I1AmE"
   },
   "source": [
    "### Quality Issue 2: Data interval and consistency"
   ]
  },
  {
   "cell_type": "code",
   "execution_count": 756,
   "metadata": {},
   "outputs": [
    {
     "data": {
      "text/html": [
       "<div>\n",
       "<style scoped>\n",
       "    .dataframe tbody tr th:only-of-type {\n",
       "        vertical-align: middle;\n",
       "    }\n",
       "\n",
       "    .dataframe tbody tr th {\n",
       "        vertical-align: top;\n",
       "    }\n",
       "\n",
       "    .dataframe thead th {\n",
       "        text-align: right;\n",
       "    }\n",
       "</style>\n",
       "<table border=\"1\" class=\"dataframe\">\n",
       "  <thead>\n",
       "    <tr style=\"text-align: right;\">\n",
       "      <th></th>\n",
       "      <th>TIME_PERIOD</th>\n",
       "      <th>OBS_VALUE</th>\n",
       "    </tr>\n",
       "  </thead>\n",
       "  <tbody>\n",
       "    <tr>\n",
       "      <th>6004</th>\n",
       "      <td>2023-11-02</td>\n",
       "      <td>11,8743</td>\n",
       "    </tr>\n",
       "    <tr>\n",
       "      <th>6005</th>\n",
       "      <td>2023-11-03</td>\n",
       "      <td>11,8535</td>\n",
       "    </tr>\n",
       "    <tr>\n",
       "      <th>6006</th>\n",
       "      <td>2023-11-06</td>\n",
       "      <td>11,8235</td>\n",
       "    </tr>\n",
       "    <tr>\n",
       "      <th>6007</th>\n",
       "      <td>2023-11-07</td>\n",
       "      <td>11,922</td>\n",
       "    </tr>\n",
       "    <tr>\n",
       "      <th>6008</th>\n",
       "      <td>2023-11-08</td>\n",
       "      <td>11,9305</td>\n",
       "    </tr>\n",
       "    <tr>\n",
       "      <th>6009</th>\n",
       "      <td>2023-11-09</td>\n",
       "      <td>11,9335</td>\n",
       "    </tr>\n",
       "    <tr>\n",
       "      <th>6010</th>\n",
       "      <td>2023-11-10</td>\n",
       "      <td>11,8725</td>\n",
       "    </tr>\n",
       "    <tr>\n",
       "      <th>6011</th>\n",
       "      <td>2023-11-13</td>\n",
       "      <td>11,877</td>\n",
       "    </tr>\n",
       "  </tbody>\n",
       "</table>\n",
       "</div>"
      ],
      "text/plain": [
       "     TIME_PERIOD OBS_VALUE\n",
       "6004  2023-11-02   11,8743\n",
       "6005  2023-11-03   11,8535\n",
       "6006  2023-11-06   11,8235\n",
       "6007  2023-11-07    11,922\n",
       "6008  2023-11-08   11,9305\n",
       "6009  2023-11-09   11,9335\n",
       "6010  2023-11-10   11,8725\n",
       "6011  2023-11-13    11,877"
      ]
     },
     "execution_count": 756,
     "metadata": {},
     "output_type": "execute_result"
    }
   ],
   "source": [
    "eurnok_r[['TIME_PERIOD', 'OBS_VALUE']].tail(n=8)"
   ]
  },
  {
   "cell_type": "code",
   "execution_count": 757,
   "metadata": {
    "id": "iMhHyiyLM2I3"
   },
   "outputs": [
    {
     "data": {
      "text/html": [
       "<div>\n",
       "<style scoped>\n",
       "    .dataframe tbody tr th:only-of-type {\n",
       "        vertical-align: middle;\n",
       "    }\n",
       "\n",
       "    .dataframe tbody tr th {\n",
       "        vertical-align: top;\n",
       "    }\n",
       "\n",
       "    .dataframe thead th {\n",
       "        text-align: right;\n",
       "    }\n",
       "</style>\n",
       "<table border=\"1\" class=\"dataframe\">\n",
       "  <thead>\n",
       "    <tr style=\"text-align: right;\">\n",
       "      <th></th>\n",
       "      <th>Day</th>\n",
       "      <th>Date</th>\n",
       "    </tr>\n",
       "  </thead>\n",
       "  <tbody>\n",
       "    <tr>\n",
       "      <th>0</th>\n",
       "      <td>Th</td>\n",
       "      <td>11-09-23</td>\n",
       "    </tr>\n",
       "    <tr>\n",
       "      <th>1</th>\n",
       "      <td>We</td>\n",
       "      <td>11-08-23</td>\n",
       "    </tr>\n",
       "    <tr>\n",
       "      <th>2</th>\n",
       "      <td>Tu</td>\n",
       "      <td>11-07-23</td>\n",
       "    </tr>\n",
       "    <tr>\n",
       "      <th>3</th>\n",
       "      <td>Mo</td>\n",
       "      <td>11-06-23</td>\n",
       "    </tr>\n",
       "    <tr>\n",
       "      <th>4</th>\n",
       "      <td>NaN</td>\n",
       "      <td>NaN</td>\n",
       "    </tr>\n",
       "    <tr>\n",
       "      <th>5</th>\n",
       "      <td>Fr</td>\n",
       "      <td>11-03-23</td>\n",
       "    </tr>\n",
       "    <tr>\n",
       "      <th>6</th>\n",
       "      <td>Th</td>\n",
       "      <td>11-02-23</td>\n",
       "    </tr>\n",
       "    <tr>\n",
       "      <th>7</th>\n",
       "      <td>We</td>\n",
       "      <td>11-01-23</td>\n",
       "    </tr>\n",
       "  </tbody>\n",
       "</table>\n",
       "</div>"
      ],
      "text/plain": [
       "   Day      Date\n",
       "0   Th  11-09-23\n",
       "1   We  11-08-23\n",
       "2   Tu  11-07-23\n",
       "3   Mo  11-06-23\n",
       "4  NaN       NaN\n",
       "5   Fr  11-03-23\n",
       "6   Th  11-02-23\n",
       "7   We  11-01-23"
      ]
     },
     "execution_count": 757,
     "metadata": {},
     "output_type": "execute_result"
    }
   ],
   "source": [
    "brent_r[['Day', 'Date']].head(n=8)"
   ]
  },
  {
   "cell_type": "code",
   "execution_count": 744,
   "metadata": {},
   "outputs": [
    {
     "data": {
      "text/html": [
       "<div>\n",
       "<style scoped>\n",
       "    .dataframe tbody tr th:only-of-type {\n",
       "        vertical-align: middle;\n",
       "    }\n",
       "\n",
       "    .dataframe tbody tr th {\n",
       "        vertical-align: top;\n",
       "    }\n",
       "\n",
       "    .dataframe thead th {\n",
       "        text-align: right;\n",
       "    }\n",
       "</style>\n",
       "<table border=\"1\" class=\"dataframe\">\n",
       "  <thead>\n",
       "    <tr style=\"text-align: right;\">\n",
       "      <th></th>\n",
       "      <th>TIME_PERIOD</th>\n",
       "      <th>OBS_VALUE</th>\n",
       "    </tr>\n",
       "  </thead>\n",
       "  <tbody>\n",
       "    <tr>\n",
       "      <th>5965</th>\n",
       "      <td>2023-09-20</td>\n",
       "      <td>4</td>\n",
       "    </tr>\n",
       "    <tr>\n",
       "      <th>5966</th>\n",
       "      <td>2023-09-21</td>\n",
       "      <td>4</td>\n",
       "    </tr>\n",
       "    <tr>\n",
       "      <th>5967</th>\n",
       "      <td>2023-09-22</td>\n",
       "      <td>4,25</td>\n",
       "    </tr>\n",
       "    <tr>\n",
       "      <th>5968</th>\n",
       "      <td>2023-09-25</td>\n",
       "      <td>4,25</td>\n",
       "    </tr>\n",
       "  </tbody>\n",
       "</table>\n",
       "</div>"
      ],
      "text/plain": [
       "     TIME_PERIOD OBS_VALUE\n",
       "5965  2023-09-20         4\n",
       "5966  2023-09-21         4\n",
       "5967  2023-09-22      4,25\n",
       "5968  2023-09-25      4,25"
      ]
     },
     "execution_count": 744,
     "metadata": {},
     "output_type": "execute_result"
    }
   ],
   "source": [
    "nbpr_r[['TIME_PERIOD','OBS_VALUE']].iloc[5965:5969, :]"
   ]
  },
  {
   "cell_type": "code",
   "execution_count": 758,
   "metadata": {},
   "outputs": [
    {
     "data": {
      "text/html": [
       "<div>\n",
       "<style scoped>\n",
       "    .dataframe tbody tr th:only-of-type {\n",
       "        vertical-align: middle;\n",
       "    }\n",
       "\n",
       "    .dataframe tbody tr th {\n",
       "        vertical-align: top;\n",
       "    }\n",
       "\n",
       "    .dataframe thead th {\n",
       "        text-align: right;\n",
       "    }\n",
       "</style>\n",
       "<table border=\"1\" class=\"dataframe\">\n",
       "  <thead>\n",
       "    <tr style=\"text-align: right;\">\n",
       "      <th></th>\n",
       "      <th>Unnamed: 0</th>\n",
       "      <th>DATE</th>\n",
       "      <th>TIME PERIOD</th>\n",
       "      <th>ECB Deposit facility - date of changes (raw data) - Level (FM.D.U2.EUR.4F.KR.DFR.LEV)</th>\n",
       "      <th>ECB Marginal lending facility - date of changes (raw data) - Level (FM.D.U2.EUR.4F.KR.MLFR.LEV)</th>\n",
       "      <th>ECB Main refinancing operations - Minimum bid rate/fixed rate (date of changes) - Level (FM.D.U2.EUR.4F.KR.MRR_RT.LEV)</th>\n",
       "    </tr>\n",
       "  </thead>\n",
       "  <tbody>\n",
       "    <tr>\n",
       "      <th>8935</th>\n",
       "      <td>8935</td>\n",
       "      <td>2023-06-19</td>\n",
       "      <td>19 Jun 2023</td>\n",
       "      <td>3.25</td>\n",
       "      <td>4.00</td>\n",
       "      <td>3.75</td>\n",
       "    </tr>\n",
       "    <tr>\n",
       "      <th>8936</th>\n",
       "      <td>8936</td>\n",
       "      <td>2023-06-20</td>\n",
       "      <td>20 Jun 2023</td>\n",
       "      <td>3.25</td>\n",
       "      <td>4.00</td>\n",
       "      <td>3.75</td>\n",
       "    </tr>\n",
       "    <tr>\n",
       "      <th>8937</th>\n",
       "      <td>8937</td>\n",
       "      <td>2023-06-21</td>\n",
       "      <td>21 Jun 2023</td>\n",
       "      <td>3.50</td>\n",
       "      <td>4.25</td>\n",
       "      <td>4.00</td>\n",
       "    </tr>\n",
       "    <tr>\n",
       "      <th>8938</th>\n",
       "      <td>8938</td>\n",
       "      <td>2023-06-22</td>\n",
       "      <td>22 Jun 2023</td>\n",
       "      <td>3.50</td>\n",
       "      <td>4.25</td>\n",
       "      <td>4.00</td>\n",
       "    </tr>\n",
       "  </tbody>\n",
       "</table>\n",
       "</div>"
      ],
      "text/plain": [
       "      Unnamed: 0        DATE  TIME PERIOD  \\\n",
       "8935        8935  2023-06-19  19 Jun 2023   \n",
       "8936        8936  2023-06-20  20 Jun 2023   \n",
       "8937        8937  2023-06-21  21 Jun 2023   \n",
       "8938        8938  2023-06-22  22 Jun 2023   \n",
       "\n",
       "      ECB Deposit facility - date of changes (raw data) - Level (FM.D.U2.EUR.4F.KR.DFR.LEV)  \\\n",
       "8935                                               3.25                                       \n",
       "8936                                               3.25                                       \n",
       "8937                                               3.50                                       \n",
       "8938                                               3.50                                       \n",
       "\n",
       "      ECB Marginal lending facility - date of changes (raw data) - Level (FM.D.U2.EUR.4F.KR.MLFR.LEV)  \\\n",
       "8935                                               4.00                                                 \n",
       "8936                                               4.00                                                 \n",
       "8937                                               4.25                                                 \n",
       "8938                                               4.25                                                 \n",
       "\n",
       "      ECB Main refinancing operations - Minimum bid rate/fixed rate (date of changes) - Level (FM.D.U2.EUR.4F.KR.MRR_RT.LEV)  \n",
       "8935                                               3.75                                                                       \n",
       "8936                                               3.75                                                                       \n",
       "8937                                               4.00                                                                       \n",
       "8938                                               4.00                                                                       "
      ]
     },
     "execution_count": 758,
     "metadata": {},
     "output_type": "execute_result"
    }
   ],
   "source": [
    "ecbpr_r.iloc[8935:8939,:]"
   ]
  },
  {
   "cell_type": "markdown",
   "metadata": {},
   "source": [
    "**Takeaway**: eurnok and brent are the only two dataframes with real daily data (data differs for every single day), but the data is only available during weekdays. The other dataframes have data on a monthly basis (some is daily data, but with replicate values). Noksales is daily data, but is fixed for the whole month. ecbpr and nbpr (central bank rate data) is also daily data, but is very rarely changed (often at least a month inbetween each change). Next, from what we see above, the change in the nbpr value happened at 09-21 and the ecbpr change at 06-21. Thus, the change can happen at any day of the month (changes happen during central bank meeting decisions). \n",
    "\n",
    "The reason this is an issue is because we want to combine our dataframes. To do that we need date to be a common column in a common format. To merge our dataframes, we are considering two options:  \n",
    "1) Aggregate daily data up to monthly level (e.g. mean) and join on yearmonth. For ecbr and nbpr we would need to consider how we handle mid-month changes in rates.\n",
    "2) Left join our data on the daily level, and be left with NaNs for monthly data. Then replicate values for data on a monthly level down to a daily level (or a preferred imputation method). For daily nok sales we would require that on a weekday level (NaNs for weekends). \n",
    "\n",
    "Which option we choose depends on our data requirements. Research questions about daily movements would require daily data, \"E.g. what happened at date x and why\". For this project, our research question revolves around inspecting the overall change in values over time. Therefore, data on a monthly basis is sufficient for our purpose.  "
   ]
  },
  {
   "cell_type": "markdown",
   "metadata": {},
   "source": [
    "**Action Notes**: We will aggregate daily data up to a monthly level by taking the mean of variables. For ecbpr and nbpr every change is in the interval of 0.25, hence whether we move value-changes to the next month or take the mean would either way not matter as both choices are neither entirely correct or incorrect. But in the purpose of our research question where we are looking to inspect overall changes over time, either choice will be sufficient for our purpose. "
   ]
  },
  {
   "cell_type": "markdown",
   "metadata": {},
   "source": [
    "### Quality Issue 3: Completeness and Uniqueness"
   ]
  },
  {
   "cell_type": "code",
   "execution_count": 759,
   "metadata": {},
   "outputs": [
    {
     "name": "stdout",
     "output_type": "stream",
     "text": [
      "eurnok_r 0\n",
      "brent_r 0\n",
      "ecbpr_r 0\n",
      "ecbi_r 0\n",
      "norcpi_r 0\n",
      "nbpr_r 0\n"
     ]
    }
   ],
   "source": [
    "dflist = [eurnok_r, brent_r, ecbpr_r, ecbi_r, norcpi_r, nbpr_r]\n",
    "dfliststr = ['eurnok_r', 'brent_r', 'ecbpr_r', 'ecbi_r', 'norcpi_r', 'nbpr_r']\n",
    "for data,name in zip(dflist, dfliststr): \n",
    "    print(name, data.duplicated().sum()) "
   ]
  },
  {
   "cell_type": "markdown",
   "metadata": {},
   "source": [
    "**Takeaway 1**: No duplicates are present in our dataframes. "
   ]
  },
  {
   "cell_type": "code",
   "execution_count": 760,
   "metadata": {},
   "outputs": [
    {
     "name": "stdout",
     "output_type": "stream",
     "text": [
      "Dataframe name: eurnok_r \n",
      " 0 \n",
      "\n",
      "Dataframe name: brent_r \n",
      " 6274 \n",
      "\n",
      "Dataframe name: ecbpr_r \n",
      " 0 \n",
      "\n",
      "Dataframe name: ecbi_r \n",
      " 192 \n",
      "\n",
      "Dataframe name: norcpi_r \n",
      " 0 \n",
      "\n",
      "Dataframe name: nbpr_r \n",
      " 12008 \n",
      "\n"
     ]
    }
   ],
   "source": [
    "for name,data in zip(dfliststr, dflist): \n",
    "    print(f'Dataframe name: {name}','\\n', data.isna().sum().sum(), '\\n')"
   ]
  },
  {
   "cell_type": "markdown",
   "metadata": {},
   "source": [
    "Some of our dataframes have NAs, but it might not be an issue. Let's take a closer look at brent, ecbi, and nbpr. "
   ]
  },
  {
   "cell_type": "code",
   "execution_count": 761,
   "metadata": {},
   "outputs": [
    {
     "data": {
      "text/plain": [
       "(7392, 6)"
      ]
     },
     "execution_count": 761,
     "metadata": {},
     "output_type": "execute_result"
    }
   ],
   "source": [
    "brent_r.shape"
   ]
  },
  {
   "cell_type": "code",
   "execution_count": 762,
   "metadata": {},
   "outputs": [
    {
     "data": {
      "text/html": [
       "<div>\n",
       "<style scoped>\n",
       "    .dataframe tbody tr th:only-of-type {\n",
       "        vertical-align: middle;\n",
       "    }\n",
       "\n",
       "    .dataframe tbody tr th {\n",
       "        vertical-align: top;\n",
       "    }\n",
       "\n",
       "    .dataframe thead th {\n",
       "        text-align: right;\n",
       "    }\n",
       "</style>\n",
       "<table border=\"1\" class=\"dataframe\">\n",
       "  <thead>\n",
       "    <tr style=\"text-align: right;\">\n",
       "      <th></th>\n",
       "      <th>Unnamed: 0</th>\n",
       "      <th>Day</th>\n",
       "      <th>Date</th>\n",
       "      <th>Last px</th>\n",
       "      <th>Open Int</th>\n",
       "      <th>SMAVG (15)</th>\n",
       "    </tr>\n",
       "  </thead>\n",
       "  <tbody>\n",
       "    <tr>\n",
       "      <th>7382</th>\n",
       "      <td>7382</td>\n",
       "      <td>NaN</td>\n",
       "      <td>NaN</td>\n",
       "      <td>NaN</td>\n",
       "      <td>NaN</td>\n",
       "      <td>NaN</td>\n",
       "    </tr>\n",
       "    <tr>\n",
       "      <th>7383</th>\n",
       "      <td>7383</td>\n",
       "      <td>Fr</td>\n",
       "      <td>12/17/1999</td>\n",
       "      <td>25.52</td>\n",
       "      <td>68617</td>\n",
       "      <td>NaN</td>\n",
       "    </tr>\n",
       "    <tr>\n",
       "      <th>7384</th>\n",
       "      <td>7384</td>\n",
       "      <td>Th</td>\n",
       "      <td>12/16/1999</td>\n",
       "      <td>26.09</td>\n",
       "      <td>20753</td>\n",
       "      <td>NaN</td>\n",
       "    </tr>\n",
       "    <tr>\n",
       "      <th>7385</th>\n",
       "      <td>7385</td>\n",
       "      <td>We</td>\n",
       "      <td>12/15/1999</td>\n",
       "      <td>25.43</td>\n",
       "      <td>17293</td>\n",
       "      <td>NaN</td>\n",
       "    </tr>\n",
       "    <tr>\n",
       "      <th>7386</th>\n",
       "      <td>7386</td>\n",
       "      <td>Tu</td>\n",
       "      <td>12/14/1999</td>\n",
       "      <td>25.02</td>\n",
       "      <td>27979</td>\n",
       "      <td>NaN</td>\n",
       "    </tr>\n",
       "    <tr>\n",
       "      <th>7387</th>\n",
       "      <td>7387</td>\n",
       "      <td>Mo</td>\n",
       "      <td>12/13/1999</td>\n",
       "      <td>24.58</td>\n",
       "      <td>36380</td>\n",
       "      <td>NaN</td>\n",
       "    </tr>\n",
       "    <tr>\n",
       "      <th>7388</th>\n",
       "      <td>7388</td>\n",
       "      <td>NaN</td>\n",
       "      <td>NaN</td>\n",
       "      <td>NaN</td>\n",
       "      <td>NaN</td>\n",
       "      <td>NaN</td>\n",
       "    </tr>\n",
       "    <tr>\n",
       "      <th>7389</th>\n",
       "      <td>7389</td>\n",
       "      <td>Fr</td>\n",
       "      <td>12-10-99</td>\n",
       "      <td>24.46</td>\n",
       "      <td>38094</td>\n",
       "      <td>NaN</td>\n",
       "    </tr>\n",
       "    <tr>\n",
       "      <th>7390</th>\n",
       "      <td>7390</td>\n",
       "      <td>Th</td>\n",
       "      <td>12-09-99</td>\n",
       "      <td>25.05</td>\n",
       "      <td>39170</td>\n",
       "      <td>NaN</td>\n",
       "    </tr>\n",
       "    <tr>\n",
       "      <th>7391</th>\n",
       "      <td>7391</td>\n",
       "      <td>We</td>\n",
       "      <td>12-08-99</td>\n",
       "      <td>25.69</td>\n",
       "      <td>41388</td>\n",
       "      <td>NaN</td>\n",
       "    </tr>\n",
       "  </tbody>\n",
       "</table>\n",
       "</div>"
      ],
      "text/plain": [
       "      Unnamed: 0  Day        Date  Last px Open Int SMAVG (15)\n",
       "7382        7382  NaN         NaN      NaN      NaN        NaN\n",
       "7383        7383   Fr  12/17/1999    25.52    68617        NaN\n",
       "7384        7384   Th  12/16/1999    26.09    20753        NaN\n",
       "7385        7385   We  12/15/1999    25.43    17293        NaN\n",
       "7386        7386   Tu  12/14/1999    25.02    27979        NaN\n",
       "7387        7387   Mo  12/13/1999    24.58    36380        NaN\n",
       "7388        7388  NaN         NaN      NaN      NaN        NaN\n",
       "7389        7389   Fr    12-10-99    24.46    38094        NaN\n",
       "7390        7390   Th    12-09-99    25.05    39170        NaN\n",
       "7391        7391   We    12-08-99    25.69    41388        NaN"
      ]
     },
     "execution_count": 762,
     "metadata": {},
     "output_type": "execute_result"
    }
   ],
   "source": [
    "brent_r.tail(n=10)"
   ]
  },
  {
   "cell_type": "markdown",
   "metadata": {},
   "source": [
    "We have 7392 rows for brent, and 1/6 of the rows are NAs because brent is only quoted in the weekends, and each week is followed by an NaN likely as a result of the data gathering. Hence, the NaNs are not an issue."
   ]
  },
  {
   "cell_type": "code",
   "execution_count": 763,
   "metadata": {},
   "outputs": [
    {
     "data": {
      "text/plain": [
       "1232.0"
      ]
     },
     "execution_count": 763,
     "metadata": {},
     "output_type": "execute_result"
    }
   ],
   "source": [
    "len(brent_r)*(1/6)"
   ]
  },
  {
   "cell_type": "code",
   "execution_count": 764,
   "metadata": {},
   "outputs": [
    {
     "data": {
      "text/plain": [
       "1250"
      ]
     },
     "execution_count": 764,
     "metadata": {},
     "output_type": "execute_result"
    }
   ],
   "source": [
    "brent_r['Last px'].isna().sum()"
   ]
  },
  {
   "cell_type": "markdown",
   "metadata": {},
   "source": [
    "**Takeaway brent**: The NaNs diff between 1232 and 1250 are neglishible, as we will look to aggregate our data to a monthly level. Let's look at ecbi next. "
   ]
  },
  {
   "cell_type": "code",
   "execution_count": 766,
   "metadata": {},
   "outputs": [
    {
     "data": {
      "text/html": [
       "<div>\n",
       "<style scoped>\n",
       "    .dataframe tbody tr th:only-of-type {\n",
       "        vertical-align: middle;\n",
       "    }\n",
       "\n",
       "    .dataframe tbody tr th {\n",
       "        vertical-align: top;\n",
       "    }\n",
       "\n",
       "    .dataframe thead th {\n",
       "        text-align: right;\n",
       "    }\n",
       "</style>\n",
       "<table border=\"1\" class=\"dataframe\">\n",
       "  <thead>\n",
       "    <tr style=\"text-align: right;\">\n",
       "      <th></th>\n",
       "      <th>Unnamed: 0</th>\n",
       "      <th>DATE</th>\n",
       "      <th>TIME PERIOD</th>\n",
       "      <th>HICP - Overall index (ICP.M.AT.N.000000.4.ANR)</th>\n",
       "      <th>HICP - Overall index (ICP.M.BE.N.000000.4.ANR)</th>\n",
       "      <th>HICP - Overall index (ICP.M.CY.N.000000.4.ANR)</th>\n",
       "      <th>HICP - Overall index (ICP.M.DE.N.000000.4.ANR)</th>\n",
       "      <th>HICP - Overall index (ICP.M.EE.N.000000.4.ANR)</th>\n",
       "      <th>HICP - Overall index (ICP.M.ES.N.000000.4.ANR)</th>\n",
       "      <th>HICP - Overall index (ICP.M.FI.N.000000.4.ANR)</th>\n",
       "      <th>HICP - Overall index (ICP.M.FR.N.000000.4.ANR)</th>\n",
       "      <th>HICP - Overall index (ICP.M.GR.N.000000.4.ANR)</th>\n",
       "      <th>HICP - Overall index (ICP.M.HR.N.000000.4.ANR)</th>\n",
       "      <th>HICP - Overall index (ICP.M.IE.N.000000.4.ANR)</th>\n",
       "      <th>HICP - Overall index (ICP.M.IT.N.000000.4.ANR)</th>\n",
       "      <th>HICP - Overall index (ICP.M.LT.N.000000.4.ANR)</th>\n",
       "      <th>HICP - Overall index (ICP.M.LU.N.000000.4.ANR)</th>\n",
       "      <th>HICP - Overall index (ICP.M.LV.N.000000.4.ANR)</th>\n",
       "      <th>HICP - Overall index (ICP.M.MT.N.000000.4.ANR)</th>\n",
       "      <th>HICP - Overall index (ICP.M.NL.N.000000.4.ANR)</th>\n",
       "      <th>HICP - Overall index (ICP.M.PT.N.000000.4.ANR)</th>\n",
       "      <th>HICP - Overall index (ICP.M.SI.N.000000.4.ANR)</th>\n",
       "      <th>HICP - Overall index (ICP.M.SK.N.000000.4.ANR)</th>\n",
       "      <th>HICP - Overall index (ICP.M.U2.N.000000.4.ANR)</th>\n",
       "    </tr>\n",
       "  </thead>\n",
       "  <tbody>\n",
       "    <tr>\n",
       "      <th>0</th>\n",
       "      <td>0</td>\n",
       "      <td>31-01-96</td>\n",
       "      <td>1996Jan</td>\n",
       "      <td>NaN</td>\n",
       "      <td>NaN</td>\n",
       "      <td>NaN</td>\n",
       "      <td>NaN</td>\n",
       "      <td>23.4</td>\n",
       "      <td>NaN</td>\n",
       "      <td>NaN</td>\n",
       "      <td>2.0</td>\n",
       "      <td>NaN</td>\n",
       "      <td>NaN</td>\n",
       "      <td>NaN</td>\n",
       "      <td>NaN</td>\n",
       "      <td>31.5</td>\n",
       "      <td>1.0</td>\n",
       "      <td>NaN</td>\n",
       "      <td>NaN</td>\n",
       "      <td>NaN</td>\n",
       "      <td>2.5</td>\n",
       "      <td>8.4</td>\n",
       "      <td>6.4</td>\n",
       "      <td>NaN</td>\n",
       "    </tr>\n",
       "    <tr>\n",
       "      <th>1</th>\n",
       "      <td>1</td>\n",
       "      <td>29-02-96</td>\n",
       "      <td>1996Feb</td>\n",
       "      <td>NaN</td>\n",
       "      <td>NaN</td>\n",
       "      <td>NaN</td>\n",
       "      <td>NaN</td>\n",
       "      <td>24.0</td>\n",
       "      <td>NaN</td>\n",
       "      <td>NaN</td>\n",
       "      <td>2.1</td>\n",
       "      <td>NaN</td>\n",
       "      <td>NaN</td>\n",
       "      <td>NaN</td>\n",
       "      <td>NaN</td>\n",
       "      <td>29.3</td>\n",
       "      <td>0.9</td>\n",
       "      <td>NaN</td>\n",
       "      <td>NaN</td>\n",
       "      <td>NaN</td>\n",
       "      <td>2.5</td>\n",
       "      <td>8.4</td>\n",
       "      <td>6.2</td>\n",
       "      <td>NaN</td>\n",
       "    </tr>\n",
       "  </tbody>\n",
       "</table>\n",
       "</div>"
      ],
      "text/plain": [
       "   Unnamed: 0      DATE TIME PERIOD  \\\n",
       "0           0  31-01-96     1996Jan   \n",
       "1           1  29-02-96     1996Feb   \n",
       "\n",
       "   HICP - Overall index (ICP.M.AT.N.000000.4.ANR)  \\\n",
       "0                                             NaN   \n",
       "1                                             NaN   \n",
       "\n",
       "   HICP - Overall index (ICP.M.BE.N.000000.4.ANR)  \\\n",
       "0                                             NaN   \n",
       "1                                             NaN   \n",
       "\n",
       "   HICP - Overall index (ICP.M.CY.N.000000.4.ANR)  \\\n",
       "0                                             NaN   \n",
       "1                                             NaN   \n",
       "\n",
       "   HICP - Overall index (ICP.M.DE.N.000000.4.ANR)  \\\n",
       "0                                             NaN   \n",
       "1                                             NaN   \n",
       "\n",
       "   HICP - Overall index (ICP.M.EE.N.000000.4.ANR)  \\\n",
       "0                                            23.4   \n",
       "1                                            24.0   \n",
       "\n",
       "   HICP - Overall index (ICP.M.ES.N.000000.4.ANR)  \\\n",
       "0                                             NaN   \n",
       "1                                             NaN   \n",
       "\n",
       "   HICP - Overall index (ICP.M.FI.N.000000.4.ANR)  \\\n",
       "0                                             NaN   \n",
       "1                                             NaN   \n",
       "\n",
       "   HICP - Overall index (ICP.M.FR.N.000000.4.ANR)  \\\n",
       "0                                             2.0   \n",
       "1                                             2.1   \n",
       "\n",
       "   HICP - Overall index (ICP.M.GR.N.000000.4.ANR)  \\\n",
       "0                                             NaN   \n",
       "1                                             NaN   \n",
       "\n",
       "   HICP - Overall index (ICP.M.HR.N.000000.4.ANR)  \\\n",
       "0                                             NaN   \n",
       "1                                             NaN   \n",
       "\n",
       "   HICP - Overall index (ICP.M.IE.N.000000.4.ANR)  \\\n",
       "0                                             NaN   \n",
       "1                                             NaN   \n",
       "\n",
       "   HICP - Overall index (ICP.M.IT.N.000000.4.ANR)  \\\n",
       "0                                             NaN   \n",
       "1                                             NaN   \n",
       "\n",
       "   HICP - Overall index (ICP.M.LT.N.000000.4.ANR)  \\\n",
       "0                                            31.5   \n",
       "1                                            29.3   \n",
       "\n",
       "   HICP - Overall index (ICP.M.LU.N.000000.4.ANR)  \\\n",
       "0                                             1.0   \n",
       "1                                             0.9   \n",
       "\n",
       "   HICP - Overall index (ICP.M.LV.N.000000.4.ANR)  \\\n",
       "0                                             NaN   \n",
       "1                                             NaN   \n",
       "\n",
       "   HICP - Overall index (ICP.M.MT.N.000000.4.ANR)  \\\n",
       "0                                             NaN   \n",
       "1                                             NaN   \n",
       "\n",
       "   HICP - Overall index (ICP.M.NL.N.000000.4.ANR)  \\\n",
       "0                                             NaN   \n",
       "1                                             NaN   \n",
       "\n",
       "   HICP - Overall index (ICP.M.PT.N.000000.4.ANR)  \\\n",
       "0                                             2.5   \n",
       "1                                             2.5   \n",
       "\n",
       "   HICP - Overall index (ICP.M.SI.N.000000.4.ANR)  \\\n",
       "0                                             8.4   \n",
       "1                                             8.4   \n",
       "\n",
       "   HICP - Overall index (ICP.M.SK.N.000000.4.ANR)  \\\n",
       "0                                             6.4   \n",
       "1                                             6.2   \n",
       "\n",
       "   HICP - Overall index (ICP.M.U2.N.000000.4.ANR)  \n",
       "0                                             NaN  \n",
       "1                                             NaN  "
      ]
     },
     "execution_count": 766,
     "metadata": {},
     "output_type": "execute_result"
    }
   ],
   "source": [
    "ecbi_r.head(2)"
   ]
  },
  {
   "cell_type": "code",
   "execution_count": 767,
   "metadata": {},
   "outputs": [
    {
     "data": {
      "text/plain": [
       "192"
      ]
     },
     "execution_count": 767,
     "metadata": {},
     "output_type": "execute_result"
    }
   ],
   "source": [
    "ecbi_r.isna().sum().sum()"
   ]
  },
  {
   "cell_type": "code",
   "execution_count": 768,
   "metadata": {},
   "outputs": [
    {
     "data": {
      "text/plain": [
       "(334, 24)"
      ]
     },
     "execution_count": 768,
     "metadata": {},
     "output_type": "execute_result"
    }
   ],
   "source": [
    "ecbi_r.shape"
   ]
  },
  {
   "cell_type": "code",
   "execution_count": 769,
   "metadata": {},
   "outputs": [
    {
     "data": {
      "text/html": [
       "<div>\n",
       "<style scoped>\n",
       "    .dataframe tbody tr th:only-of-type {\n",
       "        vertical-align: middle;\n",
       "    }\n",
       "\n",
       "    .dataframe tbody tr th {\n",
       "        vertical-align: top;\n",
       "    }\n",
       "\n",
       "    .dataframe thead th {\n",
       "        text-align: right;\n",
       "    }\n",
       "</style>\n",
       "<table border=\"1\" class=\"dataframe\">\n",
       "  <thead>\n",
       "    <tr style=\"text-align: right;\">\n",
       "      <th></th>\n",
       "      <th>Unnamed: 0</th>\n",
       "      <th>DATE</th>\n",
       "      <th>TIME PERIOD</th>\n",
       "      <th>HICP - Overall index (ICP.M.AT.N.000000.4.ANR)</th>\n",
       "      <th>HICP - Overall index (ICP.M.BE.N.000000.4.ANR)</th>\n",
       "      <th>HICP - Overall index (ICP.M.CY.N.000000.4.ANR)</th>\n",
       "      <th>HICP - Overall index (ICP.M.DE.N.000000.4.ANR)</th>\n",
       "      <th>HICP - Overall index (ICP.M.EE.N.000000.4.ANR)</th>\n",
       "      <th>HICP - Overall index (ICP.M.ES.N.000000.4.ANR)</th>\n",
       "      <th>HICP - Overall index (ICP.M.FI.N.000000.4.ANR)</th>\n",
       "      <th>HICP - Overall index (ICP.M.FR.N.000000.4.ANR)</th>\n",
       "      <th>HICP - Overall index (ICP.M.GR.N.000000.4.ANR)</th>\n",
       "      <th>HICP - Overall index (ICP.M.HR.N.000000.4.ANR)</th>\n",
       "      <th>HICP - Overall index (ICP.M.IE.N.000000.4.ANR)</th>\n",
       "      <th>HICP - Overall index (ICP.M.IT.N.000000.4.ANR)</th>\n",
       "      <th>HICP - Overall index (ICP.M.LT.N.000000.4.ANR)</th>\n",
       "      <th>HICP - Overall index (ICP.M.LU.N.000000.4.ANR)</th>\n",
       "      <th>HICP - Overall index (ICP.M.LV.N.000000.4.ANR)</th>\n",
       "      <th>HICP - Overall index (ICP.M.MT.N.000000.4.ANR)</th>\n",
       "      <th>HICP - Overall index (ICP.M.NL.N.000000.4.ANR)</th>\n",
       "      <th>HICP - Overall index (ICP.M.PT.N.000000.4.ANR)</th>\n",
       "      <th>HICP - Overall index (ICP.M.SI.N.000000.4.ANR)</th>\n",
       "      <th>HICP - Overall index (ICP.M.SK.N.000000.4.ANR)</th>\n",
       "      <th>HICP - Overall index (ICP.M.U2.N.000000.4.ANR)</th>\n",
       "    </tr>\n",
       "  </thead>\n",
       "  <tbody>\n",
       "    <tr>\n",
       "      <th>42</th>\n",
       "      <td>42</td>\n",
       "      <td>31-07-99</td>\n",
       "      <td>1999Jul</td>\n",
       "      <td>0.3</td>\n",
       "      <td>0.7</td>\n",
       "      <td>1.3</td>\n",
       "      <td>0.5</td>\n",
       "      <td>2.4</td>\n",
       "      <td>2.1</td>\n",
       "      <td>1.4</td>\n",
       "      <td>0.4</td>\n",
       "      <td>1.6</td>\n",
       "      <td>4.2</td>\n",
       "      <td>2.0</td>\n",
       "      <td>1.7</td>\n",
       "      <td>0.8</td>\n",
       "      <td>-0.3</td>\n",
       "      <td>1.6</td>\n",
       "      <td>1.7</td>\n",
       "      <td>1.8</td>\n",
       "      <td>1.9</td>\n",
       "      <td>6.0</td>\n",
       "      <td>13.6</td>\n",
       "      <td>1.0</td>\n",
       "    </tr>\n",
       "    <tr>\n",
       "      <th>43</th>\n",
       "      <td>43</td>\n",
       "      <td>31-08-99</td>\n",
       "      <td>1999Aug</td>\n",
       "      <td>0.5</td>\n",
       "      <td>0.9</td>\n",
       "      <td>-0.5</td>\n",
       "      <td>0.6</td>\n",
       "      <td>2.3</td>\n",
       "      <td>2.3</td>\n",
       "      <td>1.3</td>\n",
       "      <td>0.5</td>\n",
       "      <td>1.4</td>\n",
       "      <td>4.1</td>\n",
       "      <td>2.5</td>\n",
       "      <td>1.5</td>\n",
       "      <td>1.0</td>\n",
       "      <td>1.4</td>\n",
       "      <td>1.8</td>\n",
       "      <td>1.9</td>\n",
       "      <td>2.5</td>\n",
       "      <td>1.8</td>\n",
       "      <td>6.7</td>\n",
       "      <td>14.4</td>\n",
       "      <td>1.1</td>\n",
       "    </tr>\n",
       "    <tr>\n",
       "      <th>44</th>\n",
       "      <td>44</td>\n",
       "      <td>30-09-99</td>\n",
       "      <td>1999Sep</td>\n",
       "      <td>0.6</td>\n",
       "      <td>1.3</td>\n",
       "      <td>0.2</td>\n",
       "      <td>0.8</td>\n",
       "      <td>2.5</td>\n",
       "      <td>2.5</td>\n",
       "      <td>1.4</td>\n",
       "      <td>0.6</td>\n",
       "      <td>1.3</td>\n",
       "      <td>3.9</td>\n",
       "      <td>2.6</td>\n",
       "      <td>1.8</td>\n",
       "      <td>1.9</td>\n",
       "      <td>1.6</td>\n",
       "      <td>2.1</td>\n",
       "      <td>1.9</td>\n",
       "      <td>2.0</td>\n",
       "      <td>1.9</td>\n",
       "      <td>7.4</td>\n",
       "      <td>14.6</td>\n",
       "      <td>1.2</td>\n",
       "    </tr>\n",
       "    <tr>\n",
       "      <th>45</th>\n",
       "      <td>45</td>\n",
       "      <td>31-10-99</td>\n",
       "      <td>1999Oct</td>\n",
       "      <td>0.8</td>\n",
       "      <td>1.4</td>\n",
       "      <td>1.7</td>\n",
       "      <td>0.9</td>\n",
       "      <td>2.6</td>\n",
       "      <td>2.4</td>\n",
       "      <td>1.6</td>\n",
       "      <td>0.8</td>\n",
       "      <td>1.7</td>\n",
       "      <td>4.0</td>\n",
       "      <td>2.8</td>\n",
       "      <td>2.0</td>\n",
       "      <td>0.3</td>\n",
       "      <td>1.9</td>\n",
       "      <td>2.6</td>\n",
       "      <td>2.0</td>\n",
       "      <td>1.8</td>\n",
       "      <td>1.8</td>\n",
       "      <td>7.6</td>\n",
       "      <td>13.9</td>\n",
       "      <td>1.3</td>\n",
       "    </tr>\n",
       "    <tr>\n",
       "      <th>46</th>\n",
       "      <td>46</td>\n",
       "      <td>30-11-99</td>\n",
       "      <td>1999Nov</td>\n",
       "      <td>1.0</td>\n",
       "      <td>1.6</td>\n",
       "      <td>2.6</td>\n",
       "      <td>1.0</td>\n",
       "      <td>3.0</td>\n",
       "      <td>2.7</td>\n",
       "      <td>1.9</td>\n",
       "      <td>0.9</td>\n",
       "      <td>2.0</td>\n",
       "      <td>3.1</td>\n",
       "      <td>2.9</td>\n",
       "      <td>2.0</td>\n",
       "      <td>0.2</td>\n",
       "      <td>1.8</td>\n",
       "      <td>3.0</td>\n",
       "      <td>3.8</td>\n",
       "      <td>2.0</td>\n",
       "      <td>1.9</td>\n",
       "      <td>7.8</td>\n",
       "      <td>13.8</td>\n",
       "      <td>1.5</td>\n",
       "    </tr>\n",
       "  </tbody>\n",
       "</table>\n",
       "</div>"
      ],
      "text/plain": [
       "    Unnamed: 0      DATE TIME PERIOD  \\\n",
       "42          42  31-07-99     1999Jul   \n",
       "43          43  31-08-99     1999Aug   \n",
       "44          44  30-09-99     1999Sep   \n",
       "45          45  31-10-99     1999Oct   \n",
       "46          46  30-11-99     1999Nov   \n",
       "\n",
       "    HICP - Overall index (ICP.M.AT.N.000000.4.ANR)  \\\n",
       "42                                             0.3   \n",
       "43                                             0.5   \n",
       "44                                             0.6   \n",
       "45                                             0.8   \n",
       "46                                             1.0   \n",
       "\n",
       "    HICP - Overall index (ICP.M.BE.N.000000.4.ANR)  \\\n",
       "42                                             0.7   \n",
       "43                                             0.9   \n",
       "44                                             1.3   \n",
       "45                                             1.4   \n",
       "46                                             1.6   \n",
       "\n",
       "    HICP - Overall index (ICP.M.CY.N.000000.4.ANR)  \\\n",
       "42                                             1.3   \n",
       "43                                            -0.5   \n",
       "44                                             0.2   \n",
       "45                                             1.7   \n",
       "46                                             2.6   \n",
       "\n",
       "    HICP - Overall index (ICP.M.DE.N.000000.4.ANR)  \\\n",
       "42                                             0.5   \n",
       "43                                             0.6   \n",
       "44                                             0.8   \n",
       "45                                             0.9   \n",
       "46                                             1.0   \n",
       "\n",
       "    HICP - Overall index (ICP.M.EE.N.000000.4.ANR)  \\\n",
       "42                                             2.4   \n",
       "43                                             2.3   \n",
       "44                                             2.5   \n",
       "45                                             2.6   \n",
       "46                                             3.0   \n",
       "\n",
       "    HICP - Overall index (ICP.M.ES.N.000000.4.ANR)  \\\n",
       "42                                             2.1   \n",
       "43                                             2.3   \n",
       "44                                             2.5   \n",
       "45                                             2.4   \n",
       "46                                             2.7   \n",
       "\n",
       "    HICP - Overall index (ICP.M.FI.N.000000.4.ANR)  \\\n",
       "42                                             1.4   \n",
       "43                                             1.3   \n",
       "44                                             1.4   \n",
       "45                                             1.6   \n",
       "46                                             1.9   \n",
       "\n",
       "    HICP - Overall index (ICP.M.FR.N.000000.4.ANR)  \\\n",
       "42                                             0.4   \n",
       "43                                             0.5   \n",
       "44                                             0.6   \n",
       "45                                             0.8   \n",
       "46                                             0.9   \n",
       "\n",
       "    HICP - Overall index (ICP.M.GR.N.000000.4.ANR)  \\\n",
       "42                                             1.6   \n",
       "43                                             1.4   \n",
       "44                                             1.3   \n",
       "45                                             1.7   \n",
       "46                                             2.0   \n",
       "\n",
       "    HICP - Overall index (ICP.M.HR.N.000000.4.ANR)  \\\n",
       "42                                             4.2   \n",
       "43                                             4.1   \n",
       "44                                             3.9   \n",
       "45                                             4.0   \n",
       "46                                             3.1   \n",
       "\n",
       "    HICP - Overall index (ICP.M.IE.N.000000.4.ANR)  \\\n",
       "42                                             2.0   \n",
       "43                                             2.5   \n",
       "44                                             2.6   \n",
       "45                                             2.8   \n",
       "46                                             2.9   \n",
       "\n",
       "    HICP - Overall index (ICP.M.IT.N.000000.4.ANR)  \\\n",
       "42                                             1.7   \n",
       "43                                             1.5   \n",
       "44                                             1.8   \n",
       "45                                             2.0   \n",
       "46                                             2.0   \n",
       "\n",
       "    HICP - Overall index (ICP.M.LT.N.000000.4.ANR)  \\\n",
       "42                                             0.8   \n",
       "43                                             1.0   \n",
       "44                                             1.9   \n",
       "45                                             0.3   \n",
       "46                                             0.2   \n",
       "\n",
       "    HICP - Overall index (ICP.M.LU.N.000000.4.ANR)  \\\n",
       "42                                            -0.3   \n",
       "43                                             1.4   \n",
       "44                                             1.6   \n",
       "45                                             1.9   \n",
       "46                                             1.8   \n",
       "\n",
       "    HICP - Overall index (ICP.M.LV.N.000000.4.ANR)  \\\n",
       "42                                             1.6   \n",
       "43                                             1.8   \n",
       "44                                             2.1   \n",
       "45                                             2.6   \n",
       "46                                             3.0   \n",
       "\n",
       "    HICP - Overall index (ICP.M.MT.N.000000.4.ANR)  \\\n",
       "42                                             1.7   \n",
       "43                                             1.9   \n",
       "44                                             1.9   \n",
       "45                                             2.0   \n",
       "46                                             3.8   \n",
       "\n",
       "    HICP - Overall index (ICP.M.NL.N.000000.4.ANR)  \\\n",
       "42                                             1.8   \n",
       "43                                             2.5   \n",
       "44                                             2.0   \n",
       "45                                             1.8   \n",
       "46                                             2.0   \n",
       "\n",
       "    HICP - Overall index (ICP.M.PT.N.000000.4.ANR)  \\\n",
       "42                                             1.9   \n",
       "43                                             1.8   \n",
       "44                                             1.9   \n",
       "45                                             1.8   \n",
       "46                                             1.9   \n",
       "\n",
       "    HICP - Overall index (ICP.M.SI.N.000000.4.ANR)  \\\n",
       "42                                             6.0   \n",
       "43                                             6.7   \n",
       "44                                             7.4   \n",
       "45                                             7.6   \n",
       "46                                             7.8   \n",
       "\n",
       "    HICP - Overall index (ICP.M.SK.N.000000.4.ANR)  \\\n",
       "42                                            13.6   \n",
       "43                                            14.4   \n",
       "44                                            14.6   \n",
       "45                                            13.9   \n",
       "46                                            13.8   \n",
       "\n",
       "    HICP - Overall index (ICP.M.U2.N.000000.4.ANR)  \n",
       "42                                             1.0  \n",
       "43                                             1.1  \n",
       "44                                             1.2  \n",
       "45                                             1.3  \n",
       "46                                             1.5  "
      ]
     },
     "execution_count": 769,
     "metadata": {},
     "output_type": "execute_result"
    }
   ],
   "source": [
    "ecbi_r.iloc[0:47,:].tail()"
   ]
  },
  {
   "cell_type": "code",
   "execution_count": 771,
   "metadata": {},
   "outputs": [
    {
     "data": {
      "text/plain": [
       "192"
      ]
     },
     "execution_count": 771,
     "metadata": {},
     "output_type": "execute_result"
    }
   ],
   "source": [
    "ecbi_r.iloc[0:47,:].isna().sum().sum()"
   ]
  },
  {
   "cell_type": "markdown",
   "metadata": {},
   "source": [
    "**Takeaway ecbi**: All NaNs are related to date less than year 2000, which means the NaNs are neglishible as we are only interested in data from year 2000 and onwards. Let's look at nbpr next.  "
   ]
  },
  {
   "cell_type": "code",
   "execution_count": 772,
   "metadata": {},
   "outputs": [
    {
     "data": {
      "text/plain": [
       "CALC_METHOD           6004\n",
       "Calculation Method    6004\n",
       "Unnamed: 0               0\n",
       "dtype: int64"
      ]
     },
     "execution_count": 772,
     "metadata": {},
     "output_type": "execute_result"
    }
   ],
   "source": [
    "nbpr_r.isna().sum().sort_values(ascending=False).head(3)"
   ]
  },
  {
   "cell_type": "markdown",
   "metadata": {},
   "source": [
    "**Takeaway nbpr**: All NaNs are related to columns not in our interest and can be disregarded. "
   ]
  },
  {
   "cell_type": "markdown",
   "metadata": {},
   "source": [
    "**Overall Takeaway**: The dataframes do not contain any completeness or uniqueness issues, hence we do not have to include this part in our cleaning process. This part of the assessment stage is kept as reference even though there are no cleaning actions from it.  "
   ]
  },
  {
   "cell_type": "markdown",
   "metadata": {},
   "source": [
    "### Quality Issue 4: Noksales Consistency"
   ]
  },
  {
   "cell_type": "code",
   "execution_count": 4,
   "metadata": {},
   "outputs": [
    {
     "data": {
      "text/html": [
       "<div>\n",
       "<style scoped>\n",
       "    .dataframe tbody tr th:only-of-type {\n",
       "        vertical-align: middle;\n",
       "    }\n",
       "\n",
       "    .dataframe tbody tr th {\n",
       "        vertical-align: top;\n",
       "    }\n",
       "\n",
       "    .dataframe thead th {\n",
       "        text-align: right;\n",
       "    }\n",
       "</style>\n",
       "<table border=\"1\" class=\"dataframe\">\n",
       "  <thead>\n",
       "    <tr style=\"text-align: right;\">\n",
       "      <th></th>\n",
       "      <th>Unnamed: 0</th>\n",
       "      <th>Jan</th>\n",
       "      <th>Feb</th>\n",
       "      <th>Mar</th>\n",
       "      <th>Apr</th>\n",
       "      <th>May</th>\n",
       "      <th>Jun</th>\n",
       "      <th>Jul</th>\n",
       "      <th>Aug</th>\n",
       "      <th>Sep</th>\n",
       "      <th>Oct</th>\n",
       "      <th>Nov</th>\n",
       "      <th>Dec</th>\n",
       "    </tr>\n",
       "  </thead>\n",
       "  <tbody>\n",
       "    <tr>\n",
       "      <th>0</th>\n",
       "      <td>2023</td>\n",
       "      <td>1500</td>\n",
       "      <td>1900</td>\n",
       "      <td>1700</td>\n",
       "      <td>1500</td>\n",
       "      <td>1400</td>\n",
       "      <td>1300</td>\n",
       "      <td>1000</td>\n",
       "      <td>1000</td>\n",
       "      <td>1100</td>\n",
       "      <td>1200</td>\n",
       "      <td>1400</td>\n",
       "      <td>NaN</td>\n",
       "    </tr>\n",
       "    <tr>\n",
       "      <th>1</th>\n",
       "      <td>2022</td>\n",
       "      <td>-250</td>\n",
       "      <td>0</td>\n",
       "      <td>0</td>\n",
       "      <td>2000</td>\n",
       "      <td>2000</td>\n",
       "      <td>1500</td>\n",
       "      <td>1500</td>\n",
       "      <td>1500</td>\n",
       "      <td>3500</td>\n",
       "      <td>4300</td>\n",
       "      <td>3700</td>\n",
       "      <td>1900.0</td>\n",
       "    </tr>\n",
       "    <tr>\n",
       "      <th>2</th>\n",
       "      <td>2021</td>\n",
       "      <td>-800</td>\n",
       "      <td>-1700</td>\n",
       "      <td>-1700</td>\n",
       "      <td>-1800</td>\n",
       "      <td>-1800</td>\n",
       "      <td>-1700</td>\n",
       "      <td>-1700</td>\n",
       "      <td>-1700</td>\n",
       "      <td>-1700</td>\n",
       "      <td>-1700</td>\n",
       "      <td>-700 *\\n                \\nSe annotasjon</td>\n",
       "      <td>0.0</td>\n",
       "    </tr>\n",
       "    <tr>\n",
       "      <th>3</th>\n",
       "      <td>2020</td>\n",
       "      <td>-500</td>\n",
       "      <td>-500</td>\n",
       "      <td>-500 *\\n                \\nSe annotasjon</td>\n",
       "      <td>-2000</td>\n",
       "      <td>-2100</td>\n",
       "      <td>-2300</td>\n",
       "      <td>-2500</td>\n",
       "      <td>-2000</td>\n",
       "      <td>-2000</td>\n",
       "      <td>-1600</td>\n",
       "      <td>-1600 *\\n                \\nSe annotasjon</td>\n",
       "      <td>-500.0</td>\n",
       "    </tr>\n",
       "    <tr>\n",
       "      <th>4</th>\n",
       "      <td>2019</td>\n",
       "      <td>-350</td>\n",
       "      <td>-450</td>\n",
       "      <td>-600</td>\n",
       "      <td>-600</td>\n",
       "      <td>-600</td>\n",
       "      <td>-600</td>\n",
       "      <td>-600</td>\n",
       "      <td>-500</td>\n",
       "      <td>-700</td>\n",
       "      <td>-700</td>\n",
       "      <td>-700</td>\n",
       "      <td>-700.0</td>\n",
       "    </tr>\n",
       "  </tbody>\n",
       "</table>\n",
       "</div>"
      ],
      "text/plain": [
       "   Unnamed: 0   Jan   Feb                                      Mar   Apr  \\\n",
       "0        2023  1500  1900                                     1700  1500   \n",
       "1        2022  -250     0                                        0  2000   \n",
       "2        2021  -800 -1700                                    -1700 -1800   \n",
       "3        2020  -500  -500  -500 *\\n                \\nSe annotasjon -2000   \n",
       "4        2019  -350  -450                                     -600  -600   \n",
       "\n",
       "     May   Jun   Jul   Aug   Sep    Oct  \\\n",
       "0   1400  1300  1000  1000  1100   1200   \n",
       "1   2000  1500  1500  1500  3500   4300   \n",
       "2  -1800 -1700 -1700 -1700 -1700  -1700   \n",
       "3  -2100 -2300 -2500 -2000 -2000  -1600   \n",
       "4   -600  -600  -600  -500  -700   -700   \n",
       "\n",
       "                                        Nov     Dec  \n",
       "0                                      1400     NaN  \n",
       "1                                      3700  1900.0  \n",
       "2   -700 *\\n                \\nSe annotasjon     0.0  \n",
       "3  -1600 *\\n                \\nSe annotasjon  -500.0  \n",
       "4                                      -700  -700.0  "
      ]
     },
     "execution_count": 4,
     "metadata": {},
     "output_type": "execute_result"
    }
   ],
   "source": [
    "noksales_r.head()"
   ]
  },
  {
   "cell_type": "code",
   "execution_count": 5,
   "metadata": {},
   "outputs": [
    {
     "data": {
      "text/plain": [
       "Unnamed: 0      int64\n",
       "Jan             int64\n",
       "Feb             int64\n",
       "Mar            object\n",
       "Apr             int64\n",
       "May            object\n",
       "Jun             int64\n",
       "Jul             int64\n",
       "Aug             int64\n",
       "Sep             int64\n",
       "Oct            object\n",
       "Nov            object\n",
       "Dec           float64\n",
       "dtype: object"
      ]
     },
     "execution_count": 5,
     "metadata": {},
     "output_type": "execute_result"
    }
   ],
   "source": [
    "noksales_r.dtypes"
   ]
  },
  {
   "cell_type": "markdown",
   "metadata": {},
   "source": [
    "**Takeaway**: \n",
    "* There are some strange values with e.g. \"-500 *\\nSe annotasjon\". Resulting from the web scraping. We can go back to the web scraping and fix it there, or fix it during cleaning.\n",
    "* Some values are ints, some objects and some floats. Let's make sure all values are floats."
   ]
  },
  {
   "cell_type": "markdown",
   "metadata": {},
   "source": [
    "**Action notes**: We will remove the text from the values and convert all values to floats. "
   ]
  },
  {
   "cell_type": "markdown",
   "metadata": {
    "id": "lXhGiYyiwwKN"
   },
   "source": [
    "### Tidiness Issue 1: Two types of values in the same dataframe"
   ]
  },
  {
   "cell_type": "code",
   "execution_count": 773,
   "metadata": {
    "id": "fleC5rORI0Xl"
   },
   "outputs": [
    {
     "data": {
      "text/html": [
       "<div>\n",
       "<style scoped>\n",
       "    .dataframe tbody tr th:only-of-type {\n",
       "        vertical-align: middle;\n",
       "    }\n",
       "\n",
       "    .dataframe tbody tr th {\n",
       "        vertical-align: top;\n",
       "    }\n",
       "\n",
       "    .dataframe thead th {\n",
       "        text-align: right;\n",
       "    }\n",
       "</style>\n",
       "<table border=\"1\" class=\"dataframe\">\n",
       "  <thead>\n",
       "    <tr style=\"text-align: right;\">\n",
       "      <th></th>\n",
       "      <th>Unnamed: 0</th>\n",
       "      <th>consumption group</th>\n",
       "      <th>month</th>\n",
       "      <th>contents</th>\n",
       "      <th>03013: Consumer Price Index, by consumption group, month and contents</th>\n",
       "    </tr>\n",
       "  </thead>\n",
       "  <tbody>\n",
       "    <tr>\n",
       "      <th>0</th>\n",
       "      <td>0</td>\n",
       "      <td>TOTAL All-item index</td>\n",
       "      <td>1979M01</td>\n",
       "      <td>Consumer Price Index (2015=100)</td>\n",
       "      <td>25.3</td>\n",
       "    </tr>\n",
       "    <tr>\n",
       "      <th>1</th>\n",
       "      <td>1</td>\n",
       "      <td>TOTAL All-item index</td>\n",
       "      <td>1979M01</td>\n",
       "      <td>Monthly change (per cent)</td>\n",
       "      <td>0.0</td>\n",
       "    </tr>\n",
       "    <tr>\n",
       "      <th>2</th>\n",
       "      <td>2</td>\n",
       "      <td>TOTAL All-item index</td>\n",
       "      <td>1979M01</td>\n",
       "      <td>12-month rate (per cent)</td>\n",
       "      <td>5.9</td>\n",
       "    </tr>\n",
       "    <tr>\n",
       "      <th>3</th>\n",
       "      <td>3</td>\n",
       "      <td>TOTAL All-item index</td>\n",
       "      <td>1979M02</td>\n",
       "      <td>Consumer Price Index (2015=100)</td>\n",
       "      <td>25.4</td>\n",
       "    </tr>\n",
       "    <tr>\n",
       "      <th>4</th>\n",
       "      <td>4</td>\n",
       "      <td>TOTAL All-item index</td>\n",
       "      <td>1979M02</td>\n",
       "      <td>Monthly change (per cent)</td>\n",
       "      <td>0.4</td>\n",
       "    </tr>\n",
       "  </tbody>\n",
       "</table>\n",
       "</div>"
      ],
      "text/plain": [
       "   Unnamed: 0     consumption group    month                         contents  \\\n",
       "0           0  TOTAL All-item index  1979M01  Consumer Price Index (2015=100)   \n",
       "1           1  TOTAL All-item index  1979M01        Monthly change (per cent)   \n",
       "2           2  TOTAL All-item index  1979M01         12-month rate (per cent)   \n",
       "3           3  TOTAL All-item index  1979M02  Consumer Price Index (2015=100)   \n",
       "4           4  TOTAL All-item index  1979M02        Monthly change (per cent)   \n",
       "\n",
       "   03013: Consumer Price Index, by consumption group, month and contents  \n",
       "0                                               25.3                      \n",
       "1                                                0.0                      \n",
       "2                                                5.9                      \n",
       "3                                               25.4                      \n",
       "4                                                0.4                      "
      ]
     },
     "execution_count": 773,
     "metadata": {},
     "output_type": "execute_result"
    }
   ],
   "source": [
    "norcpi_r.head()"
   ]
  },
  {
   "cell_type": "markdown",
   "metadata": {},
   "source": [
    "In this table we have contents as a column, and the values containing two different type of values. This violates one of the rules for tidy data: Multiple variables are stored in one column. "
   ]
  },
  {
   "cell_type": "code",
   "execution_count": 774,
   "metadata": {
    "id": "BTuQw7Rbsio4"
   },
   "outputs": [
    {
     "data": {
      "text/html": [
       "<div>\n",
       "<style scoped>\n",
       "    .dataframe tbody tr th:only-of-type {\n",
       "        vertical-align: middle;\n",
       "    }\n",
       "\n",
       "    .dataframe tbody tr th {\n",
       "        vertical-align: top;\n",
       "    }\n",
       "\n",
       "    .dataframe thead th {\n",
       "        text-align: right;\n",
       "    }\n",
       "</style>\n",
       "<table border=\"1\" class=\"dataframe\">\n",
       "  <thead>\n",
       "    <tr style=\"text-align: right;\">\n",
       "      <th></th>\n",
       "      <th>Unnamed: 0</th>\n",
       "      <th>03013: Consumer Price Index, by consumption group, month and contents</th>\n",
       "    </tr>\n",
       "  </thead>\n",
       "  <tbody>\n",
       "    <tr>\n",
       "      <th>count</th>\n",
       "      <td>1614.000000</td>\n",
       "      <td>1614.000000</td>\n",
       "    </tr>\n",
       "    <tr>\n",
       "      <th>mean</th>\n",
       "      <td>806.500000</td>\n",
       "      <td>26.711029</td>\n",
       "    </tr>\n",
       "    <tr>\n",
       "      <th>std</th>\n",
       "      <td>466.065982</td>\n",
       "      <td>37.948792</td>\n",
       "    </tr>\n",
       "    <tr>\n",
       "      <th>min</th>\n",
       "      <td>0.000000</td>\n",
       "      <td>-1.800000</td>\n",
       "    </tr>\n",
       "    <tr>\n",
       "      <th>25%</th>\n",
       "      <td>403.250000</td>\n",
       "      <td>0.500000</td>\n",
       "    </tr>\n",
       "    <tr>\n",
       "      <th>50%</th>\n",
       "      <td>806.500000</td>\n",
       "      <td>2.700000</td>\n",
       "    </tr>\n",
       "    <tr>\n",
       "      <th>75%</th>\n",
       "      <td>1209.750000</td>\n",
       "      <td>59.325000</td>\n",
       "    </tr>\n",
       "    <tr>\n",
       "      <th>max</th>\n",
       "      <td>1613.000000</td>\n",
       "      <td>131.100000</td>\n",
       "    </tr>\n",
       "  </tbody>\n",
       "</table>\n",
       "</div>"
      ],
      "text/plain": [
       "        Unnamed: 0  \\\n",
       "count  1614.000000   \n",
       "mean    806.500000   \n",
       "std     466.065982   \n",
       "min       0.000000   \n",
       "25%     403.250000   \n",
       "50%     806.500000   \n",
       "75%    1209.750000   \n",
       "max    1613.000000   \n",
       "\n",
       "       03013: Consumer Price Index, by consumption group, month and contents  \n",
       "count                                        1614.000000                      \n",
       "mean                                           26.711029                      \n",
       "std                                            37.948792                      \n",
       "min                                            -1.800000                      \n",
       "25%                                             0.500000                      \n",
       "50%                                             2.700000                      \n",
       "75%                                            59.325000                      \n",
       "max                                           131.100000                      "
      ]
     },
     "execution_count": 774,
     "metadata": {},
     "output_type": "execute_result"
    }
   ],
   "source": [
    "norcpi_r.describe()"
   ]
  },
  {
   "cell_type": "code",
   "execution_count": 775,
   "metadata": {},
   "outputs": [
    {
     "data": {
      "text/html": [
       "<div>\n",
       "<style scoped>\n",
       "    .dataframe tbody tr th:only-of-type {\n",
       "        vertical-align: middle;\n",
       "    }\n",
       "\n",
       "    .dataframe tbody tr th {\n",
       "        vertical-align: top;\n",
       "    }\n",
       "\n",
       "    .dataframe thead th {\n",
       "        text-align: right;\n",
       "    }\n",
       "</style>\n",
       "<table border=\"1\" class=\"dataframe\">\n",
       "  <thead>\n",
       "    <tr style=\"text-align: right;\">\n",
       "      <th></th>\n",
       "      <th>Unnamed: 0</th>\n",
       "      <th>consumption group</th>\n",
       "      <th>month</th>\n",
       "      <th>contents</th>\n",
       "      <th>03013: Consumer Price Index, by consumption group, month and contents</th>\n",
       "    </tr>\n",
       "  </thead>\n",
       "  <tbody>\n",
       "    <tr>\n",
       "      <th>1611</th>\n",
       "      <td>1611</td>\n",
       "      <td>TOTAL All-item index</td>\n",
       "      <td>2023M10</td>\n",
       "      <td>Consumer Price Index (2015=100)</td>\n",
       "      <td>131.1</td>\n",
       "    </tr>\n",
       "    <tr>\n",
       "      <th>1612</th>\n",
       "      <td>1612</td>\n",
       "      <td>TOTAL All-item index</td>\n",
       "      <td>2023M10</td>\n",
       "      <td>Monthly change (per cent)</td>\n",
       "      <td>1.0</td>\n",
       "    </tr>\n",
       "    <tr>\n",
       "      <th>1613</th>\n",
       "      <td>1613</td>\n",
       "      <td>TOTAL All-item index</td>\n",
       "      <td>2023M10</td>\n",
       "      <td>12-month rate (per cent)</td>\n",
       "      <td>4.0</td>\n",
       "    </tr>\n",
       "  </tbody>\n",
       "</table>\n",
       "</div>"
      ],
      "text/plain": [
       "      Unnamed: 0     consumption group    month  \\\n",
       "1611        1611  TOTAL All-item index  2023M10   \n",
       "1612        1612  TOTAL All-item index  2023M10   \n",
       "1613        1613  TOTAL All-item index  2023M10   \n",
       "\n",
       "                             contents  \\\n",
       "1611  Consumer Price Index (2015=100)   \n",
       "1612        Monthly change (per cent)   \n",
       "1613         12-month rate (per cent)   \n",
       "\n",
       "      03013: Consumer Price Index, by consumption group, month and contents  \n",
       "1611                                              131.1                      \n",
       "1612                                                1.0                      \n",
       "1613                                                4.0                      "
      ]
     },
     "execution_count": 775,
     "metadata": {},
     "output_type": "execute_result"
    }
   ],
   "source": [
    "norcpi_r.tail(3)"
   ]
  },
  {
   "cell_type": "markdown",
   "metadata": {},
   "source": [
    "**Takeaway**: norcpi should have a range of 25.3 in 1979 to 131.1 in october 2023. Small or negative values correspond to % change. (contents== Monthly change (per cent)). There are also a row for 12-month rate (per cent) values. "
   ]
  },
  {
   "cell_type": "markdown",
   "metadata": {},
   "source": [
    "**Action notes**: Create two new columns: Monthly change (per cent) and 12-month rate (per cent) and make sure there is only one row for each year-month. "
   ]
  },
  {
   "cell_type": "markdown",
   "metadata": {},
   "source": [
    "### Tidiness Issue 2: noksales - Tidy Data "
   ]
  },
  {
   "cell_type": "code",
   "execution_count": 776,
   "metadata": {},
   "outputs": [
    {
     "data": {
      "text/html": [
       "<div>\n",
       "<style scoped>\n",
       "    .dataframe tbody tr th:only-of-type {\n",
       "        vertical-align: middle;\n",
       "    }\n",
       "\n",
       "    .dataframe tbody tr th {\n",
       "        vertical-align: top;\n",
       "    }\n",
       "\n",
       "    .dataframe thead th {\n",
       "        text-align: right;\n",
       "    }\n",
       "</style>\n",
       "<table border=\"1\" class=\"dataframe\">\n",
       "  <thead>\n",
       "    <tr style=\"text-align: right;\">\n",
       "      <th></th>\n",
       "      <th>Unnamed: 0</th>\n",
       "      <th>Jan</th>\n",
       "      <th>Feb</th>\n",
       "      <th>Mar</th>\n",
       "      <th>Apr</th>\n",
       "      <th>May</th>\n",
       "      <th>Jun</th>\n",
       "      <th>Jul</th>\n",
       "      <th>Aug</th>\n",
       "      <th>Sep</th>\n",
       "      <th>Oct</th>\n",
       "      <th>Nov</th>\n",
       "      <th>Dec</th>\n",
       "    </tr>\n",
       "  </thead>\n",
       "  <tbody>\n",
       "    <tr>\n",
       "      <th>0</th>\n",
       "      <td>2023</td>\n",
       "      <td>1500</td>\n",
       "      <td>1900</td>\n",
       "      <td>1700</td>\n",
       "      <td>1500</td>\n",
       "      <td>1400</td>\n",
       "      <td>1300</td>\n",
       "      <td>1000</td>\n",
       "      <td>1000</td>\n",
       "      <td>1100</td>\n",
       "      <td>1200</td>\n",
       "      <td>1400</td>\n",
       "      <td>NaN</td>\n",
       "    </tr>\n",
       "    <tr>\n",
       "      <th>1</th>\n",
       "      <td>2022</td>\n",
       "      <td>-250</td>\n",
       "      <td>0</td>\n",
       "      <td>0</td>\n",
       "      <td>2000</td>\n",
       "      <td>2000</td>\n",
       "      <td>1500</td>\n",
       "      <td>1500</td>\n",
       "      <td>1500</td>\n",
       "      <td>3500</td>\n",
       "      <td>4300</td>\n",
       "      <td>3700</td>\n",
       "      <td>1900.0</td>\n",
       "    </tr>\n",
       "    <tr>\n",
       "      <th>2</th>\n",
       "      <td>2021</td>\n",
       "      <td>-800</td>\n",
       "      <td>-1700</td>\n",
       "      <td>-1700</td>\n",
       "      <td>-1800</td>\n",
       "      <td>-1800</td>\n",
       "      <td>-1700</td>\n",
       "      <td>-1700</td>\n",
       "      <td>-1700</td>\n",
       "      <td>-1700</td>\n",
       "      <td>-1700</td>\n",
       "      <td>-700 *\\n                \\nSe annotasjon</td>\n",
       "      <td>0.0</td>\n",
       "    </tr>\n",
       "    <tr>\n",
       "      <th>3</th>\n",
       "      <td>2020</td>\n",
       "      <td>-500</td>\n",
       "      <td>-500</td>\n",
       "      <td>-500 *\\n                \\nSe annotasjon</td>\n",
       "      <td>-2000</td>\n",
       "      <td>-2100</td>\n",
       "      <td>-2300</td>\n",
       "      <td>-2500</td>\n",
       "      <td>-2000</td>\n",
       "      <td>-2000</td>\n",
       "      <td>-1600</td>\n",
       "      <td>-1600 *\\n                \\nSe annotasjon</td>\n",
       "      <td>-500.0</td>\n",
       "    </tr>\n",
       "    <tr>\n",
       "      <th>4</th>\n",
       "      <td>2019</td>\n",
       "      <td>-350</td>\n",
       "      <td>-450</td>\n",
       "      <td>-600</td>\n",
       "      <td>-600</td>\n",
       "      <td>-600</td>\n",
       "      <td>-600</td>\n",
       "      <td>-600</td>\n",
       "      <td>-500</td>\n",
       "      <td>-700</td>\n",
       "      <td>-700</td>\n",
       "      <td>-700</td>\n",
       "      <td>-700.0</td>\n",
       "    </tr>\n",
       "  </tbody>\n",
       "</table>\n",
       "</div>"
      ],
      "text/plain": [
       "   Unnamed: 0   Jan   Feb                                      Mar   Apr  \\\n",
       "0        2023  1500  1900                                     1700  1500   \n",
       "1        2022  -250     0                                        0  2000   \n",
       "2        2021  -800 -1700                                    -1700 -1800   \n",
       "3        2020  -500  -500  -500 *\\n                \\nSe annotasjon -2000   \n",
       "4        2019  -350  -450                                     -600  -600   \n",
       "\n",
       "     May   Jun   Jul   Aug   Sep    Oct  \\\n",
       "0   1400  1300  1000  1000  1100   1200   \n",
       "1   2000  1500  1500  1500  3500   4300   \n",
       "2  -1800 -1700 -1700 -1700 -1700  -1700   \n",
       "3  -2100 -2300 -2500 -2000 -2000  -1600   \n",
       "4   -600  -600  -600  -500  -700   -700   \n",
       "\n",
       "                                        Nov     Dec  \n",
       "0                                      1400     NaN  \n",
       "1                                      3700  1900.0  \n",
       "2   -700 *\\n                \\nSe annotasjon     0.0  \n",
       "3  -1600 *\\n                \\nSe annotasjon  -500.0  \n",
       "4                                      -700  -700.0  "
      ]
     },
     "execution_count": 776,
     "metadata": {},
     "output_type": "execute_result"
    }
   ],
   "source": [
    "noksales_r.head()"
   ]
  },
  {
   "cell_type": "markdown",
   "metadata": {},
   "source": [
    "**Takeaway**: Noksales is in a matrix format with years on rows and months as columns. This is violates rules of tidy data. Let's convert the dataframe to a tidy setup. "
   ]
  },
  {
   "cell_type": "markdown",
   "metadata": {},
   "source": [
    "**Action notes**: We will convert the table to a tidy format. One column with date (yyyy-mm-dd) and one column with corresponding values."
   ]
  },
  {
   "cell_type": "markdown",
   "metadata": {
    "id": "D6gmLnBttpCh"
   },
   "source": [
    "<a id='Clean Data'></a>\n",
    "## 3. Clean data\n",
    "*In this section we will clean all datasets of the data quality and tidiness issues found in the assessment stage*. "
   ]
  },
  {
   "cell_type": "markdown",
   "metadata": {},
   "source": [
    "**Overview of cleaning steps**: \n",
    "1) Column formatting and date/value renaming. \n",
    "2) Date formatting as date for all dataframes.\n",
    "3) Value formatting as floats for all dataframes. \n",
    "4) Data interval consistency to month level for dataframes with daily data by taking the mean. \n",
    "5) Norcpi: To tidy format (create two new columns). \n",
    "6) Noksales: from matrix to tidy format with date column and values. \n",
    "7) Noksales: cleanup text from values and convert all to floats. "
   ]
  },
  {
   "cell_type": "code",
   "execution_count": 127,
   "metadata": {},
   "outputs": [],
   "source": [
    "# Let's make a copy of our raw original dataframes going forward #\n",
    "eurnok = eurnok_r.copy()\n",
    "brent = brent_r.copy()\n",
    "ecbpr = ecbpr_r.copy()\n",
    "ecbi = ecbi_r.copy()\n",
    "norcpi = norcpi_r.copy()\n",
    "nbpr = nbpr_r.copy()\n",
    "noksales = noksales_r.copy()"
   ]
  },
  {
   "cell_type": "markdown",
   "metadata": {
    "id": "FmFhN52Yyn3l"
   },
   "source": [
    "### **Quality Issue 1: (consistency): Inconsist formatting of date and values**\n",
    "1) Column formatting and date/value renaming\n",
    "2) Date formatting as date for all dataframes.\n",
    "3) Value formatting as float or integers for all dataframes\n",
    "\n",
    "Note: Most of the cleaning for noksales will happen at tidiness issue 2 and quality issue 4, and not during this step. "
   ]
  },
  {
   "cell_type": "markdown",
   "metadata": {},
   "source": [
    "**1) Column formatting and date/value renaming** "
   ]
  },
  {
   "cell_type": "code",
   "execution_count": 128,
   "metadata": {},
   "outputs": [],
   "source": [
    "# Strip, lower and replace all columns in all dataframes to make it easier to work with # \n",
    "dflist = [eurnok, brent, ecbpr, ecbi, norcpi, nbpr, noksales]\n",
    "for data in dflist: \n",
    "    data.rename(columns=lambda x: x.strip().lower().replace(\" \", \"_\"), inplace=True)"
   ]
  },
  {
   "cell_type": "code",
   "execution_count": 129,
   "metadata": {},
   "outputs": [],
   "source": [
    "# Rename columns of interest to make it easy and consistent to work with # \n",
    "eurnok.rename(columns = {\"time_period\": \"date\", \"obs_value\": \"eurnok_value\"}, inplace=True)\n",
    "brent.rename(columns = {\"last_px\": \"brent_value\"}, inplace=True)\n",
    "ecbpr.rename(columns = {ecbpr.columns[5]: \"ecbpr_value\"}, inplace=True)\n",
    "ecbi.rename(columns = {ecbi.columns[23]: \"ecbi_value\"}, inplace=True)\n",
    "norcpi.rename(columns = {\"month\": \"date\", norcpi.columns[4]: \"norcpi_value\"}, inplace=True)\n",
    "nbpr.rename(columns = {\"time_period\": \"date\", \"obs_value\": \"nbpr_value\"}, inplace=True)"
   ]
  },
  {
   "cell_type": "markdown",
   "metadata": {},
   "source": [
    "Let's visually confirm changes are to expetations below. "
   ]
  },
  {
   "cell_type": "code",
   "execution_count": 130,
   "metadata": {},
   "outputs": [
    {
     "data": {
      "text/html": [
       "<div>\n",
       "<style scoped>\n",
       "    .dataframe tbody tr th:only-of-type {\n",
       "        vertical-align: middle;\n",
       "    }\n",
       "\n",
       "    .dataframe tbody tr th {\n",
       "        vertical-align: top;\n",
       "    }\n",
       "\n",
       "    .dataframe thead th {\n",
       "        text-align: right;\n",
       "    }\n",
       "</style>\n",
       "<table border=\"1\" class=\"dataframe\">\n",
       "  <thead>\n",
       "    <tr style=\"text-align: right;\">\n",
       "      <th></th>\n",
       "      <th>date</th>\n",
       "      <th>eurnok_value</th>\n",
       "    </tr>\n",
       "  </thead>\n",
       "  <tbody>\n",
       "    <tr>\n",
       "      <th>0</th>\n",
       "      <td>2000-01-03</td>\n",
       "      <td>8,062</td>\n",
       "    </tr>\n",
       "  </tbody>\n",
       "</table>\n",
       "</div>"
      ],
      "text/plain": [
       "         date eurnok_value\n",
       "0  2000-01-03        8,062"
      ]
     },
     "execution_count": 130,
     "metadata": {},
     "output_type": "execute_result"
    },
    {
     "data": {
      "text/html": [
       "<div>\n",
       "<style scoped>\n",
       "    .dataframe tbody tr th:only-of-type {\n",
       "        vertical-align: middle;\n",
       "    }\n",
       "\n",
       "    .dataframe tbody tr th {\n",
       "        vertical-align: top;\n",
       "    }\n",
       "\n",
       "    .dataframe thead th {\n",
       "        text-align: right;\n",
       "    }\n",
       "</style>\n",
       "<table border=\"1\" class=\"dataframe\">\n",
       "  <thead>\n",
       "    <tr style=\"text-align: right;\">\n",
       "      <th></th>\n",
       "      <th>date</th>\n",
       "      <th>eurnok_value</th>\n",
       "    </tr>\n",
       "  </thead>\n",
       "  <tbody>\n",
       "    <tr>\n",
       "      <th>0</th>\n",
       "      <td>2000-01-03</td>\n",
       "      <td>8,062</td>\n",
       "    </tr>\n",
       "  </tbody>\n",
       "</table>\n",
       "</div>"
      ],
      "text/plain": [
       "         date eurnok_value\n",
       "0  2000-01-03        8,062"
      ]
     },
     "execution_count": 130,
     "metadata": {},
     "output_type": "execute_result"
    }
   ],
   "source": [
    "eurnok[['date', 'eurnok_value']].head(1)"
   ]
  },
  {
   "cell_type": "code",
   "execution_count": 136,
   "metadata": {},
   "outputs": [
    {
     "data": {
      "text/html": [
       "<div>\n",
       "<style scoped>\n",
       "    .dataframe tbody tr th:only-of-type {\n",
       "        vertical-align: middle;\n",
       "    }\n",
       "\n",
       "    .dataframe tbody tr th {\n",
       "        vertical-align: top;\n",
       "    }\n",
       "\n",
       "    .dataframe thead th {\n",
       "        text-align: right;\n",
       "    }\n",
       "</style>\n",
       "<table border=\"1\" class=\"dataframe\">\n",
       "  <thead>\n",
       "    <tr style=\"text-align: right;\">\n",
       "      <th></th>\n",
       "      <th>date</th>\n",
       "      <th>brent_value</th>\n",
       "    </tr>\n",
       "  </thead>\n",
       "  <tbody>\n",
       "    <tr>\n",
       "      <th>0</th>\n",
       "      <td>11-09-23</td>\n",
       "      <td>80.37</td>\n",
       "    </tr>\n",
       "  </tbody>\n",
       "</table>\n",
       "</div>"
      ],
      "text/plain": [
       "       date  brent_value\n",
       "0  11-09-23        80.37"
      ]
     },
     "execution_count": 136,
     "metadata": {},
     "output_type": "execute_result"
    }
   ],
   "source": [
    "brent[['date', 'brent_value']].head(1)"
   ]
  },
  {
   "cell_type": "code",
   "execution_count": 137,
   "metadata": {},
   "outputs": [
    {
     "data": {
      "text/html": [
       "<div>\n",
       "<style scoped>\n",
       "    .dataframe tbody tr th:only-of-type {\n",
       "        vertical-align: middle;\n",
       "    }\n",
       "\n",
       "    .dataframe tbody tr th {\n",
       "        vertical-align: top;\n",
       "    }\n",
       "\n",
       "    .dataframe thead th {\n",
       "        text-align: right;\n",
       "    }\n",
       "</style>\n",
       "<table border=\"1\" class=\"dataframe\">\n",
       "  <thead>\n",
       "    <tr style=\"text-align: right;\">\n",
       "      <th></th>\n",
       "      <th>date</th>\n",
       "      <th>ecbpr_value</th>\n",
       "    </tr>\n",
       "  </thead>\n",
       "  <tbody>\n",
       "    <tr>\n",
       "      <th>0</th>\n",
       "      <td>1999-01-01</td>\n",
       "      <td>3.0</td>\n",
       "    </tr>\n",
       "  </tbody>\n",
       "</table>\n",
       "</div>"
      ],
      "text/plain": [
       "         date  ecbpr_value\n",
       "0  1999-01-01          3.0"
      ]
     },
     "execution_count": 137,
     "metadata": {},
     "output_type": "execute_result"
    }
   ],
   "source": [
    "ecbpr[['date', 'ecbpr_value']].head(1)"
   ]
  },
  {
   "cell_type": "code",
   "execution_count": 138,
   "metadata": {},
   "outputs": [
    {
     "data": {
      "text/html": [
       "<div>\n",
       "<style scoped>\n",
       "    .dataframe tbody tr th:only-of-type {\n",
       "        vertical-align: middle;\n",
       "    }\n",
       "\n",
       "    .dataframe tbody tr th {\n",
       "        vertical-align: top;\n",
       "    }\n",
       "\n",
       "    .dataframe thead th {\n",
       "        text-align: right;\n",
       "    }\n",
       "</style>\n",
       "<table border=\"1\" class=\"dataframe\">\n",
       "  <thead>\n",
       "    <tr style=\"text-align: right;\">\n",
       "      <th></th>\n",
       "      <th>date</th>\n",
       "      <th>ecbi_value</th>\n",
       "    </tr>\n",
       "  </thead>\n",
       "  <tbody>\n",
       "    <tr>\n",
       "      <th>0</th>\n",
       "      <td>31-01-96</td>\n",
       "      <td>NaN</td>\n",
       "    </tr>\n",
       "  </tbody>\n",
       "</table>\n",
       "</div>"
      ],
      "text/plain": [
       "       date  ecbi_value\n",
       "0  31-01-96         NaN"
      ]
     },
     "execution_count": 138,
     "metadata": {},
     "output_type": "execute_result"
    }
   ],
   "source": [
    "ecbi[['date', 'ecbi_value']].head(1)"
   ]
  },
  {
   "cell_type": "code",
   "execution_count": 139,
   "metadata": {},
   "outputs": [
    {
     "data": {
      "text/html": [
       "<div>\n",
       "<style scoped>\n",
       "    .dataframe tbody tr th:only-of-type {\n",
       "        vertical-align: middle;\n",
       "    }\n",
       "\n",
       "    .dataframe tbody tr th {\n",
       "        vertical-align: top;\n",
       "    }\n",
       "\n",
       "    .dataframe thead th {\n",
       "        text-align: right;\n",
       "    }\n",
       "</style>\n",
       "<table border=\"1\" class=\"dataframe\">\n",
       "  <thead>\n",
       "    <tr style=\"text-align: right;\">\n",
       "      <th></th>\n",
       "      <th>date</th>\n",
       "      <th>norcpi_value</th>\n",
       "    </tr>\n",
       "  </thead>\n",
       "  <tbody>\n",
       "    <tr>\n",
       "      <th>0</th>\n",
       "      <td>1979M01</td>\n",
       "      <td>25.3</td>\n",
       "    </tr>\n",
       "  </tbody>\n",
       "</table>\n",
       "</div>"
      ],
      "text/plain": [
       "      date  norcpi_value\n",
       "0  1979M01          25.3"
      ]
     },
     "execution_count": 139,
     "metadata": {},
     "output_type": "execute_result"
    }
   ],
   "source": [
    "norcpi[['date', 'norcpi_value']].head(1)"
   ]
  },
  {
   "cell_type": "code",
   "execution_count": 140,
   "metadata": {},
   "outputs": [
    {
     "data": {
      "text/html": [
       "<div>\n",
       "<style scoped>\n",
       "    .dataframe tbody tr th:only-of-type {\n",
       "        vertical-align: middle;\n",
       "    }\n",
       "\n",
       "    .dataframe tbody tr th {\n",
       "        vertical-align: top;\n",
       "    }\n",
       "\n",
       "    .dataframe thead th {\n",
       "        text-align: right;\n",
       "    }\n",
       "</style>\n",
       "<table border=\"1\" class=\"dataframe\">\n",
       "  <thead>\n",
       "    <tr style=\"text-align: right;\">\n",
       "      <th></th>\n",
       "      <th>date</th>\n",
       "      <th>nbpr_value</th>\n",
       "    </tr>\n",
       "  </thead>\n",
       "  <tbody>\n",
       "    <tr>\n",
       "      <th>0</th>\n",
       "      <td>2000-01-03</td>\n",
       "      <td>5,5</td>\n",
       "    </tr>\n",
       "  </tbody>\n",
       "</table>\n",
       "</div>"
      ],
      "text/plain": [
       "         date nbpr_value\n",
       "0  2000-01-03        5,5"
      ]
     },
     "execution_count": 140,
     "metadata": {},
     "output_type": "execute_result"
    }
   ],
   "source": [
    "nbpr[['date', 'nbpr_value']].head(1)"
   ]
  },
  {
   "cell_type": "code",
   "execution_count": 141,
   "metadata": {},
   "outputs": [
    {
     "data": {
      "text/html": [
       "<div>\n",
       "<style scoped>\n",
       "    .dataframe tbody tr th:only-of-type {\n",
       "        vertical-align: middle;\n",
       "    }\n",
       "\n",
       "    .dataframe tbody tr th {\n",
       "        vertical-align: top;\n",
       "    }\n",
       "\n",
       "    .dataframe thead th {\n",
       "        text-align: right;\n",
       "    }\n",
       "</style>\n",
       "<table border=\"1\" class=\"dataframe\">\n",
       "  <thead>\n",
       "    <tr style=\"text-align: right;\">\n",
       "      <th></th>\n",
       "      <th>unnamed:_0</th>\n",
       "      <th>jan</th>\n",
       "      <th>feb</th>\n",
       "      <th>mar</th>\n",
       "      <th>apr</th>\n",
       "      <th>may</th>\n",
       "      <th>jun</th>\n",
       "      <th>jul</th>\n",
       "      <th>aug</th>\n",
       "      <th>sep</th>\n",
       "      <th>oct</th>\n",
       "      <th>nov</th>\n",
       "      <th>dec</th>\n",
       "    </tr>\n",
       "  </thead>\n",
       "  <tbody>\n",
       "    <tr>\n",
       "      <th>0</th>\n",
       "      <td>2023</td>\n",
       "      <td>1500</td>\n",
       "      <td>1900</td>\n",
       "      <td>1700</td>\n",
       "      <td>1500</td>\n",
       "      <td>1400</td>\n",
       "      <td>1300</td>\n",
       "      <td>1000</td>\n",
       "      <td>1000</td>\n",
       "      <td>1100</td>\n",
       "      <td>1200</td>\n",
       "      <td>1400</td>\n",
       "      <td>NaN</td>\n",
       "    </tr>\n",
       "  </tbody>\n",
       "</table>\n",
       "</div>"
      ],
      "text/plain": [
       "   unnamed:_0   jan   feb   mar   apr   may   jun   jul   aug   sep   oct  \\\n",
       "0        2023  1500  1900  1700  1500  1400  1300  1000  1000  1100  1200   \n",
       "\n",
       "    nov  dec  \n",
       "0  1400  NaN  "
      ]
     },
     "execution_count": 141,
     "metadata": {},
     "output_type": "execute_result"
    }
   ],
   "source": [
    "noksales.head(1)"
   ]
  },
  {
   "cell_type": "markdown",
   "metadata": {
    "id": "oUBee-LPytkv"
   },
   "source": [
    "**2) Datetime formatting** "
   ]
  },
  {
   "cell_type": "code",
   "execution_count": 142,
   "metadata": {},
   "outputs": [],
   "source": [
    "# Converting date columns to datetime # \n",
    "norcpi.date = pd.to_datetime(norcpi.date, format=\"%YM%m\") #special formatting requires special treatment\n",
    "dflist2 = [eurnok, brent, ecbpr, ecbi, nbpr] #list of other dataframes for loop\n",
    "for data in dflist2:\n",
    "    data.date = pd.to_datetime(data.date)"
   ]
  },
  {
   "cell_type": "code",
   "execution_count": 143,
   "metadata": {},
   "outputs": [
    {
     "name": "stdout",
     "output_type": "stream",
     "text": [
      "eurnok \n",
      "            date\n",
      "6011 2023-11-13\n",
      "brent \n",
      "            date\n",
      "7391 1999-12-08\n",
      "ecbpr \n",
      "            date\n",
      "9077 2023-11-08\n",
      "ecbi \n",
      "           date\n",
      "333 2023-10-31\n",
      "norcpi \n",
      "            date\n",
      "1613 2023-10-01\n",
      "nbpr \n",
      "            date\n",
      "6003 2023-11-13\n"
     ]
    }
   ],
   "source": [
    "# Confirming changes # \n",
    "dflist3 = [eurnok, brent, ecbpr, ecbi, norcpi, nbpr]\n",
    "dflist3str = ['eurnok', 'brent', 'ecbpr', 'ecbi', 'norcpi', 'nbpr']\n",
    "for data,i in zip(dflist3, dflist3str):\n",
    "    print(i, '\\n', data.filter(regex='^date$', axis=1).tail(1))     "
   ]
  },
  {
   "cell_type": "markdown",
   "metadata": {},
   "source": [
    "**3) Values formatting** "
   ]
  },
  {
   "cell_type": "code",
   "execution_count": 144,
   "metadata": {},
   "outputs": [
    {
     "name": "stdout",
     "output_type": "stream",
     "text": [
      "eurnok_value    object\n",
      "dtype: object\n",
      "brent_value    float64\n",
      "dtype: object\n",
      "ecbpr_value    float64\n",
      "dtype: object\n",
      "ecbi_value    float64\n",
      "dtype: object\n",
      "norcpi_value    float64\n",
      "dtype: object\n",
      "nbpr_value    object\n",
      "dtype: object\n"
     ]
    }
   ],
   "source": [
    "# Assessing which values are objects and which are floats # \n",
    "dflist3 = [eurnok, brent, ecbpr, ecbi, norcpi, nbpr]\n",
    "for data in dflist3:\n",
    "    print(data.filter(like='_value', axis=1).dtypes)"
   ]
  },
  {
   "cell_type": "markdown",
   "metadata": {},
   "source": [
    "eurnok and nbpr are objects, let's convert them to floats."
   ]
  },
  {
   "cell_type": "code",
   "execution_count": 145,
   "metadata": {},
   "outputs": [],
   "source": [
    "# Converting eurnok and nbpr to floats # \n",
    "eurnok.eurnok_value = eurnok.eurnok_value.str.replace(',', '.').astype(float)\n",
    "nbpr.nbpr_value = nbpr.nbpr_value.str.replace(',', '.').astype(float)"
   ]
  },
  {
   "cell_type": "code",
   "execution_count": 146,
   "metadata": {},
   "outputs": [
    {
     "name": "stdout",
     "output_type": "stream",
     "text": [
      "float64\n",
      "      eurnok_value\n",
      "6011        11.877 \n",
      "\n",
      "float64\n",
      "      brent_value\n",
      "7391        25.69 \n",
      "\n",
      "float64\n",
      "      ecbpr_value\n",
      "9077          4.5 \n",
      "\n",
      "float64\n",
      "     ecbi_value\n",
      "333         2.9 \n",
      "\n",
      "float64\n",
      "      norcpi_value\n",
      "1613           4.0 \n",
      "\n",
      "float64\n",
      "      nbpr_value\n",
      "6003        4.25 \n",
      "\n"
     ]
    }
   ],
   "source": [
    "# Confirming changes are to expectations # \n",
    "dflist3 = [eurnok, brent, ecbpr, ecbi, norcpi, nbpr]\n",
    "for data in dflist3:\n",
    "    print(data.filter(like='_value', axis=1).iloc[0].dtype)\n",
    "    print(data.filter(like='_value', axis=1).tail(1), '\\n')    "
   ]
  },
  {
   "cell_type": "markdown",
   "metadata": {},
   "source": [
    "**Takeaway**: Headers are now formatted correctly, column headers are renamed, dates are dates and values are floats. "
   ]
  },
  {
   "cell_type": "markdown",
   "metadata": {
    "id": "n_DAUbJrymBL"
   },
   "source": [
    "### **Quality Issue 2: Data interval and consistency**"
   ]
  },
  {
   "cell_type": "markdown",
   "metadata": {},
   "source": [
    "Data interval to a monthly level. The following dataframes require changes: \n",
    "* eurnok - daily data\n",
    "* brent - daily data\n",
    "* ecbpr - daily data\n",
    "* nbpr - daily data\n",
    "\n",
    "While performing these changes, we might aswell change the date format to year-month and remove not-required columns in the process. "
   ]
  },
  {
   "cell_type": "code",
   "execution_count": 147,
   "metadata": {
    "id": "5Yfb-Yu5MTuE"
   },
   "outputs": [
    {
     "data": {
      "text/html": [
       "<div>\n",
       "<style scoped>\n",
       "    .dataframe tbody tr th:only-of-type {\n",
       "        vertical-align: middle;\n",
       "    }\n",
       "\n",
       "    .dataframe tbody tr th {\n",
       "        vertical-align: top;\n",
       "    }\n",
       "\n",
       "    .dataframe thead th {\n",
       "        text-align: right;\n",
       "    }\n",
       "</style>\n",
       "<table border=\"1\" class=\"dataframe\">\n",
       "  <thead>\n",
       "    <tr style=\"text-align: right;\">\n",
       "      <th></th>\n",
       "      <th>date</th>\n",
       "      <th>eurnok_value</th>\n",
       "    </tr>\n",
       "  </thead>\n",
       "  <tbody>\n",
       "    <tr>\n",
       "      <th>6010</th>\n",
       "      <td>2023-11-10</td>\n",
       "      <td>11.8725</td>\n",
       "    </tr>\n",
       "    <tr>\n",
       "      <th>6011</th>\n",
       "      <td>2023-11-13</td>\n",
       "      <td>11.8770</td>\n",
       "    </tr>\n",
       "  </tbody>\n",
       "</table>\n",
       "</div>"
      ],
      "text/plain": [
       "           date  eurnok_value\n",
       "6010 2023-11-10       11.8725\n",
       "6011 2023-11-13       11.8770"
      ]
     },
     "execution_count": 147,
     "metadata": {},
     "output_type": "execute_result"
    }
   ],
   "source": [
    "eurnok[['date', 'eurnok_value']].tail(2)"
   ]
  },
  {
   "cell_type": "code",
   "execution_count": 148,
   "metadata": {},
   "outputs": [],
   "source": [
    "eurnok = eurnok.groupby(pd.PeriodIndex(eurnok['date'], freq=\"M\"))['eurnok_value'].mean().reset_index()\n",
    "brent = brent.groupby(pd.PeriodIndex(brent['date'], freq=\"M\"))['brent_value'].mean().reset_index()\n",
    "ecbpr = ecbpr.groupby(pd.PeriodIndex(ecbpr['date'], freq=\"M\"))['ecbpr_value'].mean().reset_index()\n",
    "nbpr = nbpr.groupby(pd.PeriodIndex(nbpr['date'], freq=\"M\"))['nbpr_value'].mean().reset_index()"
   ]
  },
  {
   "cell_type": "code",
   "execution_count": 149,
   "metadata": {},
   "outputs": [
    {
     "data": {
      "text/html": [
       "<div>\n",
       "<style scoped>\n",
       "    .dataframe tbody tr th:only-of-type {\n",
       "        vertical-align: middle;\n",
       "    }\n",
       "\n",
       "    .dataframe tbody tr th {\n",
       "        vertical-align: top;\n",
       "    }\n",
       "\n",
       "    .dataframe thead th {\n",
       "        text-align: right;\n",
       "    }\n",
       "</style>\n",
       "<table border=\"1\" class=\"dataframe\">\n",
       "  <thead>\n",
       "    <tr style=\"text-align: right;\">\n",
       "      <th></th>\n",
       "      <th>date</th>\n",
       "      <th>eurnok_value</th>\n",
       "    </tr>\n",
       "  </thead>\n",
       "  <tbody>\n",
       "    <tr>\n",
       "      <th>285</th>\n",
       "      <td>2023-10</td>\n",
       "      <td>11.628355</td>\n",
       "    </tr>\n",
       "    <tr>\n",
       "      <th>286</th>\n",
       "      <td>2023-11</td>\n",
       "      <td>11.875867</td>\n",
       "    </tr>\n",
       "  </tbody>\n",
       "</table>\n",
       "</div>"
      ],
      "text/plain": [
       "        date  eurnok_value\n",
       "285  2023-10     11.628355\n",
       "286  2023-11     11.875867"
      ]
     },
     "execution_count": 149,
     "metadata": {},
     "output_type": "execute_result"
    }
   ],
   "source": [
    "eurnok.tail(2)"
   ]
  },
  {
   "cell_type": "code",
   "execution_count": 150,
   "metadata": {},
   "outputs": [
    {
     "data": {
      "text/html": [
       "<div>\n",
       "<style scoped>\n",
       "    .dataframe tbody tr th:only-of-type {\n",
       "        vertical-align: middle;\n",
       "    }\n",
       "\n",
       "    .dataframe tbody tr th {\n",
       "        vertical-align: top;\n",
       "    }\n",
       "\n",
       "    .dataframe thead th {\n",
       "        text-align: right;\n",
       "    }\n",
       "</style>\n",
       "<table border=\"1\" class=\"dataframe\">\n",
       "  <thead>\n",
       "    <tr style=\"text-align: right;\">\n",
       "      <th></th>\n",
       "      <th>date</th>\n",
       "      <th>brent_value</th>\n",
       "    </tr>\n",
       "  </thead>\n",
       "  <tbody>\n",
       "    <tr>\n",
       "      <th>286</th>\n",
       "      <td>2023-10</td>\n",
       "      <td>88.704091</td>\n",
       "    </tr>\n",
       "    <tr>\n",
       "      <th>287</th>\n",
       "      <td>2023-11</td>\n",
       "      <td>83.295714</td>\n",
       "    </tr>\n",
       "  </tbody>\n",
       "</table>\n",
       "</div>"
      ],
      "text/plain": [
       "        date  brent_value\n",
       "286  2023-10    88.704091\n",
       "287  2023-11    83.295714"
      ]
     },
     "execution_count": 150,
     "metadata": {},
     "output_type": "execute_result"
    }
   ],
   "source": [
    "brent.tail(2)"
   ]
  },
  {
   "cell_type": "code",
   "execution_count": 151,
   "metadata": {},
   "outputs": [
    {
     "data": {
      "text/html": [
       "<div>\n",
       "<style scoped>\n",
       "    .dataframe tbody tr th:only-of-type {\n",
       "        vertical-align: middle;\n",
       "    }\n",
       "\n",
       "    .dataframe tbody tr th {\n",
       "        vertical-align: top;\n",
       "    }\n",
       "\n",
       "    .dataframe thead th {\n",
       "        text-align: right;\n",
       "    }\n",
       "</style>\n",
       "<table border=\"1\" class=\"dataframe\">\n",
       "  <thead>\n",
       "    <tr style=\"text-align: right;\">\n",
       "      <th></th>\n",
       "      <th>date</th>\n",
       "      <th>ecbpr_value</th>\n",
       "    </tr>\n",
       "  </thead>\n",
       "  <tbody>\n",
       "    <tr>\n",
       "      <th>297</th>\n",
       "      <td>2023-10</td>\n",
       "      <td>4.5</td>\n",
       "    </tr>\n",
       "    <tr>\n",
       "      <th>298</th>\n",
       "      <td>2023-11</td>\n",
       "      <td>4.5</td>\n",
       "    </tr>\n",
       "  </tbody>\n",
       "</table>\n",
       "</div>"
      ],
      "text/plain": [
       "        date  ecbpr_value\n",
       "297  2023-10          4.5\n",
       "298  2023-11          4.5"
      ]
     },
     "execution_count": 151,
     "metadata": {},
     "output_type": "execute_result"
    }
   ],
   "source": [
    "ecbpr.tail(2)"
   ]
  },
  {
   "cell_type": "code",
   "execution_count": 152,
   "metadata": {},
   "outputs": [
    {
     "data": {
      "text/html": [
       "<div>\n",
       "<style scoped>\n",
       "    .dataframe tbody tr th:only-of-type {\n",
       "        vertical-align: middle;\n",
       "    }\n",
       "\n",
       "    .dataframe tbody tr th {\n",
       "        vertical-align: top;\n",
       "    }\n",
       "\n",
       "    .dataframe thead th {\n",
       "        text-align: right;\n",
       "    }\n",
       "</style>\n",
       "<table border=\"1\" class=\"dataframe\">\n",
       "  <thead>\n",
       "    <tr style=\"text-align: right;\">\n",
       "      <th></th>\n",
       "      <th>date</th>\n",
       "      <th>nbpr_value</th>\n",
       "    </tr>\n",
       "  </thead>\n",
       "  <tbody>\n",
       "    <tr>\n",
       "      <th>285</th>\n",
       "      <td>2023-10</td>\n",
       "      <td>4.25</td>\n",
       "    </tr>\n",
       "    <tr>\n",
       "      <th>286</th>\n",
       "      <td>2023-11</td>\n",
       "      <td>4.25</td>\n",
       "    </tr>\n",
       "  </tbody>\n",
       "</table>\n",
       "</div>"
      ],
      "text/plain": [
       "        date  nbpr_value\n",
       "285  2023-10        4.25\n",
       "286  2023-11        4.25"
      ]
     },
     "execution_count": 152,
     "metadata": {},
     "output_type": "execute_result"
    }
   ],
   "source": [
    "nbpr.tail(2)"
   ]
  },
  {
   "cell_type": "code",
   "execution_count": 153,
   "metadata": {},
   "outputs": [
    {
     "name": "stdout",
     "output_type": "stream",
     "text": [
      "The shape of the dataframe is now (287, 2)\n",
      "The shape of the dataframe is now (288, 2)\n",
      "The shape of the dataframe is now (299, 2)\n",
      "The shape of the dataframe is now (287, 2)\n"
     ]
    }
   ],
   "source": [
    "dflist = [eurnok, brent, ecbpr, nbpr]\n",
    "for i in dflist: \n",
    "    print('The shape of the dataframe is now', i.shape)"
   ]
  },
  {
   "cell_type": "markdown",
   "metadata": {},
   "source": [
    "Let's also convert ecbi and norcpi to year-month while we are at it and create a common format for year-month objects. "
   ]
  },
  {
   "cell_type": "code",
   "execution_count": 154,
   "metadata": {},
   "outputs": [],
   "source": [
    "eurnok['date'] = eurnok['date'].dt.strftime('%Y-%m')\n",
    "brent['date'] = brent['date'].dt.strftime('%Y-%m')\n",
    "ecbpr['date'] = ecbpr['date'].dt.strftime('%Y-%m')\n",
    "nbpr['date'] = nbpr['date'].dt.strftime('%Y-%m')\n",
    "ecbi['date'] = ecbi['date'].dt.strftime('%Y-%m')\n",
    "norcpi['date'] = norcpi['date'].dt.strftime('%Y-%m')"
   ]
  },
  {
   "cell_type": "code",
   "execution_count": 155,
   "metadata": {},
   "outputs": [
    {
     "data": {
      "text/html": [
       "<div>\n",
       "<style scoped>\n",
       "    .dataframe tbody tr th:only-of-type {\n",
       "        vertical-align: middle;\n",
       "    }\n",
       "\n",
       "    .dataframe tbody tr th {\n",
       "        vertical-align: top;\n",
       "    }\n",
       "\n",
       "    .dataframe thead th {\n",
       "        text-align: right;\n",
       "    }\n",
       "</style>\n",
       "<table border=\"1\" class=\"dataframe\">\n",
       "  <thead>\n",
       "    <tr style=\"text-align: right;\">\n",
       "      <th></th>\n",
       "      <th>date</th>\n",
       "      <th>ecbi_value</th>\n",
       "    </tr>\n",
       "  </thead>\n",
       "  <tbody>\n",
       "    <tr>\n",
       "      <th>332</th>\n",
       "      <td>2023-09</td>\n",
       "      <td>4.3</td>\n",
       "    </tr>\n",
       "    <tr>\n",
       "      <th>333</th>\n",
       "      <td>2023-10</td>\n",
       "      <td>2.9</td>\n",
       "    </tr>\n",
       "  </tbody>\n",
       "</table>\n",
       "</div>"
      ],
      "text/plain": [
       "        date  ecbi_value\n",
       "332  2023-09         4.3\n",
       "333  2023-10         2.9"
      ]
     },
     "execution_count": 155,
     "metadata": {},
     "output_type": "execute_result"
    }
   ],
   "source": [
    "ecbi[['date', 'ecbi_value']].tail(2)"
   ]
  },
  {
   "cell_type": "code",
   "execution_count": 156,
   "metadata": {},
   "outputs": [
    {
     "data": {
      "text/html": [
       "<div>\n",
       "<style scoped>\n",
       "    .dataframe tbody tr th:only-of-type {\n",
       "        vertical-align: middle;\n",
       "    }\n",
       "\n",
       "    .dataframe tbody tr th {\n",
       "        vertical-align: top;\n",
       "    }\n",
       "\n",
       "    .dataframe thead th {\n",
       "        text-align: right;\n",
       "    }\n",
       "</style>\n",
       "<table border=\"1\" class=\"dataframe\">\n",
       "  <thead>\n",
       "    <tr style=\"text-align: right;\">\n",
       "      <th></th>\n",
       "      <th>date</th>\n",
       "      <th>norcpi_value</th>\n",
       "    </tr>\n",
       "  </thead>\n",
       "  <tbody>\n",
       "    <tr>\n",
       "      <th>1612</th>\n",
       "      <td>2023-10</td>\n",
       "      <td>1.0</td>\n",
       "    </tr>\n",
       "    <tr>\n",
       "      <th>1613</th>\n",
       "      <td>2023-10</td>\n",
       "      <td>4.0</td>\n",
       "    </tr>\n",
       "  </tbody>\n",
       "</table>\n",
       "</div>"
      ],
      "text/plain": [
       "         date  norcpi_value\n",
       "1612  2023-10           1.0\n",
       "1613  2023-10           4.0"
      ]
     },
     "execution_count": 156,
     "metadata": {},
     "output_type": "execute_result"
    }
   ],
   "source": [
    "norcpi[['date', 'norcpi_value']].tail(2)"
   ]
  },
  {
   "cell_type": "markdown",
   "metadata": {},
   "source": [
    "**Takeaway**: Daily data is converted to monthly data by taking the mean of each value for each month. The date for all 6 dataframes are now in year-month format. "
   ]
  },
  {
   "cell_type": "markdown",
   "metadata": {},
   "source": [
    "### Quality Issue 3: Completeness and Uniqueness - No Actions Required "
   ]
  },
  {
   "cell_type": "markdown",
   "metadata": {
    "id": "bIUrrfSNyOPR"
   },
   "source": [
    "### **Tidiness Issue 1: Two types of values in the same dataframe**"
   ]
  },
  {
   "cell_type": "code",
   "execution_count": 157,
   "metadata": {},
   "outputs": [
    {
     "data": {
      "text/html": [
       "<div>\n",
       "<style scoped>\n",
       "    .dataframe tbody tr th:only-of-type {\n",
       "        vertical-align: middle;\n",
       "    }\n",
       "\n",
       "    .dataframe tbody tr th {\n",
       "        vertical-align: top;\n",
       "    }\n",
       "\n",
       "    .dataframe thead th {\n",
       "        text-align: right;\n",
       "    }\n",
       "</style>\n",
       "<table border=\"1\" class=\"dataframe\">\n",
       "  <thead>\n",
       "    <tr style=\"text-align: right;\">\n",
       "      <th></th>\n",
       "      <th>unnamed:_0</th>\n",
       "      <th>consumption_group</th>\n",
       "      <th>date</th>\n",
       "      <th>contents</th>\n",
       "      <th>norcpi_value</th>\n",
       "    </tr>\n",
       "  </thead>\n",
       "  <tbody>\n",
       "    <tr>\n",
       "      <th>0</th>\n",
       "      <td>0</td>\n",
       "      <td>TOTAL All-item index</td>\n",
       "      <td>1979-01</td>\n",
       "      <td>Consumer Price Index (2015=100)</td>\n",
       "      <td>25.3</td>\n",
       "    </tr>\n",
       "    <tr>\n",
       "      <th>1</th>\n",
       "      <td>1</td>\n",
       "      <td>TOTAL All-item index</td>\n",
       "      <td>1979-01</td>\n",
       "      <td>Monthly change (per cent)</td>\n",
       "      <td>0.0</td>\n",
       "    </tr>\n",
       "  </tbody>\n",
       "</table>\n",
       "</div>"
      ],
      "text/plain": [
       "   unnamed:_0     consumption_group     date                         contents  \\\n",
       "0           0  TOTAL All-item index  1979-01  Consumer Price Index (2015=100)   \n",
       "1           1  TOTAL All-item index  1979-01        Monthly change (per cent)   \n",
       "\n",
       "   norcpi_value  \n",
       "0          25.3  \n",
       "1           0.0  "
      ]
     },
     "execution_count": 157,
     "metadata": {},
     "output_type": "execute_result"
    }
   ],
   "source": [
    "norcpi.head(2)"
   ]
  },
  {
   "cell_type": "code",
   "execution_count": 158,
   "metadata": {},
   "outputs": [
    {
     "data": {
      "text/html": [
       "<div>\n",
       "<style scoped>\n",
       "    .dataframe tbody tr th:only-of-type {\n",
       "        vertical-align: middle;\n",
       "    }\n",
       "\n",
       "    .dataframe tbody tr th {\n",
       "        vertical-align: top;\n",
       "    }\n",
       "\n",
       "    .dataframe thead th {\n",
       "        text-align: right;\n",
       "    }\n",
       "</style>\n",
       "<table border=\"1\" class=\"dataframe\">\n",
       "  <thead>\n",
       "    <tr style=\"text-align: right;\">\n",
       "      <th>contents</th>\n",
       "      <th>date</th>\n",
       "      <th>12-month rate (per cent)</th>\n",
       "      <th>Consumer Price Index (2015=100)</th>\n",
       "      <th>Monthly change (per cent)</th>\n",
       "      <th>norcpi_value</th>\n",
       "    </tr>\n",
       "  </thead>\n",
       "  <tbody>\n",
       "    <tr>\n",
       "      <th>536</th>\n",
       "      <td>2023-09</td>\n",
       "      <td>3.3</td>\n",
       "      <td>129.8</td>\n",
       "      <td>-0.1</td>\n",
       "      <td>3.3</td>\n",
       "    </tr>\n",
       "    <tr>\n",
       "      <th>537</th>\n",
       "      <td>2023-10</td>\n",
       "      <td>4.0</td>\n",
       "      <td>131.1</td>\n",
       "      <td>1.0</td>\n",
       "      <td>4.0</td>\n",
       "    </tr>\n",
       "  </tbody>\n",
       "</table>\n",
       "</div>"
      ],
      "text/plain": [
       "contents     date  12-month rate (per cent)  Consumer Price Index (2015=100)  \\\n",
       "536       2023-09                       3.3                            129.8   \n",
       "537       2023-10                       4.0                            131.1   \n",
       "\n",
       "contents  Monthly change (per cent)  norcpi_value  \n",
       "536                            -0.1           3.3  \n",
       "537                             1.0           4.0  "
      ]
     },
     "execution_count": 158,
     "metadata": {},
     "output_type": "execute_result"
    }
   ],
   "source": [
    "# We will first pivot then rename one of the variables to the common format # \n",
    "norcpi = norcpi.pivot(index='date', columns='contents', values='norcpi_value').reset_index()\n",
    "norcpi['norcpi_value'] = norcpi['12-month rate (per cent)']\n",
    "norcpi.tail(2)"
   ]
  },
  {
   "cell_type": "markdown",
   "metadata": {},
   "source": [
    "**Takeaway**: Norcpi is pivoted so that there is only one observation per month. Our value of interest is the 12-month rate change, which corresponds to the ecbpr value for comparison. "
   ]
  },
  {
   "cell_type": "markdown",
   "metadata": {
    "id": "o51Bt8kwyTzk"
   },
   "source": [
    "### **Tidiness Issue 2: noksales - Tidy Data**"
   ]
  },
  {
   "cell_type": "code",
   "execution_count": 159,
   "metadata": {},
   "outputs": [
    {
     "data": {
      "text/html": [
       "<div>\n",
       "<style scoped>\n",
       "    .dataframe tbody tr th:only-of-type {\n",
       "        vertical-align: middle;\n",
       "    }\n",
       "\n",
       "    .dataframe tbody tr th {\n",
       "        vertical-align: top;\n",
       "    }\n",
       "\n",
       "    .dataframe thead th {\n",
       "        text-align: right;\n",
       "    }\n",
       "</style>\n",
       "<table border=\"1\" class=\"dataframe\">\n",
       "  <thead>\n",
       "    <tr style=\"text-align: right;\">\n",
       "      <th></th>\n",
       "      <th>unnamed:_0</th>\n",
       "      <th>jan</th>\n",
       "      <th>feb</th>\n",
       "      <th>mar</th>\n",
       "      <th>apr</th>\n",
       "      <th>may</th>\n",
       "      <th>jun</th>\n",
       "      <th>jul</th>\n",
       "      <th>aug</th>\n",
       "      <th>sep</th>\n",
       "      <th>oct</th>\n",
       "      <th>nov</th>\n",
       "      <th>dec</th>\n",
       "    </tr>\n",
       "  </thead>\n",
       "  <tbody>\n",
       "    <tr>\n",
       "      <th>0</th>\n",
       "      <td>2023</td>\n",
       "      <td>1500</td>\n",
       "      <td>1900</td>\n",
       "      <td>1700</td>\n",
       "      <td>1500</td>\n",
       "      <td>1400</td>\n",
       "      <td>1300</td>\n",
       "      <td>1000</td>\n",
       "      <td>1000</td>\n",
       "      <td>1100</td>\n",
       "      <td>1200</td>\n",
       "      <td>1400</td>\n",
       "      <td>NaN</td>\n",
       "    </tr>\n",
       "    <tr>\n",
       "      <th>1</th>\n",
       "      <td>2022</td>\n",
       "      <td>-250</td>\n",
       "      <td>0</td>\n",
       "      <td>0</td>\n",
       "      <td>2000</td>\n",
       "      <td>2000</td>\n",
       "      <td>1500</td>\n",
       "      <td>1500</td>\n",
       "      <td>1500</td>\n",
       "      <td>3500</td>\n",
       "      <td>4300</td>\n",
       "      <td>3700</td>\n",
       "      <td>1900.0</td>\n",
       "    </tr>\n",
       "    <tr>\n",
       "      <th>2</th>\n",
       "      <td>2021</td>\n",
       "      <td>-800</td>\n",
       "      <td>-1700</td>\n",
       "      <td>-1700</td>\n",
       "      <td>-1800</td>\n",
       "      <td>-1800</td>\n",
       "      <td>-1700</td>\n",
       "      <td>-1700</td>\n",
       "      <td>-1700</td>\n",
       "      <td>-1700</td>\n",
       "      <td>-1700</td>\n",
       "      <td>-700 *\\n                \\nSe annotasjon</td>\n",
       "      <td>0.0</td>\n",
       "    </tr>\n",
       "    <tr>\n",
       "      <th>3</th>\n",
       "      <td>2020</td>\n",
       "      <td>-500</td>\n",
       "      <td>-500</td>\n",
       "      <td>-500 *\\n                \\nSe annotasjon</td>\n",
       "      <td>-2000</td>\n",
       "      <td>-2100</td>\n",
       "      <td>-2300</td>\n",
       "      <td>-2500</td>\n",
       "      <td>-2000</td>\n",
       "      <td>-2000</td>\n",
       "      <td>-1600</td>\n",
       "      <td>-1600 *\\n                \\nSe annotasjon</td>\n",
       "      <td>-500.0</td>\n",
       "    </tr>\n",
       "    <tr>\n",
       "      <th>4</th>\n",
       "      <td>2019</td>\n",
       "      <td>-350</td>\n",
       "      <td>-450</td>\n",
       "      <td>-600</td>\n",
       "      <td>-600</td>\n",
       "      <td>-600</td>\n",
       "      <td>-600</td>\n",
       "      <td>-600</td>\n",
       "      <td>-500</td>\n",
       "      <td>-700</td>\n",
       "      <td>-700</td>\n",
       "      <td>-700</td>\n",
       "      <td>-700.0</td>\n",
       "    </tr>\n",
       "  </tbody>\n",
       "</table>\n",
       "</div>"
      ],
      "text/plain": [
       "   unnamed:_0   jan   feb                                      mar   apr  \\\n",
       "0        2023  1500  1900                                     1700  1500   \n",
       "1        2022  -250     0                                        0  2000   \n",
       "2        2021  -800 -1700                                    -1700 -1800   \n",
       "3        2020  -500  -500  -500 *\\n                \\nSe annotasjon -2000   \n",
       "4        2019  -350  -450                                     -600  -600   \n",
       "\n",
       "     may   jun   jul   aug   sep    oct  \\\n",
       "0   1400  1300  1000  1000  1100   1200   \n",
       "1   2000  1500  1500  1500  3500   4300   \n",
       "2  -1800 -1700 -1700 -1700 -1700  -1700   \n",
       "3  -2100 -2300 -2500 -2000 -2000  -1600   \n",
       "4   -600  -600  -600  -500  -700   -700   \n",
       "\n",
       "                                        nov     dec  \n",
       "0                                      1400     NaN  \n",
       "1                                      3700  1900.0  \n",
       "2   -700 *\\n                \\nSe annotasjon     0.0  \n",
       "3  -1600 *\\n                \\nSe annotasjon  -500.0  \n",
       "4                                      -700  -700.0  "
      ]
     },
     "execution_count": 159,
     "metadata": {},
     "output_type": "execute_result"
    }
   ],
   "source": [
    "noksales.head()"
   ]
  },
  {
   "cell_type": "code",
   "execution_count": 160,
   "metadata": {
    "id": "7zW8O5yx4Y9O"
   },
   "outputs": [
    {
     "data": {
      "text/plain": [
       "(288, 4)"
      ]
     },
     "execution_count": 160,
     "metadata": {},
     "output_type": "execute_result"
    }
   ],
   "source": [
    "# Converting dataframe from matrix format to tidy format # \n",
    "noksales = noksales.melt(id_vars=['unnamed:_0'], var_name=['month'], value_name='noksales_value')\n",
    "noksales['date'] = noksales['unnamed:_0'].astype(str)+noksales['month']\n",
    "noksales.date = pd.to_datetime(noksales.date + '01', format=\"%Y%b%d\") #special formatting requires special treatment\n",
    "noksales['date'] = noksales['date'].dt.strftime('%Y-%m')\n",
    "noksales = noksales.sort_values(by='date', ascending=False)\n",
    "noksales.shape"
   ]
  },
  {
   "cell_type": "code",
   "execution_count": 161,
   "metadata": {},
   "outputs": [
    {
     "data": {
      "text/html": [
       "<div>\n",
       "<style scoped>\n",
       "    .dataframe tbody tr th:only-of-type {\n",
       "        vertical-align: middle;\n",
       "    }\n",
       "\n",
       "    .dataframe tbody tr th {\n",
       "        vertical-align: top;\n",
       "    }\n",
       "\n",
       "    .dataframe thead th {\n",
       "        text-align: right;\n",
       "    }\n",
       "</style>\n",
       "<table border=\"1\" class=\"dataframe\">\n",
       "  <thead>\n",
       "    <tr style=\"text-align: right;\">\n",
       "      <th></th>\n",
       "      <th>unnamed:_0</th>\n",
       "      <th>month</th>\n",
       "      <th>noksales_value</th>\n",
       "      <th>date</th>\n",
       "    </tr>\n",
       "  </thead>\n",
       "  <tbody>\n",
       "    <tr>\n",
       "      <th>264</th>\n",
       "      <td>2023</td>\n",
       "      <td>dec</td>\n",
       "      <td>NaN</td>\n",
       "      <td>2023-12</td>\n",
       "    </tr>\n",
       "    <tr>\n",
       "      <th>240</th>\n",
       "      <td>2023</td>\n",
       "      <td>nov</td>\n",
       "      <td>1400</td>\n",
       "      <td>2023-11</td>\n",
       "    </tr>\n",
       "    <tr>\n",
       "      <th>216</th>\n",
       "      <td>2023</td>\n",
       "      <td>oct</td>\n",
       "      <td>1200</td>\n",
       "      <td>2023-10</td>\n",
       "    </tr>\n",
       "    <tr>\n",
       "      <th>192</th>\n",
       "      <td>2023</td>\n",
       "      <td>sep</td>\n",
       "      <td>1100</td>\n",
       "      <td>2023-09</td>\n",
       "    </tr>\n",
       "    <tr>\n",
       "      <th>168</th>\n",
       "      <td>2023</td>\n",
       "      <td>aug</td>\n",
       "      <td>1000</td>\n",
       "      <td>2023-08</td>\n",
       "    </tr>\n",
       "  </tbody>\n",
       "</table>\n",
       "</div>"
      ],
      "text/plain": [
       "     unnamed:_0 month noksales_value     date\n",
       "264        2023   dec            NaN  2023-12\n",
       "240        2023   nov           1400  2023-11\n",
       "216        2023   oct           1200  2023-10\n",
       "192        2023   sep           1100  2023-09\n",
       "168        2023   aug           1000  2023-08"
      ]
     },
     "execution_count": 161,
     "metadata": {},
     "output_type": "execute_result"
    }
   ],
   "source": [
    "noksales.head(5)"
   ]
  },
  {
   "cell_type": "markdown",
   "metadata": {},
   "source": [
    "**Takeaway 1**: Data is now in a tidy format."
   ]
  },
  {
   "cell_type": "markdown",
   "metadata": {},
   "source": [
    "### Quality Issue 4: Noksales Consistency"
   ]
  },
  {
   "cell_type": "markdown",
   "metadata": {},
   "source": [
    "7) Cleanup text from values and convert all values to floats."
   ]
  },
  {
   "cell_type": "code",
   "execution_count": 162,
   "metadata": {},
   "outputs": [
    {
     "data": {
      "text/html": [
       "<div>\n",
       "<style scoped>\n",
       "    .dataframe tbody tr th:only-of-type {\n",
       "        vertical-align: middle;\n",
       "    }\n",
       "\n",
       "    .dataframe tbody tr th {\n",
       "        vertical-align: top;\n",
       "    }\n",
       "\n",
       "    .dataframe thead th {\n",
       "        text-align: right;\n",
       "    }\n",
       "</style>\n",
       "<table border=\"1\" class=\"dataframe\">\n",
       "  <thead>\n",
       "    <tr style=\"text-align: right;\">\n",
       "      <th></th>\n",
       "      <th>unnamed:_0</th>\n",
       "      <th>month</th>\n",
       "      <th>noksales_value</th>\n",
       "      <th>date</th>\n",
       "    </tr>\n",
       "  </thead>\n",
       "  <tbody>\n",
       "    <tr>\n",
       "      <th>242</th>\n",
       "      <td>2021</td>\n",
       "      <td>nov</td>\n",
       "      <td>-700 *\\n                \\nSe annotasjon</td>\n",
       "      <td>2021-11</td>\n",
       "    </tr>\n",
       "    <tr>\n",
       "      <th>243</th>\n",
       "      <td>2020</td>\n",
       "      <td>nov</td>\n",
       "      <td>-1600 *\\n                \\nSe annotasjon</td>\n",
       "      <td>2020-11</td>\n",
       "    </tr>\n",
       "    <tr>\n",
       "      <th>51</th>\n",
       "      <td>2020</td>\n",
       "      <td>mar</td>\n",
       "      <td>-500 *\\n                \\nSe annotasjon</td>\n",
       "      <td>2020-03</td>\n",
       "    </tr>\n",
       "    <tr>\n",
       "      <th>231</th>\n",
       "      <td>2008</td>\n",
       "      <td>oct</td>\n",
       "      <td>1400 *\\n                \\nSe annotasjon</td>\n",
       "      <td>2008-10</td>\n",
       "    </tr>\n",
       "    <tr>\n",
       "      <th>116</th>\n",
       "      <td>2003</td>\n",
       "      <td>may</td>\n",
       "      <td>130 *\\n                \\nSe annotasjon</td>\n",
       "      <td>2003-05</td>\n",
       "    </tr>\n",
       "  </tbody>\n",
       "</table>\n",
       "</div>"
      ],
      "text/plain": [
       "     unnamed:_0 month                            noksales_value     date\n",
       "242        2021   nov   -700 *\\n                \\nSe annotasjon  2021-11\n",
       "243        2020   nov  -1600 *\\n                \\nSe annotasjon  2020-11\n",
       "51         2020   mar   -500 *\\n                \\nSe annotasjon  2020-03\n",
       "231        2008   oct   1400 *\\n                \\nSe annotasjon  2008-10\n",
       "116        2003   may    130 *\\n                \\nSe annotasjon  2003-05"
      ]
     },
     "execution_count": 162,
     "metadata": {},
     "output_type": "execute_result"
    }
   ],
   "source": [
    "noksales[noksales.noksales_value.str.contains('annotasjon') ==True]"
   ]
  },
  {
   "cell_type": "code",
   "execution_count": 163,
   "metadata": {},
   "outputs": [],
   "source": [
    "index = noksales[noksales.noksales_value.str.contains('annotasjon') ==True].index"
   ]
  },
  {
   "cell_type": "code",
   "execution_count": 164,
   "metadata": {},
   "outputs": [
    {
     "data": {
      "text/plain": [
       "1"
      ]
     },
     "execution_count": 164,
     "metadata": {},
     "output_type": "execute_result"
    }
   ],
   "source": [
    "noksales.isna().sum().sum()"
   ]
  },
  {
   "cell_type": "code",
   "execution_count": 165,
   "metadata": {},
   "outputs": [
    {
     "data": {
      "text/plain": [
       "(288, 4)"
      ]
     },
     "execution_count": 165,
     "metadata": {},
     "output_type": "execute_result"
    }
   ],
   "source": [
    "noksales.shape"
   ]
  },
  {
   "cell_type": "code",
   "execution_count": 166,
   "metadata": {},
   "outputs": [],
   "source": [
    "# Let's separate out the rows with the text issue # \n",
    "noksales_anno = noksales[noksales.noksales_value.str.contains('annotasjon') ==True]\n",
    "noksales = noksales[noksales.noksales_value.str.contains('annotasjon') !=True]\n",
    "noksales.noksales_value = noksales.noksales_value.astype(float)"
   ]
  },
  {
   "cell_type": "code",
   "execution_count": 167,
   "metadata": {},
   "outputs": [
    {
     "name": "stdout",
     "output_type": "stream",
     "text": [
      "(5, 4) (283, 4)\n"
     ]
    }
   ],
   "source": [
    "print(noksales_anno.shape, noksales.shape)"
   ]
  },
  {
   "cell_type": "code",
   "execution_count": 168,
   "metadata": {},
   "outputs": [
    {
     "data": {
      "text/html": [
       "<div>\n",
       "<style scoped>\n",
       "    .dataframe tbody tr th:only-of-type {\n",
       "        vertical-align: middle;\n",
       "    }\n",
       "\n",
       "    .dataframe tbody tr th {\n",
       "        vertical-align: top;\n",
       "    }\n",
       "\n",
       "    .dataframe thead th {\n",
       "        text-align: right;\n",
       "    }\n",
       "</style>\n",
       "<table border=\"1\" class=\"dataframe\">\n",
       "  <thead>\n",
       "    <tr style=\"text-align: right;\">\n",
       "      <th></th>\n",
       "      <th>unnamed:_0</th>\n",
       "      <th>month</th>\n",
       "      <th>noksales_value</th>\n",
       "      <th>date</th>\n",
       "    </tr>\n",
       "  </thead>\n",
       "  <tbody>\n",
       "    <tr>\n",
       "      <th>242</th>\n",
       "      <td>2021</td>\n",
       "      <td>nov</td>\n",
       "      <td>-700 *\\n                \\nSe annotasjon</td>\n",
       "      <td>2021-11</td>\n",
       "    </tr>\n",
       "    <tr>\n",
       "      <th>243</th>\n",
       "      <td>2020</td>\n",
       "      <td>nov</td>\n",
       "      <td>-1600 *\\n                \\nSe annotasjon</td>\n",
       "      <td>2020-11</td>\n",
       "    </tr>\n",
       "    <tr>\n",
       "      <th>51</th>\n",
       "      <td>2020</td>\n",
       "      <td>mar</td>\n",
       "      <td>-500 *\\n                \\nSe annotasjon</td>\n",
       "      <td>2020-03</td>\n",
       "    </tr>\n",
       "    <tr>\n",
       "      <th>231</th>\n",
       "      <td>2008</td>\n",
       "      <td>oct</td>\n",
       "      <td>1400 *\\n                \\nSe annotasjon</td>\n",
       "      <td>2008-10</td>\n",
       "    </tr>\n",
       "    <tr>\n",
       "      <th>116</th>\n",
       "      <td>2003</td>\n",
       "      <td>may</td>\n",
       "      <td>130 *\\n                \\nSe annotasjon</td>\n",
       "      <td>2003-05</td>\n",
       "    </tr>\n",
       "  </tbody>\n",
       "</table>\n",
       "</div>"
      ],
      "text/plain": [
       "     unnamed:_0 month                            noksales_value     date\n",
       "242        2021   nov   -700 *\\n                \\nSe annotasjon  2021-11\n",
       "243        2020   nov  -1600 *\\n                \\nSe annotasjon  2020-11\n",
       "51         2020   mar   -500 *\\n                \\nSe annotasjon  2020-03\n",
       "231        2008   oct   1400 *\\n                \\nSe annotasjon  2008-10\n",
       "116        2003   may    130 *\\n                \\nSe annotasjon  2003-05"
      ]
     },
     "execution_count": 168,
     "metadata": {},
     "output_type": "execute_result"
    }
   ],
   "source": [
    "noksales_anno"
   ]
  },
  {
   "cell_type": "code",
   "execution_count": 169,
   "metadata": {},
   "outputs": [
    {
     "data": {
      "text/html": [
       "<div>\n",
       "<style scoped>\n",
       "    .dataframe tbody tr th:only-of-type {\n",
       "        vertical-align: middle;\n",
       "    }\n",
       "\n",
       "    .dataframe tbody tr th {\n",
       "        vertical-align: top;\n",
       "    }\n",
       "\n",
       "    .dataframe thead th {\n",
       "        text-align: right;\n",
       "    }\n",
       "</style>\n",
       "<table border=\"1\" class=\"dataframe\">\n",
       "  <thead>\n",
       "    <tr style=\"text-align: right;\">\n",
       "      <th></th>\n",
       "      <th>unnamed:_0</th>\n",
       "      <th>month</th>\n",
       "      <th>noksales_value</th>\n",
       "      <th>date</th>\n",
       "    </tr>\n",
       "  </thead>\n",
       "  <tbody>\n",
       "    <tr>\n",
       "      <th>242</th>\n",
       "      <td>2021</td>\n",
       "      <td>nov</td>\n",
       "      <td>-700</td>\n",
       "      <td>2021-11</td>\n",
       "    </tr>\n",
       "    <tr>\n",
       "      <th>243</th>\n",
       "      <td>2020</td>\n",
       "      <td>nov</td>\n",
       "      <td>-1600</td>\n",
       "      <td>2020-11</td>\n",
       "    </tr>\n",
       "    <tr>\n",
       "      <th>51</th>\n",
       "      <td>2020</td>\n",
       "      <td>mar</td>\n",
       "      <td>-500</td>\n",
       "      <td>2020-03</td>\n",
       "    </tr>\n",
       "    <tr>\n",
       "      <th>231</th>\n",
       "      <td>2008</td>\n",
       "      <td>oct</td>\n",
       "      <td>1400</td>\n",
       "      <td>2008-10</td>\n",
       "    </tr>\n",
       "    <tr>\n",
       "      <th>116</th>\n",
       "      <td>2003</td>\n",
       "      <td>may</td>\n",
       "      <td>130</td>\n",
       "      <td>2003-05</td>\n",
       "    </tr>\n",
       "  </tbody>\n",
       "</table>\n",
       "</div>"
      ],
      "text/plain": [
       "     unnamed:_0 month noksales_value     date\n",
       "242        2021   nov          -700   2021-11\n",
       "243        2020   nov         -1600   2020-11\n",
       "51         2020   mar          -500   2020-03\n",
       "231        2008   oct          1400   2008-10\n",
       "116        2003   may           130   2003-05"
      ]
     },
     "execution_count": 169,
     "metadata": {},
     "output_type": "execute_result"
    }
   ],
   "source": [
    "# And remove the text part from the rows of interest # \n",
    "noksales_anno.noksales_value = noksales_anno.noksales_value.str.replace('\\s+', ' ', regex=True)\n",
    "noksales_anno.noksales_value = noksales_anno.noksales_value.str.replace('* Se annotasjon', '', regex=False)\n",
    "noksales_anno"
   ]
  },
  {
   "cell_type": "markdown",
   "metadata": {},
   "source": [
    "The text issue is removed from the separated dataframe"
   ]
  },
  {
   "cell_type": "code",
   "execution_count": 170,
   "metadata": {},
   "outputs": [],
   "source": [
    "# Let's add the adjusted rows back to the dataframe # \n",
    "noksales = pd.concat([noksales, noksales_anno])"
   ]
  },
  {
   "cell_type": "code",
   "execution_count": 171,
   "metadata": {},
   "outputs": [
    {
     "data": {
      "text/plain": [
       "(288, 4)"
      ]
     },
     "execution_count": 171,
     "metadata": {},
     "output_type": "execute_result"
    }
   ],
   "source": [
    "# And confirm the shape is still the same as before # \n",
    "noksales.shape"
   ]
  },
  {
   "cell_type": "code",
   "execution_count": 172,
   "metadata": {},
   "outputs": [
    {
     "data": {
      "text/html": [
       "<div>\n",
       "<style scoped>\n",
       "    .dataframe tbody tr th:only-of-type {\n",
       "        vertical-align: middle;\n",
       "    }\n",
       "\n",
       "    .dataframe tbody tr th {\n",
       "        vertical-align: top;\n",
       "    }\n",
       "\n",
       "    .dataframe thead th {\n",
       "        text-align: right;\n",
       "    }\n",
       "</style>\n",
       "<table border=\"1\" class=\"dataframe\">\n",
       "  <thead>\n",
       "    <tr style=\"text-align: right;\">\n",
       "      <th></th>\n",
       "      <th>unnamed:_0</th>\n",
       "      <th>month</th>\n",
       "      <th>noksales_value</th>\n",
       "      <th>date</th>\n",
       "    </tr>\n",
       "  </thead>\n",
       "  <tbody>\n",
       "    <tr>\n",
       "      <th>242</th>\n",
       "      <td>2021</td>\n",
       "      <td>nov</td>\n",
       "      <td>-700</td>\n",
       "      <td>2021-11</td>\n",
       "    </tr>\n",
       "    <tr>\n",
       "      <th>243</th>\n",
       "      <td>2020</td>\n",
       "      <td>nov</td>\n",
       "      <td>-1600</td>\n",
       "      <td>2020-11</td>\n",
       "    </tr>\n",
       "    <tr>\n",
       "      <th>51</th>\n",
       "      <td>2020</td>\n",
       "      <td>mar</td>\n",
       "      <td>-500</td>\n",
       "      <td>2020-03</td>\n",
       "    </tr>\n",
       "    <tr>\n",
       "      <th>231</th>\n",
       "      <td>2008</td>\n",
       "      <td>oct</td>\n",
       "      <td>1400</td>\n",
       "      <td>2008-10</td>\n",
       "    </tr>\n",
       "    <tr>\n",
       "      <th>116</th>\n",
       "      <td>2003</td>\n",
       "      <td>may</td>\n",
       "      <td>130</td>\n",
       "      <td>2003-05</td>\n",
       "    </tr>\n",
       "  </tbody>\n",
       "</table>\n",
       "</div>"
      ],
      "text/plain": [
       "     unnamed:_0 month noksales_value     date\n",
       "242        2021   nov          -700   2021-11\n",
       "243        2020   nov         -1600   2020-11\n",
       "51         2020   mar          -500   2020-03\n",
       "231        2008   oct          1400   2008-10\n",
       "116        2003   may           130   2003-05"
      ]
     },
     "execution_count": 172,
     "metadata": {},
     "output_type": "execute_result"
    }
   ],
   "source": [
    "# Let's finally also confirm the concatenated rows are back in the original df, cleaned\n",
    "noksales.loc[index,:]"
   ]
  },
  {
   "cell_type": "code",
   "execution_count": 173,
   "metadata": {},
   "outputs": [
    {
     "data": {
      "text/plain": [
       "1"
      ]
     },
     "execution_count": 173,
     "metadata": {},
     "output_type": "execute_result"
    }
   ],
   "source": [
    "noksales.isna().sum().sum()"
   ]
  },
  {
   "cell_type": "code",
   "execution_count": 174,
   "metadata": {},
   "outputs": [
    {
     "data": {
      "text/plain": [
       "dtype('O')"
      ]
     },
     "execution_count": 174,
     "metadata": {},
     "output_type": "execute_result"
    }
   ],
   "source": [
    "noksales.noksales_value.dtype"
   ]
  },
  {
   "cell_type": "code",
   "execution_count": 175,
   "metadata": {},
   "outputs": [],
   "source": [
    "# Finally, let's convert all the values in noksales to float\n",
    "noksales.noksales_value = noksales.noksales_value.astype(float)"
   ]
  },
  {
   "cell_type": "code",
   "execution_count": 176,
   "metadata": {},
   "outputs": [
    {
     "data": {
      "text/plain": [
       "dtype('float64')"
      ]
     },
     "execution_count": 176,
     "metadata": {},
     "output_type": "execute_result"
    }
   ],
   "source": [
    "noksales.noksales_value.dtype"
   ]
  },
  {
   "cell_type": "markdown",
   "metadata": {},
   "source": [
    "**Takeaway**: The text is removed from our dataframe and our values are converted to float. "
   ]
  },
  {
   "cell_type": "markdown",
   "metadata": {},
   "source": [
    "### Final assertion of data types "
   ]
  },
  {
   "cell_type": "code",
   "execution_count": 177,
   "metadata": {},
   "outputs": [],
   "source": [
    "# Dates # \n",
    "assert eurnok.date.dtype == 'object'\n",
    "assert brent.date.dtype == 'object'\n",
    "assert ecbpr.date.dtype == 'object'\n",
    "assert ecbi.date.dtype == 'object'\n",
    "assert norcpi.date.dtype == 'object'\n",
    "assert nbpr.date.dtype == 'object'\n",
    "assert noksales.date.dtype == 'object'\n",
    "\n",
    "# Values # \n",
    "assert eurnok.eurnok_value.dtype == 'float'\n",
    "assert brent.brent_value.dtype == 'float'\n",
    "assert ecbpr.ecbpr_value.dtype == 'float'\n",
    "assert ecbi.ecbi_value.dtype == 'float'\n",
    "assert norcpi.norcpi_value.dtype == 'float'\n",
    "assert nbpr.nbpr_value.dtype == 'float'\n",
    "assert noksales.noksales_value.dtype == 'float'"
   ]
  },
  {
   "cell_type": "markdown",
   "metadata": {},
   "source": [
    "Looks good. Note that all dates are objects again in the year-month format. That is fine for now while merging. We will create more date variations after merging. "
   ]
  },
  {
   "cell_type": "markdown",
   "metadata": {},
   "source": [
    "### **Remove unnecessary variables and combine datasets**"
   ]
  },
  {
   "cell_type": "code",
   "execution_count": 178,
   "metadata": {},
   "outputs": [],
   "source": [
    "# Let's make sure all 7 dataframes only have two columns; a date column and a value column # \n",
    "eurnok = eurnok[['date', 'eurnok_value']]\n",
    "brent = brent[['date', 'brent_value']]\n",
    "ecbpr = ecbpr[['date', 'ecbpr_value']]\n",
    "ecbi = ecbi[['date', 'ecbi_value']]\n",
    "norcpi = norcpi[['date', 'norcpi_value']]\n",
    "nbpr = nbpr[['date', 'nbpr_value']]\n",
    "noksales = noksales[['date', 'noksales_value']]"
   ]
  },
  {
   "cell_type": "code",
   "execution_count": 179,
   "metadata": {},
   "outputs": [
    {
     "name": "stdout",
     "output_type": "stream",
     "text": [
      "(287, 2)       date  eurnok_value\n",
      "0  2000-01      8.121476         date  eurnok_value\n",
      "286  2023-11     11.875867 \n",
      "\n",
      "(288, 2)       date  brent_value\n",
      "0  1999-12    25.200667         date  brent_value\n",
      "287  2023-11    83.295714 \n",
      "\n",
      "(299, 2)       date  ecbpr_value\n",
      "0  1999-01          3.0         date  ecbpr_value\n",
      "298  2023-11          4.5 \n",
      "\n",
      "(334, 2)       date  ecbi_value\n",
      "0  1996-01         NaN         date  ecbi_value\n",
      "333  2023-10         2.9 \n",
      "\n",
      "(538, 2) contents     date  norcpi_value\n",
      "0         1979-01           5.9 contents     date  norcpi_value\n",
      "537       2023-10           4.0 \n",
      "\n",
      "(287, 2)       date  nbpr_value\n",
      "0  2000-01         5.5         date  nbpr_value\n",
      "286  2023-11        4.25 \n",
      "\n",
      "(288, 2)         date  noksales_value\n",
      "264  2023-12             NaN         date  noksales_value\n",
      "116  2003-05           130.0 \n",
      "\n"
     ]
    }
   ],
   "source": [
    "# Let's also inspect the shapes and tail for a quick overview before merging # \n",
    "dflist = [eurnok, brent, ecbpr, ecbi, norcpi, nbpr, noksales]\n",
    "for data in dflist: \n",
    "    print(data.shape, data.head(1), data.tail(1), '\\n')"
   ]
  },
  {
   "cell_type": "markdown",
   "metadata": {},
   "source": [
    "**Takeaway**: All dataframes have 287 rows or more with 2 columns. \n",
    "\n",
    "**Action notes**: Let's do an outer merge on date, and remove all data prior to the year 2000. "
   ]
  },
  {
   "cell_type": "code",
   "execution_count": 180,
   "metadata": {},
   "outputs": [],
   "source": [
    "# Merging all dataframes to the df variable # \n",
    "df = eurnok.merge(brent, on='date', how='outer').merge(ecbpr, on='date', how='outer').merge(ecbi, on='date', how='outer')\n",
    "df = df.merge(norcpi, on='date', how='outer').merge(nbpr, on='date', how='outer').merge(noksales, on='date', how='outer')\n",
    "df = df.sort_values(by='date', ascending=False)\n",
    "df = df.query('date >= \"2000-01\"')"
   ]
  },
  {
   "cell_type": "markdown",
   "metadata": {},
   "source": [
    "### Post-Merge Dataframe Inspection "
   ]
  },
  {
   "cell_type": "markdown",
   "metadata": {},
   "source": [
    "Let's finally inspect our merged dataframe and create a couple of time-based columns. "
   ]
  },
  {
   "cell_type": "code",
   "execution_count": 181,
   "metadata": {},
   "outputs": [
    {
     "data": {
      "text/html": [
       "<div>\n",
       "<style scoped>\n",
       "    .dataframe tbody tr th:only-of-type {\n",
       "        vertical-align: middle;\n",
       "    }\n",
       "\n",
       "    .dataframe tbody tr th {\n",
       "        vertical-align: top;\n",
       "    }\n",
       "\n",
       "    .dataframe thead th {\n",
       "        text-align: right;\n",
       "    }\n",
       "</style>\n",
       "<table border=\"1\" class=\"dataframe\">\n",
       "  <thead>\n",
       "    <tr style=\"text-align: right;\">\n",
       "      <th></th>\n",
       "      <th>date</th>\n",
       "      <th>eurnok_value</th>\n",
       "      <th>brent_value</th>\n",
       "      <th>ecbpr_value</th>\n",
       "      <th>ecbi_value</th>\n",
       "      <th>norcpi_value</th>\n",
       "      <th>nbpr_value</th>\n",
       "      <th>noksales_value</th>\n",
       "    </tr>\n",
       "  </thead>\n",
       "  <tbody>\n",
       "    <tr>\n",
       "      <th>539</th>\n",
       "      <td>2023-12</td>\n",
       "      <td>NaN</td>\n",
       "      <td>NaN</td>\n",
       "      <td>NaN</td>\n",
       "      <td>NaN</td>\n",
       "      <td>NaN</td>\n",
       "      <td>NaN</td>\n",
       "      <td>NaN</td>\n",
       "    </tr>\n",
       "    <tr>\n",
       "      <th>286</th>\n",
       "      <td>2023-11</td>\n",
       "      <td>11.875867</td>\n",
       "      <td>83.295714</td>\n",
       "      <td>4.5</td>\n",
       "      <td>NaN</td>\n",
       "      <td>NaN</td>\n",
       "      <td>4.25</td>\n",
       "      <td>1400.0</td>\n",
       "    </tr>\n",
       "  </tbody>\n",
       "</table>\n",
       "</div>"
      ],
      "text/plain": [
       "        date  eurnok_value  brent_value  ecbpr_value  ecbi_value  \\\n",
       "539  2023-12           NaN          NaN          NaN         NaN   \n",
       "286  2023-11     11.875867    83.295714          4.5         NaN   \n",
       "\n",
       "     norcpi_value  nbpr_value  noksales_value  \n",
       "539           NaN         NaN             NaN  \n",
       "286           NaN        4.25          1400.0  "
      ]
     },
     "execution_count": 181,
     "metadata": {},
     "output_type": "execute_result"
    }
   ],
   "source": [
    "df.head(2)"
   ]
  },
  {
   "cell_type": "code",
   "execution_count": 182,
   "metadata": {},
   "outputs": [
    {
     "data": {
      "text/html": [
       "<div>\n",
       "<style scoped>\n",
       "    .dataframe tbody tr th:only-of-type {\n",
       "        vertical-align: middle;\n",
       "    }\n",
       "\n",
       "    .dataframe tbody tr th {\n",
       "        vertical-align: top;\n",
       "    }\n",
       "\n",
       "    .dataframe thead th {\n",
       "        text-align: right;\n",
       "    }\n",
       "</style>\n",
       "<table border=\"1\" class=\"dataframe\">\n",
       "  <thead>\n",
       "    <tr style=\"text-align: right;\">\n",
       "      <th></th>\n",
       "      <th>date</th>\n",
       "      <th>eurnok_value</th>\n",
       "      <th>brent_value</th>\n",
       "      <th>ecbpr_value</th>\n",
       "      <th>ecbi_value</th>\n",
       "      <th>norcpi_value</th>\n",
       "      <th>nbpr_value</th>\n",
       "      <th>noksales_value</th>\n",
       "    </tr>\n",
       "  </thead>\n",
       "  <tbody>\n",
       "    <tr>\n",
       "      <th>1</th>\n",
       "      <td>2000-02</td>\n",
       "      <td>8.099095</td>\n",
       "      <td>27.028095</td>\n",
       "      <td>3.224138</td>\n",
       "      <td>1.9</td>\n",
       "      <td>3.2</td>\n",
       "      <td>5.5</td>\n",
       "      <td>150.0</td>\n",
       "    </tr>\n",
       "    <tr>\n",
       "      <th>0</th>\n",
       "      <td>2000-01</td>\n",
       "      <td>8.121476</td>\n",
       "      <td>25.221500</td>\n",
       "      <td>3.000000</td>\n",
       "      <td>1.9</td>\n",
       "      <td>2.9</td>\n",
       "      <td>5.5</td>\n",
       "      <td>130.0</td>\n",
       "    </tr>\n",
       "  </tbody>\n",
       "</table>\n",
       "</div>"
      ],
      "text/plain": [
       "      date  eurnok_value  brent_value  ecbpr_value  ecbi_value  norcpi_value  \\\n",
       "1  2000-02      8.099095    27.028095     3.224138         1.9           3.2   \n",
       "0  2000-01      8.121476    25.221500     3.000000         1.9           2.9   \n",
       "\n",
       "   nbpr_value  noksales_value  \n",
       "1         5.5           150.0  \n",
       "0         5.5           130.0  "
      ]
     },
     "execution_count": 182,
     "metadata": {},
     "output_type": "execute_result"
    }
   ],
   "source": [
    "df.tail(2)"
   ]
  },
  {
   "cell_type": "code",
   "execution_count": 183,
   "metadata": {},
   "outputs": [
    {
     "data": {
      "text/plain": [
       "(288, 8)"
      ]
     },
     "execution_count": 183,
     "metadata": {},
     "output_type": "execute_result"
    }
   ],
   "source": [
    "df.shape"
   ]
  },
  {
   "cell_type": "code",
   "execution_count": 184,
   "metadata": {},
   "outputs": [
    {
     "data": {
      "text/plain": [
       "date              0\n",
       "eurnok_value      1\n",
       "brent_value       1\n",
       "ecbpr_value       1\n",
       "ecbi_value        2\n",
       "norcpi_value      2\n",
       "nbpr_value        1\n",
       "noksales_value    1\n",
       "dtype: int64"
      ]
     },
     "execution_count": 184,
     "metadata": {},
     "output_type": "execute_result"
    }
   ],
   "source": [
    "df.isna().sum()"
   ]
  },
  {
   "cell_type": "markdown",
   "metadata": {},
   "source": [
    "**Completeness**: Our final dataframe shows signs of completeness as expected. A couple (1-3) NaNs are expected at year-month 2023-12 and 2023-11 for certain columns. "
   ]
  },
  {
   "cell_type": "code",
   "execution_count": 185,
   "metadata": {},
   "outputs": [
    {
     "data": {
      "text/plain": [
       "date               object\n",
       "eurnok_value      float64\n",
       "brent_value       float64\n",
       "ecbpr_value       float64\n",
       "ecbi_value        float64\n",
       "norcpi_value      float64\n",
       "nbpr_value        float64\n",
       "noksales_value    float64\n",
       "dtype: object"
      ]
     },
     "execution_count": 185,
     "metadata": {},
     "output_type": "execute_result"
    }
   ],
   "source": [
    "df.dtypes"
   ]
  },
  {
   "cell_type": "code",
   "execution_count": 186,
   "metadata": {},
   "outputs": [
    {
     "data": {
      "text/html": [
       "<div>\n",
       "<style scoped>\n",
       "    .dataframe tbody tr th:only-of-type {\n",
       "        vertical-align: middle;\n",
       "    }\n",
       "\n",
       "    .dataframe tbody tr th {\n",
       "        vertical-align: top;\n",
       "    }\n",
       "\n",
       "    .dataframe thead th {\n",
       "        text-align: right;\n",
       "    }\n",
       "</style>\n",
       "<table border=\"1\" class=\"dataframe\">\n",
       "  <thead>\n",
       "    <tr style=\"text-align: right;\">\n",
       "      <th></th>\n",
       "      <th>date</th>\n",
       "      <th>eurnok_value</th>\n",
       "      <th>brent_value</th>\n",
       "      <th>ecbpr_value</th>\n",
       "      <th>ecbi_value</th>\n",
       "      <th>norcpi_value</th>\n",
       "      <th>nbpr_value</th>\n",
       "      <th>noksales_value</th>\n",
       "      <th>datetime</th>\n",
       "      <th>year</th>\n",
       "      <th>month</th>\n",
       "    </tr>\n",
       "  </thead>\n",
       "  <tbody>\n",
       "    <tr>\n",
       "      <th>539</th>\n",
       "      <td>2023-12</td>\n",
       "      <td>NaN</td>\n",
       "      <td>NaN</td>\n",
       "      <td>NaN</td>\n",
       "      <td>NaN</td>\n",
       "      <td>NaN</td>\n",
       "      <td>NaN</td>\n",
       "      <td>NaN</td>\n",
       "      <td>2023-12-01</td>\n",
       "      <td>2023</td>\n",
       "      <td>12</td>\n",
       "    </tr>\n",
       "    <tr>\n",
       "      <th>286</th>\n",
       "      <td>2023-11</td>\n",
       "      <td>11.875867</td>\n",
       "      <td>83.295714</td>\n",
       "      <td>4.5</td>\n",
       "      <td>NaN</td>\n",
       "      <td>NaN</td>\n",
       "      <td>4.25</td>\n",
       "      <td>1400.0</td>\n",
       "      <td>2023-11-01</td>\n",
       "      <td>2023</td>\n",
       "      <td>11</td>\n",
       "    </tr>\n",
       "  </tbody>\n",
       "</table>\n",
       "</div>"
      ],
      "text/plain": [
       "        date  eurnok_value  brent_value  ecbpr_value  ecbi_value  \\\n",
       "539  2023-12           NaN          NaN          NaN         NaN   \n",
       "286  2023-11     11.875867    83.295714          4.5         NaN   \n",
       "\n",
       "     norcpi_value  nbpr_value  noksales_value   datetime  year  month  \n",
       "539           NaN         NaN             NaN 2023-12-01  2023     12  \n",
       "286           NaN        4.25          1400.0 2023-11-01  2023     11  "
      ]
     },
     "execution_count": 186,
     "metadata": {},
     "output_type": "execute_result"
    }
   ],
   "source": [
    "# Let's create some additional columns to enable timeseries analysis # \n",
    "df['datetime'] = pd.to_datetime(df.date)\n",
    "df['year'] = df.datetime.dt.year\n",
    "df['month'] = df.datetime.dt.month\n",
    "df.head(2)"
   ]
  },
  {
   "cell_type": "code",
   "execution_count": 187,
   "metadata": {},
   "outputs": [
    {
     "data": {
      "text/html": [
       "<div>\n",
       "<style scoped>\n",
       "    .dataframe tbody tr th:only-of-type {\n",
       "        vertical-align: middle;\n",
       "    }\n",
       "\n",
       "    .dataframe tbody tr th {\n",
       "        vertical-align: top;\n",
       "    }\n",
       "\n",
       "    .dataframe thead th {\n",
       "        text-align: right;\n",
       "    }\n",
       "</style>\n",
       "<table border=\"1\" class=\"dataframe\">\n",
       "  <thead>\n",
       "    <tr style=\"text-align: right;\">\n",
       "      <th></th>\n",
       "      <th>eurnok_value</th>\n",
       "      <th>brent_value</th>\n",
       "      <th>ecbpr_value</th>\n",
       "      <th>ecbi_value</th>\n",
       "      <th>norcpi_value</th>\n",
       "      <th>nbpr_value</th>\n",
       "      <th>noksales_value</th>\n",
       "      <th>year</th>\n",
       "      <th>month</th>\n",
       "    </tr>\n",
       "  </thead>\n",
       "  <tbody>\n",
       "    <tr>\n",
       "      <th>count</th>\n",
       "      <td>287.000000</td>\n",
       "      <td>287.000000</td>\n",
       "      <td>287.000000</td>\n",
       "      <td>286.000000</td>\n",
       "      <td>286.00000</td>\n",
       "      <td>287.000000</td>\n",
       "      <td>287.000000</td>\n",
       "      <td>288.000000</td>\n",
       "      <td>288.000000</td>\n",
       "    </tr>\n",
       "    <tr>\n",
       "      <th>mean</th>\n",
       "      <td>8.737888</td>\n",
       "      <td>66.420027</td>\n",
       "      <td>1.567517</td>\n",
       "      <td>2.130420</td>\n",
       "      <td>2.39965</td>\n",
       "      <td>2.483616</td>\n",
       "      <td>36.829268</td>\n",
       "      <td>2011.500000</td>\n",
       "      <td>6.500000</td>\n",
       "    </tr>\n",
       "    <tr>\n",
       "      <th>std</th>\n",
       "      <td>1.069995</td>\n",
       "      <td>29.022985</td>\n",
       "      <td>1.555373</td>\n",
       "      <td>1.866101</td>\n",
       "      <td>1.49219</td>\n",
       "      <td>2.087551</td>\n",
       "      <td>859.774760</td>\n",
       "      <td>6.934236</td>\n",
       "      <td>3.458061</td>\n",
       "    </tr>\n",
       "    <tr>\n",
       "      <th>min</th>\n",
       "      <td>7.295325</td>\n",
       "      <td>19.062105</td>\n",
       "      <td>0.000000</td>\n",
       "      <td>-0.600000</td>\n",
       "      <td>-1.80000</td>\n",
       "      <td>0.000000</td>\n",
       "      <td>-2500.000000</td>\n",
       "      <td>2000.000000</td>\n",
       "      <td>1.000000</td>\n",
       "    </tr>\n",
       "    <tr>\n",
       "      <th>25%</th>\n",
       "      <td>7.949943</td>\n",
       "      <td>43.926750</td>\n",
       "      <td>0.000000</td>\n",
       "      <td>1.200000</td>\n",
       "      <td>1.42500</td>\n",
       "      <td>1.000000</td>\n",
       "      <td>-500.000000</td>\n",
       "      <td>2005.750000</td>\n",
       "      <td>3.750000</td>\n",
       "    </tr>\n",
       "    <tr>\n",
       "      <th>50%</th>\n",
       "      <td>8.255762</td>\n",
       "      <td>63.800000</td>\n",
       "      <td>1.000000</td>\n",
       "      <td>2.000000</td>\n",
       "      <td>2.10000</td>\n",
       "      <td>1.750000</td>\n",
       "      <td>0.000000</td>\n",
       "      <td>2011.500000</td>\n",
       "      <td>6.500000</td>\n",
       "    </tr>\n",
       "    <tr>\n",
       "      <th>75%</th>\n",
       "      <td>9.531264</td>\n",
       "      <td>85.663095</td>\n",
       "      <td>2.905242</td>\n",
       "      <td>2.400000</td>\n",
       "      <td>3.10000</td>\n",
       "      <td>3.471591</td>\n",
       "      <td>405.000000</td>\n",
       "      <td>2017.250000</td>\n",
       "      <td>9.250000</td>\n",
       "    </tr>\n",
       "    <tr>\n",
       "      <th>max</th>\n",
       "      <td>11.875867</td>\n",
       "      <td>134.564783</td>\n",
       "      <td>4.750000</td>\n",
       "      <td>10.600000</td>\n",
       "      <td>7.50000</td>\n",
       "      <td>7.000000</td>\n",
       "      <td>4300.000000</td>\n",
       "      <td>2023.000000</td>\n",
       "      <td>12.000000</td>\n",
       "    </tr>\n",
       "  </tbody>\n",
       "</table>\n",
       "</div>"
      ],
      "text/plain": [
       "       eurnok_value  brent_value  ecbpr_value  ecbi_value  norcpi_value  \\\n",
       "count    287.000000   287.000000   287.000000  286.000000     286.00000   \n",
       "mean       8.737888    66.420027     1.567517    2.130420       2.39965   \n",
       "std        1.069995    29.022985     1.555373    1.866101       1.49219   \n",
       "min        7.295325    19.062105     0.000000   -0.600000      -1.80000   \n",
       "25%        7.949943    43.926750     0.000000    1.200000       1.42500   \n",
       "50%        8.255762    63.800000     1.000000    2.000000       2.10000   \n",
       "75%        9.531264    85.663095     2.905242    2.400000       3.10000   \n",
       "max       11.875867   134.564783     4.750000   10.600000       7.50000   \n",
       "\n",
       "       nbpr_value  noksales_value         year       month  \n",
       "count  287.000000      287.000000   288.000000  288.000000  \n",
       "mean     2.483616       36.829268  2011.500000    6.500000  \n",
       "std      2.087551      859.774760     6.934236    3.458061  \n",
       "min      0.000000    -2500.000000  2000.000000    1.000000  \n",
       "25%      1.000000     -500.000000  2005.750000    3.750000  \n",
       "50%      1.750000        0.000000  2011.500000    6.500000  \n",
       "75%      3.471591      405.000000  2017.250000    9.250000  \n",
       "max      7.000000     4300.000000  2023.000000   12.000000  "
      ]
     },
     "execution_count": 187,
     "metadata": {},
     "output_type": "execute_result"
    }
   ],
   "source": [
    "df.describe()"
   ]
  },
  {
   "cell_type": "markdown",
   "metadata": {},
   "source": [
    "**Takeaway**: All columns are in the correct dtype. Min and max values in the dataframe are correct given the current data wrangling. However, the values do not represent the min/max values of any given time for the timeperiod but rather represent the min/max mean value for a given month. "
   ]
  },
  {
   "cell_type": "markdown",
   "metadata": {
    "id": "F42urHuzttjF"
   },
   "source": [
    "<a id='Update your data store'></a>\n",
    "## 4. Update of the data store\n",
    "Now that our tidy and analytical dataset is complete, let's save it to our local data store. "
   ]
  },
  {
   "cell_type": "code",
   "execution_count": 188,
   "metadata": {
    "id": "V3uay7EJUV_L"
   },
   "outputs": [],
   "source": [
    "# Writing our dataframe to csv # \n",
    "df.to_csv('df.csv', index=False)"
   ]
  },
  {
   "cell_type": "code",
   "execution_count": 3,
   "metadata": {},
   "outputs": [],
   "source": [
    "# The dataframe can be loaded into the environment at any time here # \n",
    "df = pd.read_csv('df.csv')"
   ]
  },
  {
   "cell_type": "markdown",
   "metadata": {},
   "source": [
    "**Takeaway**: Data is saved locally to the drive so that it can easily be loaded into the environment later. "
   ]
  },
  {
   "cell_type": "markdown",
   "metadata": {
    "id": "cGy_yddGtzhM"
   },
   "source": [
    "<a id='Answer the research question'></a>\n",
    "## 5. Answer the research question\n",
    "\n",
    "### **5.1:** Define and answer the research question \n",
    "Since our dataframe is cleaned and ready for analytical tasks, let's revisit our research question again. \n",
    "\n",
    "*\"Are there any obvious reasons of the NOK depreciation against EUR since the year 2000?\"*\n",
    "\n",
    "To decide if we can answer this question with our dataset we will produce two timeseries plots, both using EUR/NOK. For Daily NOK sales we will divide the values by a factor of 10 to make the variable plotable together with the brent price. "
   ]
  },
  {
   "cell_type": "code",
   "execution_count": 4,
   "metadata": {},
   "outputs": [],
   "source": [
    "def melt_dataframe(df):\n",
    "    ''' Function which takes as input a tidy dataframe, and filters columns of interest, renames the variable column\n",
    "    and divides noksales by a factor of 10 ready for analysis'''\n",
    "    \n",
    "    df_m = df[['eurnok_value', 'ecbpr_value', 'nbpr_value', 'ecbi_value'\n",
    "               , 'nbpr_value','norcpi_value', 'brent_value', 'noksales_value', 'year']]\n",
    "    df_m.loc[:,'noksales_value'] = df_m.loc[:,'noksales_value'] / 10\n",
    "    melted = df_m.melt(id_vars=['year'], var_name=['variable'], value_name='value')\n",
    "    melted.variable = melted.variable.str.replace('eurnok_value', 'EUR/NOK')\n",
    "    melted.variable = melted.variable.str.replace('ecbpr_value', 'European Central Bank Rate')\n",
    "    melted.variable = melted.variable.str.replace('nbpr_value', 'Norwegian Central Bank Rate')\n",
    "    melted.variable = melted.variable.str.replace('ecbi_value', 'European 12-month Inflation Rate')\n",
    "    melted.variable = melted.variable.str.replace('norcpi_value', 'Norwegian 12-month Inflation Rate')\n",
    "    melted.variable = melted.variable.str.replace('brent_value', 'BRENT')\n",
    "    melted.variable = melted.variable.str.replace('noksales_value', 'Daily NOK Sales (MNOK/10)')\n",
    "    \n",
    "    return melted"
   ]
  },
  {
   "cell_type": "code",
   "execution_count": 5,
   "metadata": {},
   "outputs": [],
   "source": [
    "melted = melt_dataframe(df)"
   ]
  },
  {
   "cell_type": "code",
   "execution_count": 6,
   "metadata": {},
   "outputs": [
    {
     "data": {
      "image/png": "[encoded data removed]",
      "text/plain": [
       "<Figure size 1600x800 with 2 Axes>"
      ]
     },
     "metadata": {},
     "output_type": "display_data"
    }
   ],
   "source": [
    "fig, ax1 = plt.subplots(figsize=(16,8))\n",
    "ax1 = sns.lineplot(data=melted.query('variable == \"EUR/NOK\"'),hue='variable'\n",
    "                   , palette=['tab:blue'], x='year', y='value', errorbar=None, ax=ax1, linewidth=3)\n",
    "legend1 = ax1.legend(loc='upper left', bbox_to_anchor=(0,1))\n",
    "ax1.set_xlabel('Year', size=12)\n",
    "ax1.set_ylabel('EUR/NOK Rate', size=12)\n",
    "ax1.set_title('EURNOK Development 2000-2023')\n",
    "\n",
    "ax2 = ax1.twinx()\n",
    "sns.lineplot(data=melted.query('variable == \"BRENT\" | variable == \"Daily NOK Sales (MNOK/10)\"'), x='year', y='value'\n",
    "             , palette='pastel', hue='variable', errorbar=None, ax=ax2, linewidth=3)\n",
    "\n",
    "ax2.legend(loc='upper left', bbox_to_anchor=(0,0.95))\n",
    "ax2.set_ylabel('Brent Rate | Daily NOK Sales', size=12);"
   ]
  },
  {
   "cell_type": "markdown",
   "metadata": {},
   "source": [
    "**Figure interpretation**: The NOK has gone up and down from year 2000 till about 2012. From that year it has depreciated steadily against EUR all the way until 2023 where it is close to a rate of 12. In that same period, the BRENT (oil price) has gone up and down from 20 to above a hundred throughout the period. NOK Sales (NOK Billion x 10) has also gone up and down in the time period. Negative values correspond to NOK \"buys\" by the Norwegian central bank, while positive values correspond to selling. \n",
    "\n",
    "Looking at these three timeseries at the same time does not give us any clear long term trend of why the NOK has depreciated steadily since 2012. Let's look at our other values and compare them to the EUR/NOK next. "
   ]
  },
  {
   "cell_type": "code",
   "execution_count": 7,
   "metadata": {},
   "outputs": [
    {
     "data": {
      "image/png": "[encoded data removed]",
      "text/plain": [
       "<Figure size 1600x800 with 2 Axes>"
      ]
     },
     "metadata": {},
     "output_type": "display_data"
    }
   ],
   "source": [
    "fig, ax1 = plt.subplots(figsize=(16,8))\n",
    "ax1 = sns.lineplot(data=melted.query('variable == \"EUR/NOK\"'),hue='variable'\n",
    "                   , palette=['tab:blue'], x='year', y='value', errorbar=None, ax=ax1, linewidth=3)\n",
    "legend1 = ax1.legend(loc='upper left', bbox_to_anchor=(0,1))\n",
    "ax1.set_xlabel('Year', size=12)\n",
    "ax1.set_ylabel('EUR/NOK Rate', size=12)\n",
    "ax1.set_title('EURNOK Development 2000-2023')\n",
    "\n",
    "ax2 = ax1.twinx()\n",
    "sns.lineplot(data=melted.query('variable != \"EUR/NOK\" & variable != \"BRENT\" & variable != \"Daily NOK Sales (MNOK/10)\"')\n",
    "             , x='year', y='value', palette='pastel', hue='variable', errorbar=None, ax=ax2, linewidth=2)\n",
    "ax2.legend(loc='upper left', bbox_to_anchor=(0,0.95))\n",
    "ax2.set_ylabel('Rates & Inflation in Euro and Norway Area', size=12); "
   ]
  },
  {
   "cell_type": "markdown",
   "metadata": {
    "id": "K5RgvMGUZoHn"
   },
   "source": [
    "**Figure interpretation**: In the figure above, The EUR/NOK rate is plotted against the norwegian and european central bank rates, as well as the norwegian and euro 12-month inflation rate. This time, we can see some co-variation between EUR/NOK and other KPIs. A higher central bank rate in Norway than in the EUR area should increase the demand for NOK (and appreciate it against the EUR). Looking at the graph, this is true some of the time, but not all the time. For example, aroundthe year 2015-2017 the difference between the NOK and the EUR central bank rate is quite substantial. Still, through this period the NOK is depreciating against the EUR. From our first figure we can see the oil price went down in the same period. A lower oil price can correspond to a weakening in the NOK, as Norway is exporting a lot of oil and gas. Hence, these two KPI-changes should give conflicting signals to the EUR/NOK rate, but there is no clear 1-sided trend as a result.\n",
    "\n",
    "Finally, to conclude, there is no clear conclusion to be drawn by these two plots. Perhaps the reason for this is that not enough variation of the EUR/NOK rate can be captured by our gathered datasets. "
   ]
  },
  {
   "cell_type": "markdown",
   "metadata": {
    "id": "0ezWXXZVj-TP"
   },
   "source": [
    "### **5.2:** Reflection\n",
    "If I had more time to complete the project, I would like to look into additional datasets of interest to explore the EUR/NOK variation further. Going more granular down to daily data and look at how daily news affects the EUR/NOK rate could also be interesting, and expand upon the exploratory data analysis. In that case I would set up more automatic data gathering methods for all datasets, and store them in a database. Automatic refresh of datsets could be interesting aswell to create real-time dashboards.    "
   ]
  }
 ],
 "metadata": {
  "colab": {
   "provenance": []
  },
  "kernelspec": {
   "display_name": "Python 3 (ipykernel)",
   "language": "python",
   "name": "python3"
  },
  "language_info": {
   "codemirror_mode": {
    "name": "ipython",
    "version": 3
   },
   "file_extension": ".py",
   "mimetype": "text/x-python",
   "name": "python",
   "nbconvert_exporter": "python",
   "pygments_lexer": "ipython3",
   "version": "3.10.10"
  }
 },
 "nbformat": 4,
 "nbformat_minor": 1
}
